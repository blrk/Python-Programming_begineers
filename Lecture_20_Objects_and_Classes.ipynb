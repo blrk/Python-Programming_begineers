{
  "nbformat": 4,
  "nbformat_minor": 0,
  "metadata": {
    "colab": {
      "name": "Lecture-20_Objects and Classes.ipynb",
      "provenance": []
    },
    "kernelspec": {
      "name": "python3",
      "display_name": "Python 3"
    },
    "language_info": {
      "name": "python"
    }
  },
  "cells": [
    {
      "cell_type": "markdown",
      "source": [
        "### Classes and Objects\n",
        "####  Some facts about Python\n",
        "* Python is an object oriented programming language.\n",
        "* Almost everything in Python is an object, with its properties and methods.\n",
        "\n",
        "#### class\n",
        "* A class is a user-defined blueprint or prototype from which objects are created. \n",
        "* Classes provide a means of bundling data and functionality together. \n",
        "* Creating a new class creates a new type of object, allowing new instances of that type to be made. \n",
        "* Each class instance can have attributes attached to it for maintaining its state. \n",
        "* Class instances can also have methods (defined by its class) for modifying its state.\n",
        "* syntax for creating a class\n",
        "```\n",
        "class <class name>(<parent class name>): \n",
        "  <method definition-1>\n",
        "  ...\n",
        "  <method definition-n>\n",
        "```\n",
        "* example 1"
      ],
      "metadata": {
        "id": "gl8wjPV3W3Ve"
      }
    },
    {
      "cell_type": "code",
      "execution_count": null,
      "metadata": {
        "id": "MMNGJ88VWk-c"
      },
      "outputs": [],
      "source": [
        "class Number: # blue print of your object\n",
        "  x = 10"
      ]
    },
    {
      "cell_type": "code",
      "source": [
        "print(x)"
      ],
      "metadata": {
        "colab": {
          "base_uri": "https://localhost:8080/",
          "height": 165
        },
        "id": "DbgdAngGc_b-",
        "outputId": "c2509928-223e-4987-8edc-dd820357698f"
      },
      "execution_count": null,
      "outputs": [
        {
          "output_type": "error",
          "ename": "NameError",
          "evalue": "ignored",
          "traceback": [
            "\u001b[0;31m---------------------------------------------------------------------------\u001b[0m",
            "\u001b[0;31mNameError\u001b[0m                                 Traceback (most recent call last)",
            "\u001b[0;32m<ipython-input-2-fc17d851ef81>\u001b[0m in \u001b[0;36m<module>\u001b[0;34m()\u001b[0m\n\u001b[0;32m----> 1\u001b[0;31m \u001b[0mprint\u001b[0m\u001b[0;34m(\u001b[0m\u001b[0mx\u001b[0m\u001b[0;34m)\u001b[0m\u001b[0;34m\u001b[0m\u001b[0;34m\u001b[0m\u001b[0m\n\u001b[0m",
            "\u001b[0;31mNameError\u001b[0m: name 'x' is not defined"
          ]
        }
      ]
    },
    {
      "cell_type": "code",
      "source": [
        "print(Number.x)"
      ],
      "metadata": {
        "colab": {
          "base_uri": "https://localhost:8080/"
        },
        "id": "wt17LiizdQ33",
        "outputId": "e7808d90-8227-44ec-c6f4-efc38a7ddcc0"
      },
      "execution_count": null,
      "outputs": [
        {
          "output_type": "stream",
          "name": "stdout",
          "text": [
            "10\n"
          ]
        }
      ]
    },
    {
      "cell_type": "code",
      "source": [
        "# black box or object \n",
        "obj1 = Number()"
      ],
      "metadata": {
        "id": "OVXiM7Wcdbim"
      },
      "execution_count": null,
      "outputs": []
    },
    {
      "cell_type": "code",
      "source": [
        "# access the property of instance / object\n",
        "print(obj1.x)"
      ],
      "metadata": {
        "colab": {
          "base_uri": "https://localhost:8080/"
        },
        "id": "coeEMhPJdzEc",
        "outputId": "8ae23794-4adc-4942-f2b1-9db205e8cd1c"
      },
      "execution_count": null,
      "outputs": [
        {
          "output_type": "stream",
          "name": "stdout",
          "text": [
            "10\n"
          ]
        }
      ]
    },
    {
      "cell_type": "markdown",
      "source": [
        "#### create a class with methods"
      ],
      "metadata": {
        "id": "o5kTpg3neEWL"
      }
    },
    {
      "cell_type": "code",
      "source": [
        "class Number1:\n",
        "  x = 10\n",
        "\n",
        "  def printNumber(self):\n",
        "    print(\"value of x:\", self.x)"
      ],
      "metadata": {
        "id": "9kjBh19beDSt"
      },
      "execution_count": null,
      "outputs": []
    },
    {
      "cell_type": "code",
      "source": [
        "printNumber()"
      ],
      "metadata": {
        "colab": {
          "base_uri": "https://localhost:8080/",
          "height": 165
        },
        "id": "qARF1xKPehYM",
        "outputId": "f698abac-c28f-4229-d1ed-2244480f4ed7"
      },
      "execution_count": null,
      "outputs": [
        {
          "output_type": "error",
          "ename": "NameError",
          "evalue": "ignored",
          "traceback": [
            "\u001b[0;31m---------------------------------------------------------------------------\u001b[0m",
            "\u001b[0;31mNameError\u001b[0m                                 Traceback (most recent call last)",
            "\u001b[0;32m<ipython-input-21-d7cfc1ea8472>\u001b[0m in \u001b[0;36m<module>\u001b[0;34m()\u001b[0m\n\u001b[0;32m----> 1\u001b[0;31m \u001b[0mprintNumber\u001b[0m\u001b[0;34m(\u001b[0m\u001b[0;34m)\u001b[0m\u001b[0;34m\u001b[0m\u001b[0;34m\u001b[0m\u001b[0m\n\u001b[0m",
            "\u001b[0;31mNameError\u001b[0m: name 'printNumber' is not defined"
          ]
        }
      ]
    },
    {
      "cell_type": "code",
      "source": [
        "Number1.printNumber()"
      ],
      "metadata": {
        "colab": {
          "base_uri": "https://localhost:8080/",
          "height": 252
        },
        "id": "pNRQE3bweqTb",
        "outputId": "1ed9e5f9-80b6-4ac7-d427-8b09871dd97f"
      },
      "execution_count": null,
      "outputs": [
        {
          "output_type": "error",
          "ename": "NameError",
          "evalue": "ignored",
          "traceback": [
            "\u001b[0;31m---------------------------------------------------------------------------\u001b[0m",
            "\u001b[0;31mNameError\u001b[0m                                 Traceback (most recent call last)",
            "\u001b[0;32m<ipython-input-22-a404d0448cdf>\u001b[0m in \u001b[0;36m<module>\u001b[0;34m()\u001b[0m\n\u001b[0;32m----> 1\u001b[0;31m \u001b[0mNumber1\u001b[0m\u001b[0;34m.\u001b[0m\u001b[0mprintNumber\u001b[0m\u001b[0;34m(\u001b[0m\u001b[0;34m)\u001b[0m\u001b[0;34m\u001b[0m\u001b[0;34m\u001b[0m\u001b[0m\n\u001b[0m",
            "\u001b[0;32m<ipython-input-20-b089fe7ce4f6>\u001b[0m in \u001b[0;36mprintNumber\u001b[0;34m()\u001b[0m\n\u001b[1;32m      3\u001b[0m \u001b[0;34m\u001b[0m\u001b[0m\n\u001b[1;32m      4\u001b[0m   \u001b[0;32mdef\u001b[0m \u001b[0mprintNumber\u001b[0m\u001b[0;34m(\u001b[0m\u001b[0;34m)\u001b[0m\u001b[0;34m:\u001b[0m\u001b[0;34m\u001b[0m\u001b[0;34m\u001b[0m\u001b[0m\n\u001b[0;32m----> 5\u001b[0;31m     \u001b[0mprint\u001b[0m\u001b[0;34m(\u001b[0m\u001b[0;34m\"value of x:\"\u001b[0m\u001b[0;34m,\u001b[0m \u001b[0mself\u001b[0m\u001b[0;34m.\u001b[0m\u001b[0mx\u001b[0m\u001b[0;34m)\u001b[0m\u001b[0;34m\u001b[0m\u001b[0;34m\u001b[0m\u001b[0m\n\u001b[0m",
            "\u001b[0;31mNameError\u001b[0m: name 'self' is not defined"
          ]
        }
      ]
    },
    {
      "cell_type": "code",
      "source": [
        "obj2 = Number1()\n",
        "obj2.printNumber()"
      ],
      "metadata": {
        "colab": {
          "base_uri": "https://localhost:8080/"
        },
        "id": "srCzAkKVe0dl",
        "outputId": "0dbd469c-8673-4dc6-f6d7-7cf9852ec6de"
      },
      "execution_count": null,
      "outputs": [
        {
          "output_type": "stream",
          "name": "stdout",
          "text": [
            "value of x: 10\n"
          ]
        }
      ]
    },
    {
      "cell_type": "markdown",
      "source": [
        "### **Why Self**\n",
        "* Class methods must have an extra first parameter in method definition. \n",
        "* We do not give a value for this parameter when we call the method, Python provides it.\n",
        "* If we have a method which takes no arguments, then we still have to have one argument.\n",
        "* It does not have to be named self , you can call it whatever you like"
      ],
      "metadata": {
        "id": "q5MAjlJHXW6R"
      }
    },
    {
      "cell_type": "code",
      "source": [
        "class Person:\n",
        "  height = 165\n",
        "  weight = 65\n",
        "\n",
        "  def printPerson(self):\n",
        "    print(\"Height:\", self.height)\n",
        "    print(\"Weight:\", self.weight)\n",
        "\n",
        "  def BMI(self):\n",
        "    print(\"BMI:\", self.height - self.weight)\n"
      ],
      "metadata": {
        "id": "orL8YdsvhqFm"
      },
      "execution_count": null,
      "outputs": []
    },
    {
      "cell_type": "code",
      "source": [
        "p1 = Person()\n",
        "p1.printPerson()\n",
        "p1.BMI()"
      ],
      "metadata": {
        "colab": {
          "base_uri": "https://localhost:8080/"
        },
        "id": "d6sK6sK5iOjf",
        "outputId": "4cc0c99a-0e1f-438d-8cc8-9ebeb09d092d"
      },
      "execution_count": null,
      "outputs": [
        {
          "output_type": "stream",
          "name": "stdout",
          "text": [
            "Height: 165\n",
            "Weight: 65\n",
            "BMI: 100\n"
          ]
        }
      ]
    },
    {
      "cell_type": "markdown",
      "source": [
        "### Docstrings\n",
        "* There might be more than one class defined in a module, each class can have a docstring that describes its purpose. \n",
        "* Add it after each method header. \n",
        "* When you enter help(classname) at a shell prompt, the interpreter prints the documentation for the class and all of its methods."
      ],
      "metadata": {
        "id": "RSeStL1tJL3s"
      }
    },
    {
      "cell_type": "code",
      "source": [
        "class Employee:\n",
        "  empID = 0\n",
        "  empName = \"\"\n",
        "\n",
        "  def setEmployee(self, empID, empName): # setter method used to assign values to the properties\n",
        "    self.empID = empID\n",
        "    self.empName = empName\n",
        "\n",
        "  def getEmployee(self): # getter method used to get the properties of an object\n",
        "    print(\"Employee ID:\", self.empID)\n",
        "    print(\"Employee Name:\", self.empName)"
      ],
      "metadata": {
        "id": "ThFa8PnbJhFk"
      },
      "execution_count": null,
      "outputs": []
    },
    {
      "cell_type": "code",
      "source": [
        "e1 = Employee() \n",
        "e1.getEmployee()"
      ],
      "metadata": {
        "colab": {
          "base_uri": "https://localhost:8080/"
        },
        "id": "h0NlWPiS2Xmc",
        "outputId": "4edb331c-820b-4ab3-9811-79f42ea74e12"
      },
      "execution_count": null,
      "outputs": [
        {
          "output_type": "stream",
          "name": "stdout",
          "text": [
            "Employee ID: 0\n",
            "Employee Name: \n"
          ]
        }
      ]
    },
    {
      "cell_type": "code",
      "source": [
        "e1.setEmployee(123, \"John\")\n",
        "e1.getEmployee()"
      ],
      "metadata": {
        "colab": {
          "base_uri": "https://localhost:8080/"
        },
        "id": "yuUSHWgS2ojW",
        "outputId": "b4b707bb-65b8-4826-fed1-7c2d0c4afab4"
      },
      "execution_count": null,
      "outputs": [
        {
          "output_type": "stream",
          "name": "stdout",
          "text": [
            "Employee ID: 123\n",
            "Employee Name: John\n"
          ]
        }
      ]
    },
    {
      "cell_type": "code",
      "source": [
        "help(Employee)"
      ],
      "metadata": {
        "colab": {
          "base_uri": "https://localhost:8080/"
        },
        "id": "lIeZPFGK3vjM",
        "outputId": "47c88f84-577a-4666-d7a1-f79632b2a1bb"
      },
      "execution_count": null,
      "outputs": [
        {
          "output_type": "stream",
          "name": "stdout",
          "text": [
            "Help on class Employee in module __main__:\n",
            "\n",
            "class Employee(builtins.object)\n",
            " |  Methods defined here:\n",
            " |  \n",
            " |  getEmployee(self)\n",
            " |  \n",
            " |  setEmployee(self, empID, empName)\n",
            " |  \n",
            " |  ----------------------------------------------------------------------\n",
            " |  Data descriptors defined here:\n",
            " |  \n",
            " |  __dict__\n",
            " |      dictionary for instance variables (if defined)\n",
            " |  \n",
            " |  __weakref__\n",
            " |      list of weak references to the object (if defined)\n",
            " |  \n",
            " |  ----------------------------------------------------------------------\n",
            " |  Data and other attributes defined here:\n",
            " |  \n",
            " |  empID = 0\n",
            " |  \n",
            " |  empName = ''\n",
            "\n"
          ]
        }
      ]
    },
    {
      "cell_type": "code",
      "source": [
        "\"\"\"\n",
        "File : Student.py\n",
        "Code to manage a student details\n",
        "\"\"\"\n",
        "class Student:\n",
        "  \"\"\" represents a student \"\"\"\n",
        "  stuID = 0\n",
        "  stuName = \"\"\n",
        "\n",
        "  def setStudent(self, stuID, stuName): \n",
        "    \"\"\" set the value of student object\"\"\"\n",
        "    self.stuID = stuID\n",
        "    self.stuName = stuName\n",
        "\n",
        "  def getStudent(self): \n",
        "    \"\"\" get the value of student \"\"\"\n",
        "    print(\"Student ID:\", self.stuID)\n",
        "    print(\"Student Name:\", self.stuName)"
      ],
      "metadata": {
        "id": "a4-hZwYE4RjA"
      },
      "execution_count": null,
      "outputs": []
    },
    {
      "cell_type": "code",
      "source": [
        "help(Student)"
      ],
      "metadata": {
        "colab": {
          "base_uri": "https://localhost:8080/"
        },
        "id": "zzBnhrnA4xDY",
        "outputId": "9287b707-2795-4d14-fc93-5fc3646a1f9c"
      },
      "execution_count": null,
      "outputs": [
        {
          "output_type": "stream",
          "name": "stdout",
          "text": [
            "Help on class Student in module __main__:\n",
            "\n",
            "class Student(builtins.object)\n",
            " |  represents a student\n",
            " |  \n",
            " |  Methods defined here:\n",
            " |  \n",
            " |  getStudent(self)\n",
            " |      get the value of student\n",
            " |  \n",
            " |  setStudent(self, stuID, stuName)\n",
            " |      set the value of student object\n",
            " |  \n",
            " |  ----------------------------------------------------------------------\n",
            " |  Data descriptors defined here:\n",
            " |  \n",
            " |  __dict__\n",
            " |      dictionary for instance variables (if defined)\n",
            " |  \n",
            " |  __weakref__\n",
            " |      list of weak references to the object (if defined)\n",
            " |  \n",
            " |  ----------------------------------------------------------------------\n",
            " |  Data and other attributes defined here:\n",
            " |  \n",
            " |  stuID = 0\n",
            " |  \n",
            " |  stuName = ''\n",
            "\n"
          ]
        }
      ]
    },
    {
      "cell_type": "markdown",
      "source": [
        "### The _ _ init _ _ Method and Instance Variables\n",
        "* Most classes include a special method named _ _ init _ _. \n",
        "* Note that _ _ init _ _ must begin and end with two consecutive underscores. \n",
        "* This method is also called the class’s constructor, because it is run automatically when a user instantiates the class\n",
        "* Example\n",
        "```\n",
        "s = Student(\"Juan\", 5)\n",
        "```\n",
        "* Python automatically runs the constructor of a class. \n",
        "* The purpose of the constructor is to initialize an individual object’s attributes\n",
        "* The _ _init_ _ method is similar to constructors in C++ and Java. \n",
        "* Constructors are used to initialize the object’s state. "
      ],
      "metadata": {
        "id": "EB9Diw66Jf72"
      }
    },
    {
      "cell_type": "code",
      "source": [
        "\"\"\"\n",
        "File : Student.py\n",
        "Code to manage a student details\n",
        "\"\"\"\n",
        "class Student:\n",
        "  \"\"\" represents a student \"\"\"\n",
        "  def __init__(self, stuName, num_sub):\n",
        "    \"\"\"constructor creates a student with the given name and \n",
        "    set all the marks to zero\"\"\"\n",
        "    self.stuName = stuName\n",
        "    self.marks = []\n",
        "    for i in range(num_sub):\n",
        "      self.marks.append(0)\n",
        "\n",
        "  def setStudent(self, stuID, stuName): \n",
        "    \"\"\" set the value of student object\"\"\"\n",
        "    self.stuID = stuID\n",
        "    self.stuName = stuName\n",
        "\n",
        "  def getStudent(self): \n",
        "    \"\"\" get the value of student \"\"\"\n",
        "    print(\"Student ID:\", self.stuName)\n",
        "    for i in range(len(self.marks)):\n",
        "      print(\"Mark \",i + 1,\":\", self.marks[i])"
      ],
      "metadata": {
        "id": "f_4EpGAsKiwc"
      },
      "execution_count": null,
      "outputs": []
    },
    {
      "cell_type": "code",
      "source": [
        "s1 = Student(\"Kevin\", 3)"
      ],
      "metadata": {
        "id": "VV9fbWFZ5x1g"
      },
      "execution_count": null,
      "outputs": []
    },
    {
      "cell_type": "code",
      "source": [
        "s1.getStudent()"
      ],
      "metadata": {
        "colab": {
          "base_uri": "https://localhost:8080/"
        },
        "id": "sVh7jfl47Zw4",
        "outputId": "d6791899-55f4-4531-ddec-f729dca4f389"
      },
      "execution_count": null,
      "outputs": [
        {
          "output_type": "stream",
          "name": "stdout",
          "text": [
            "Student ID: Kevin\n",
            "Mark  1 : 0\n",
            "Mark  2 : 0\n",
            "Mark  3 : 0\n"
          ]
        }
      ]
    },
    {
      "cell_type": "markdown",
      "source": [
        "### _ _ str()_ _ method\n",
        "* The str method is useful for a string representation of the object, either when someone codes in str(your_object), or even when someone might do print(your_object).\n",
        "* The str method is one that should be the most human-readable possible, yet also descriptive of that exact object.\n"
      ],
      "metadata": {
        "id": "kMXwcTQXXnsf"
      }
    },
    {
      "cell_type": "code",
      "source": [
        "\"\"\"\n",
        "File : Student.py\n",
        "Code to manage a student details\n",
        "\"\"\"\n",
        "class Student:\n",
        "  \"\"\" represents a student \"\"\"\n",
        "  def __init__(self, stuName, num_sub):\n",
        "    \"\"\"constructor creates a student with the given name and \n",
        "    set all the marks to zero\"\"\"\n",
        "    self.stuName = stuName\n",
        "    self.marks = []\n",
        "    for i in range(num_sub):\n",
        "      self.marks.append(0)\n",
        "\n",
        "  def setStudent(self): \n",
        "    \"\"\" set the value of student object\"\"\"\n",
        "    for i in range(len(self.marks)):\n",
        "      self.marks[i]= int(input(\"Enter the mark:\"))\n",
        "  \n",
        "  def getStudent(self): \n",
        "    \"\"\" get the value of student \"\"\"\n",
        "    print(\"Student ID:\", self.stuName)\n",
        "    for i in range(len(self.marks)):\n",
        "      print(\"Mark \",i + 1,\":\", self.marks[i])\n",
        "  \n",
        "  def __str__(self):\n",
        "    \"\"\" returns the string representation of a student\"\"\"\n",
        "    return \"Name:\" + self.stuName + \"\\n scores:\" + str(self.marks)"
      ],
      "metadata": {
        "id": "vQYVaytXLDPm"
      },
      "execution_count": null,
      "outputs": []
    },
    {
      "cell_type": "code",
      "source": [
        "s2 = Student(\"Belvin\", 3)"
      ],
      "metadata": {
        "id": "KbjCMimA-uKY"
      },
      "execution_count": null,
      "outputs": []
    },
    {
      "cell_type": "code",
      "source": [
        "s2.getStudent()"
      ],
      "metadata": {
        "colab": {
          "base_uri": "https://localhost:8080/"
        },
        "id": "wZ9S8Nzu-2IZ",
        "outputId": "fb5f2993-c9d9-42cb-da7c-13658ede2a8a"
      },
      "execution_count": null,
      "outputs": [
        {
          "output_type": "stream",
          "name": "stdout",
          "text": [
            "Student ID: Belvin\n",
            "Mark  1 : 0\n",
            "Mark  2 : 0\n",
            "Mark  3 : 0\n"
          ]
        }
      ]
    },
    {
      "cell_type": "code",
      "source": [
        "s2.setStudent()"
      ],
      "metadata": {
        "colab": {
          "base_uri": "https://localhost:8080/"
        },
        "id": "qa2MUYgv-6f5",
        "outputId": "e96f488b-45be-49be-cae2-4abb5c46c636"
      },
      "execution_count": null,
      "outputs": [
        {
          "name": "stdout",
          "output_type": "stream",
          "text": [
            "Enter the mark:89\n",
            "Enter the mark:78\n",
            "Enter the mark:76\n"
          ]
        }
      ]
    },
    {
      "cell_type": "code",
      "source": [
        "s2.getStudent()"
      ],
      "metadata": {
        "colab": {
          "base_uri": "https://localhost:8080/"
        },
        "id": "lE--y2tx_Ddd",
        "outputId": "79e41a00-5b24-4c03-a9fb-d5e23a7e2497"
      },
      "execution_count": null,
      "outputs": [
        {
          "output_type": "stream",
          "name": "stdout",
          "text": [
            "Student ID: Belvin\n",
            "Mark  1 : 89\n",
            "Mark  2 : 78\n",
            "Mark  3 : 76\n"
          ]
        }
      ]
    },
    {
      "cell_type": "code",
      "source": [
        "print(s2.__str__())"
      ],
      "metadata": {
        "colab": {
          "base_uri": "https://localhost:8080/"
        },
        "id": "GOrnq-kJAmAh",
        "outputId": "09613e61-ecca-420f-d6e4-333c29237dec"
      },
      "execution_count": null,
      "outputs": [
        {
          "output_type": "stream",
          "name": "stdout",
          "text": [
            "Name:Belvin\n",
            " scores:[89, 78, 76]\n"
          ]
        }
      ]
    },
    {
      "cell_type": "markdown",
      "source": [
        "### Accessors and Mutators\n",
        "* Methods that allow a user to observe but not change the state of an object are called accessors. \n",
        "* Methods that allow a user to modify an object’s state are called mutators. \n",
        "* The Student class has just one mutator method. \n",
        "* It allows the user to reset a test score at a given position. \n",
        "* The remaining methods are accessors. \n",
        "* Check the example below"
      ],
      "metadata": {
        "id": "jXNN7xwaLFb_"
      }
    },
    {
      "cell_type": "code",
      "source": [
        "\"\"\"\n",
        "File : Student.py\n",
        "Code to manage a student details\n",
        "\"\"\"\n",
        "class Student:\n",
        "  \"\"\" represents a student \"\"\"\n",
        "  def __init__(self, stuName, num_sub):\n",
        "    \"\"\"constructor creates a student with the given name and \n",
        "    set all the marks to zero\"\"\"\n",
        "    self.stuName = stuName\n",
        "    self.marks = []\n",
        "    for i in range(num_sub):\n",
        "      self.marks.append(0)\n",
        "\n",
        "  def setStudent(self): # Mutators\n",
        "    \"\"\" set the value of student object\"\"\"\n",
        "    for i in range(len(self.marks)):\n",
        "      self.marks[i]= int(input(\"Enter the mark:\"))\n",
        "  \n",
        "  def getStudent(self): # Accessors\n",
        "    \"\"\" get the value of student \"\"\"\n",
        "    print(\"Student ID:\", self.stuName)\n",
        "    for i in range(len(self.marks)):\n",
        "      print(\"Mark \",i + 1,\":\", self.marks[i])\n",
        "  \n",
        "  def __str__(self):\n",
        "    \"\"\" returns the string representation of a student\"\"\"\n",
        "    return \"Name:\" + self.stuName + \"\\n scores:\" + str(self.marks)"
      ],
      "metadata": {
        "id": "TT30Z5AlLUwM"
      },
      "execution_count": 1,
      "outputs": []
    },
    {
      "cell_type": "code",
      "source": [
        "s3 = Student(\"John\", 2)"
      ],
      "metadata": {
        "id": "bRPXZPJC7AUu"
      },
      "execution_count": 2,
      "outputs": []
    },
    {
      "cell_type": "code",
      "source": [
        "s3.getStudent()"
      ],
      "metadata": {
        "colab": {
          "base_uri": "https://localhost:8080/"
        },
        "id": "mOuMWdcE7UpS",
        "outputId": "9a102c47-1b79-4edf-d3ba-34493a43312f"
      },
      "execution_count": 3,
      "outputs": [
        {
          "output_type": "stream",
          "name": "stdout",
          "text": [
            "Student ID: John\n",
            "Mark  1 : 0\n",
            "Mark  2 : 0\n"
          ]
        }
      ]
    },
    {
      "cell_type": "code",
      "source": [
        "s3.setStudent()"
      ],
      "metadata": {
        "colab": {
          "base_uri": "https://localhost:8080/"
        },
        "id": "3x0VXpYf7ZFO",
        "outputId": "45827a5c-8046-46d5-fa6c-6003b5277c91"
      },
      "execution_count": 4,
      "outputs": [
        {
          "name": "stdout",
          "output_type": "stream",
          "text": [
            "Enter the mark:89\n",
            "Enter the mark:78\n"
          ]
        }
      ]
    },
    {
      "cell_type": "code",
      "source": [
        "s3.getStudent()"
      ],
      "metadata": {
        "colab": {
          "base_uri": "https://localhost:8080/"
        },
        "id": "hAkRYKI47erp",
        "outputId": "da8a35c7-582a-4886-f721-128380864aae"
      },
      "execution_count": 5,
      "outputs": [
        {
          "output_type": "stream",
          "name": "stdout",
          "text": [
            "Student ID: John\n",
            "Mark  1 : 89\n",
            "Mark  2 : 78\n"
          ]
        }
      ]
    },
    {
      "cell_type": "markdown",
      "source": [
        "### The Lifetime of Objects\n",
        "* Lifetime of an object’s instance variables is the lifetime of that object. \n",
        "* What determines the span of an object’s life? We know that an object comes into being when its class is instantiated. \n",
        "* When does an object die? In Python, an object becomes a candidate for the graveyard when the program that created it can no longer refer to it. "
      ],
      "metadata": {
        "id": "rSoO9n9YLVpg"
      }
    },
    {
      "cell_type": "code",
      "source": [
        "s3"
      ],
      "metadata": {
        "id": "fBpBNZNQaCyt",
        "colab": {
          "base_uri": "https://localhost:8080/"
        },
        "outputId": "20324634-abfa-4992-c996-50aacfaba118"
      },
      "execution_count": 6,
      "outputs": [
        {
          "output_type": "execute_result",
          "data": {
            "text/plain": [
              "<__main__.Student at 0x7f4c57e9aed0>"
            ]
          },
          "metadata": {},
          "execution_count": 6
        }
      ]
    },
    {
      "cell_type": "code",
      "source": [
        "s3 = None"
      ],
      "metadata": {
        "id": "QlLncovn8GMI"
      },
      "execution_count": 7,
      "outputs": []
    },
    {
      "cell_type": "code",
      "source": [
        "s3"
      ],
      "metadata": {
        "id": "yDbgrUI58IXv"
      },
      "execution_count": 8,
      "outputs": []
    },
    {
      "cell_type": "markdown",
      "source": [
        "### Rules of Thumb for Defining a Simple Class\n",
        "* Before writing a line of code, think about the behavior and attributes of the objects of the new class. What actions does an object perform, and how, from the external perspective of a user, do these actions access or modify the object’s state?\n",
        "* Choose an appropriate class name, and develop a short list of the methods available to users. This interface should include appropriate method names and parameter names, as well as brief descriptions of what the methods do. Avoid describing how the methods perform their tasks.\n",
        "* Write a short script that appears to use the new class in an appropriate way. The script should instantiate the class and run all of its methods. Of course, you will not be able to execute this script until you have completed the next few steps, but it will help to clarify the interface of your class and serve as an initial test bed for it.\n",
        "* Choose the appropriate data structures to represent the attributes of the class. These will be either built-in types such as integers, strings, and lists, or other programmer defined classes.\n",
        "* Fill in the class template with a constructor (an __init__ method) and an __str__ method. Remember that the constructor initializes an object’s instance variables, whereas __str__ builds a string from this information. As soon as you have defined these two methods, you can test your class by instantiating it and printing the resulting object.\n",
        "* Complete and test the remaining methods incrementally, working in a bottom-up manner. If one method depends on another, complete the second method first.\n",
        "* Remember to document your code. Include a docstring for the module, the class, and each method. Do not add docstrings as an afterthought. Write them as soon as you write a class header or a method header. Be sure to examine the results by run- ning help with the class name."
      ],
      "metadata": {
        "id": "KXOoGYHxaDH3"
      }
    },
    {
      "cell_type": "markdown",
      "source": [
        "### Home work\n",
        "* A player in the game of craps rolls a pair of dice. If the sum of the values on this initial roll is 2, 3, or 12, the player loses. If the sum is 7 or 11, the player wins. Otherwise, the player continues to roll until the sum is 7, indicating a loss, or the sum equals the initial sum, indicating a win.\n",
        "During analysis, you decide which classes of objects will be used to model the behavior of the objects in the problem domain. The classes often become evident when you consider the nouns used in the problem description. In this case, the two most significant nouns in our description of a game of craps are “player” and “dice.” Thus, the classes will be named Player and Die (the singular of “dice”).\n",
        "* Analysis also specifies the roles and responsibilities of each class. You can describe these in terms of the behavior of each object in the program. A Die object can be rolled and its value examined. That’s about it. A Player object can play a complete game of craps. During the course of this game, the player keeps track of the rolls of the dice. After a game is over, the player can be asked for a history of the rolls and for the game’s outcome. The player can then play another game, and so on.\n",
        "* A terminal-based user interface for this program prompts the user for the number of games to play. The program plays that number of games and generates and displays statistics about the results for that round of games. These results, our “study” of the game, include the number of wins, losses, rolls per win, rolls per loss, and winning percentage, for the given number of games played.\n",
        "* The program includes two functions, playOneGame and playManyGames, for convenient testing in the shell environment. \n",
        "* p = Player() -- Returns a new player object.\n",
        "* p.play() -- Plays the game and returns True if there is a win, False otherwise.\n",
        "* p.getNumberOfRolls() -- Returns the number of rolls.\n",
        "* p._ _ str _ _() -- Same as str(p). Returns a formatted string rep- resentation of the rolls.\n",
        "* d = Die() -- Returns a new die object whose initial value is 1.\n",
        "* d.roll() -- Resets the die’s value to a random number between 1 and 6.\n",
        "* d.getValue() -- Returns the die’s value.\n",
        "* d._ _ str _ _ () -- Same as str(d). Returns the string representa- tion of the die’s value.\n",
        "\n",
        "\n",
        "\n",
        "\n",
        "\n",
        "\n",
        "\n",
        "\n"
      ],
      "metadata": {
        "id": "_tlemGkDavOI"
      }
    }
  ]
}