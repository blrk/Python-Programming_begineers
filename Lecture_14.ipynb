{
  "nbformat": 4,
  "nbformat_minor": 0,
  "metadata": {
    "colab": {
      "name": "Lecture-14.ipynb",
      "provenance": []
    },
    "kernelspec": {
      "name": "python3",
      "display_name": "Python 3"
    },
    "language_info": {
      "name": "python"
    }
  },
  "cells": [
    {
      "cell_type": "markdown",
      "source": [
        "### Tuple\n",
        "* A tuple is a data structure that is an immutable, or unchangeable, ordered sequence of elements. \n",
        "* allow duplicates\n",
        "* Because tuples are immutable, their values cannot be modified.\n",
        "* how to create it"
      ],
      "metadata": {
        "id": "WK75JgvdpA0N"
      }
    },
    {
      "cell_type": "code",
      "execution_count": null,
      "metadata": {
        "id": "aghCU8_7oY6N"
      },
      "outputs": [],
      "source": [
        "t1 = ()"
      ]
    },
    {
      "cell_type": "code",
      "source": [
        "type(t1)"
      ],
      "metadata": {
        "colab": {
          "base_uri": "https://localhost:8080/"
        },
        "id": "QdfUuTjbsHWc",
        "outputId": "a0379352-6f1c-43a3-ecf8-a57d67ccf5b8"
      },
      "execution_count": null,
      "outputs": [
        {
          "output_type": "execute_result",
          "data": {
            "text/plain": [
              "tuple"
            ]
          },
          "metadata": {},
          "execution_count": 2
        }
      ]
    },
    {
      "cell_type": "code",
      "source": [
        "cloudProviders = (\"Google\", \"AWS\", \"Microsoft\")"
      ],
      "metadata": {
        "id": "UITQJMPNsPHY"
      },
      "execution_count": null,
      "outputs": []
    },
    {
      "cell_type": "code",
      "source": [
        "type(cloudProviders)"
      ],
      "metadata": {
        "colab": {
          "base_uri": "https://localhost:8080/"
        },
        "id": "8nDSbw2hsbPe",
        "outputId": "31bfb1d5-03e4-48fb-8c0b-2a895690bd2f"
      },
      "execution_count": null,
      "outputs": [
        {
          "output_type": "execute_result",
          "data": {
            "text/plain": [
              "tuple"
            ]
          },
          "metadata": {},
          "execution_count": 4
        }
      ]
    },
    {
      "cell_type": "code",
      "source": [
        "t2 = (\"apple\")"
      ],
      "metadata": {
        "id": "T_fXiKVIsxOp"
      },
      "execution_count": null,
      "outputs": []
    },
    {
      "cell_type": "code",
      "source": [
        "print(cloudProviders)"
      ],
      "metadata": {
        "colab": {
          "base_uri": "https://localhost:8080/"
        },
        "id": "bmpuke2Ds4-G",
        "outputId": "32ab3589-9d3c-41ca-93b1-ad6b58c5c02c"
      },
      "execution_count": null,
      "outputs": [
        {
          "output_type": "stream",
          "name": "stdout",
          "text": [
            "('Google', 'AWS', 'Microsoft')\n"
          ]
        }
      ]
    },
    {
      "cell_type": "markdown",
      "source": [
        "* Tuples are used for grouping data. \n",
        "* Each element or value that is inside of a tuple is called an item.\n",
        "* Tuples have values between parentheses ( ) separated by commas ,. \n",
        "* Empty tuples will appear as cloud_providers = (), but tuples with even one value must use a comma as in coral = ('blue coral',).\n",
        "* If we print() the tuple above, we’ll receive output, with the tuple still typed by parentheses\n",
        "* Example - your song playlists, your browser bookmarks, your emails, the collection of videos you can access on a streaming service, and more"
      ],
      "metadata": {
        "id": "Ja6K6g6LpSbA"
      }
    },
    {
      "cell_type": "markdown",
      "source": [
        "### Indexing Tuples\n",
        "*  As an ordered sequence of elements, each item in a tuple can be called individually, through indexing.\n",
        "* Each item corresponds to an index number, which is an integer value, starting with the index number 0."
      ],
      "metadata": {
        "id": "WTRRehH8p740"
      }
    },
    {
      "cell_type": "code",
      "source": [
        "cloudProviders(0)"
      ],
      "metadata": {
        "colab": {
          "base_uri": "https://localhost:8080/",
          "height": 165
        },
        "id": "PRuw_pa4qHUf",
        "outputId": "42f9b0ae-ea11-42ee-c760-646bc33426be"
      },
      "execution_count": null,
      "outputs": [
        {
          "output_type": "error",
          "ename": "TypeError",
          "evalue": "ignored",
          "traceback": [
            "\u001b[0;31m---------------------------------------------------------------------------\u001b[0m",
            "\u001b[0;31mTypeError\u001b[0m                                 Traceback (most recent call last)",
            "\u001b[0;32m<ipython-input-7-37f995361f9d>\u001b[0m in \u001b[0;36m<module>\u001b[0;34m()\u001b[0m\n\u001b[0;32m----> 1\u001b[0;31m \u001b[0mcloudProviders\u001b[0m\u001b[0;34m(\u001b[0m\u001b[0;36m0\u001b[0m\u001b[0;34m)\u001b[0m\u001b[0;34m\u001b[0m\u001b[0;34m\u001b[0m\u001b[0m\n\u001b[0m",
            "\u001b[0;31mTypeError\u001b[0m: 'tuple' object is not callable"
          ]
        }
      ]
    },
    {
      "cell_type": "code",
      "source": [
        "cloudProviders[0]"
      ],
      "metadata": {
        "colab": {
          "base_uri": "https://localhost:8080/",
          "height": 35
        },
        "id": "98QJhHWhthpV",
        "outputId": "341b6db6-0fdf-43b0-d6d6-70a4c047ab94"
      },
      "execution_count": null,
      "outputs": [
        {
          "output_type": "execute_result",
          "data": {
            "application/vnd.google.colaboratory.intrinsic+json": {
              "type": "string"
            },
            "text/plain": [
              "'Google'"
            ]
          },
          "metadata": {},
          "execution_count": 8
        }
      ]
    },
    {
      "cell_type": "code",
      "source": [
        "print(cloudProviders[1])\n",
        "print(cloudProviders[2])"
      ],
      "metadata": {
        "colab": {
          "base_uri": "https://localhost:8080/"
        },
        "id": "IajCXmE-tstF",
        "outputId": "81160876-27fd-4764-d734-a0a527faec18"
      },
      "execution_count": null,
      "outputs": [
        {
          "output_type": "stream",
          "name": "stdout",
          "text": [
            "AWS\n",
            "Microsoft\n"
          ]
        }
      ]
    },
    {
      "cell_type": "markdown",
      "source": [
        "#### Negative Indexing\n",
        "* Negative indexing means start from the end.\n",
        "* -1 refers to the last item, -2 refers to the second last item etc."
      ],
      "metadata": {
        "id": "v308u-9yqQUb"
      }
    },
    {
      "cell_type": "code",
      "source": [
        "cloudProviders[-1] # last item in the tuple"
      ],
      "metadata": {
        "colab": {
          "base_uri": "https://localhost:8080/",
          "height": 35
        },
        "id": "gSk_MYnQqV27",
        "outputId": "e5dfab36-2866-49e4-efc8-f5aefc10486f"
      },
      "execution_count": null,
      "outputs": [
        {
          "output_type": "execute_result",
          "data": {
            "application/vnd.google.colaboratory.intrinsic+json": {
              "type": "string"
            },
            "text/plain": [
              "'Microsoft'"
            ]
          },
          "metadata": {},
          "execution_count": 12
        }
      ]
    },
    {
      "cell_type": "code",
      "source": [
        "cloudProviders[-2] # 2nd last item"
      ],
      "metadata": {
        "colab": {
          "base_uri": "https://localhost:8080/",
          "height": 35
        },
        "id": "gR6SwBOXuMN-",
        "outputId": "0ab58b95-ec7b-467e-98e7-b47d384108da"
      },
      "execution_count": null,
      "outputs": [
        {
          "output_type": "execute_result",
          "data": {
            "application/vnd.google.colaboratory.intrinsic+json": {
              "type": "string"
            },
            "text/plain": [
              "'AWS'"
            ]
          },
          "metadata": {},
          "execution_count": 13
        }
      ]
    },
    {
      "cell_type": "code",
      "source": [
        "cloudProviders[100]"
      ],
      "metadata": {
        "colab": {
          "base_uri": "https://localhost:8080/",
          "height": 165
        },
        "id": "0WXxXoP7uS1g",
        "outputId": "d775420b-7a06-4320-edb8-849216ded019"
      },
      "execution_count": null,
      "outputs": [
        {
          "output_type": "error",
          "ename": "IndexError",
          "evalue": "ignored",
          "traceback": [
            "\u001b[0;31m---------------------------------------------------------------------------\u001b[0m",
            "\u001b[0;31mIndexError\u001b[0m                                Traceback (most recent call last)",
            "\u001b[0;32m<ipython-input-14-52a689df7b6b>\u001b[0m in \u001b[0;36m<module>\u001b[0;34m()\u001b[0m\n\u001b[0;32m----> 1\u001b[0;31m \u001b[0mcloudProviders\u001b[0m\u001b[0;34m[\u001b[0m\u001b[0;36m100\u001b[0m\u001b[0;34m]\u001b[0m\u001b[0;34m\u001b[0m\u001b[0;34m\u001b[0m\u001b[0m\n\u001b[0m",
            "\u001b[0;31mIndexError\u001b[0m: tuple index out of range"
          ]
        }
      ]
    },
    {
      "cell_type": "markdown",
      "source": [
        "#### Range of Indexes\n",
        "* You can specify a range of indexes by specifying where to start and where to end the range.\n",
        "* When specifying a range, the return value will be a new tuple with the specified items."
      ],
      "metadata": {
        "id": "F5PXTLv2qYyv"
      }
    },
    {
      "cell_type": "code",
      "source": [
        "cloudProviders[1:3]"
      ],
      "metadata": {
        "colab": {
          "base_uri": "https://localhost:8080/"
        },
        "id": "7WRQ9t4nq89n",
        "outputId": "e0440f04-b22f-4ca2-ad48-97691090d7ab"
      },
      "execution_count": null,
      "outputs": [
        {
          "output_type": "execute_result",
          "data": {
            "text/plain": [
              "('AWS', 'Microsoft')"
            ]
          },
          "metadata": {},
          "execution_count": 15
        }
      ]
    },
    {
      "cell_type": "markdown",
      "source": [
        "### Change Tuple Values\n",
        "* unchangeable or immuntable\n",
        "* any way to update it? yes, there is an wordaround\n"
      ],
      "metadata": {
        "id": "cpUSeX46q99t"
      }
    },
    {
      "cell_type": "code",
      "source": [
        "cloudProviders"
      ],
      "metadata": {
        "colab": {
          "base_uri": "https://localhost:8080/"
        },
        "id": "RLzi45w0rA0C",
        "outputId": "62fc3058-a3a4-41b9-f349-ff5ae4cef6c8"
      },
      "execution_count": null,
      "outputs": [
        {
          "output_type": "execute_result",
          "data": {
            "text/plain": [
              "('Google', 'AWS', 'Microsoft')"
            ]
          },
          "metadata": {},
          "execution_count": 16
        }
      ]
    },
    {
      "cell_type": "code",
      "source": [
        "listCP = list(cloudProviders)"
      ],
      "metadata": {
        "id": "2D9XXsr2vVxK"
      },
      "execution_count": null,
      "outputs": []
    },
    {
      "cell_type": "code",
      "source": [
        "type(listCP)"
      ],
      "metadata": {
        "colab": {
          "base_uri": "https://localhost:8080/"
        },
        "id": "R730Y20-vmjV",
        "outputId": "d7f1937a-a416-4df2-e82e-d00bea534f7d"
      },
      "execution_count": null,
      "outputs": [
        {
          "output_type": "execute_result",
          "data": {
            "text/plain": [
              "list"
            ]
          },
          "metadata": {},
          "execution_count": 18
        }
      ]
    },
    {
      "cell_type": "code",
      "source": [
        "listCP[1] = \"Digital Ocean\""
      ],
      "metadata": {
        "id": "h1qEbtXdvqJ3"
      },
      "execution_count": null,
      "outputs": []
    },
    {
      "cell_type": "code",
      "source": [
        "listCP"
      ],
      "metadata": {
        "colab": {
          "base_uri": "https://localhost:8080/"
        },
        "id": "NVW5gB3Jv0_i",
        "outputId": "58f6f6b0-74a4-4f19-8459-2ca035fc7dc9"
      },
      "execution_count": null,
      "outputs": [
        {
          "output_type": "execute_result",
          "data": {
            "text/plain": [
              "['Google', 'Digital Ocean', 'Microsoft']"
            ]
          },
          "metadata": {},
          "execution_count": 20
        }
      ]
    },
    {
      "cell_type": "code",
      "source": [
        "cloudProviders"
      ],
      "metadata": {
        "colab": {
          "base_uri": "https://localhost:8080/"
        },
        "id": "aBo-EOlov5aJ",
        "outputId": "f1c9bd43-04bd-438f-bc5f-8e0a245c9a20"
      },
      "execution_count": null,
      "outputs": [
        {
          "output_type": "execute_result",
          "data": {
            "text/plain": [
              "('Google', 'AWS', 'Microsoft')"
            ]
          },
          "metadata": {},
          "execution_count": 21
        }
      ]
    },
    {
      "cell_type": "code",
      "source": [
        "cloudProviders = tuple(listCP)"
      ],
      "metadata": {
        "id": "MzjYEfxkv-ed"
      },
      "execution_count": null,
      "outputs": []
    },
    {
      "cell_type": "code",
      "source": [
        "cloudProviders"
      ],
      "metadata": {
        "colab": {
          "base_uri": "https://localhost:8080/"
        },
        "id": "HQHsUchwwDlW",
        "outputId": "471aeb91-21f5-4842-9aef-47b85e9aecc2"
      },
      "execution_count": null,
      "outputs": [
        {
          "output_type": "execute_result",
          "data": {
            "text/plain": [
              "('Google', 'Digital Ocean', 'Microsoft')"
            ]
          },
          "metadata": {},
          "execution_count": 23
        }
      ]
    },
    {
      "cell_type": "markdown",
      "source": [
        "### Add items\n",
        "* adding an item to the tuple"
      ],
      "metadata": {
        "id": "iL32ExrOwG5Y"
      }
    },
    {
      "cell_type": "code",
      "source": [
        "cloudProviders.append(\"AWS\")"
      ],
      "metadata": {
        "colab": {
          "base_uri": "https://localhost:8080/",
          "height": 165
        },
        "id": "jrXt_zk6wPpb",
        "outputId": "2202a5e9-6888-4fb7-817f-1a956e14007f"
      },
      "execution_count": null,
      "outputs": [
        {
          "output_type": "error",
          "ename": "AttributeError",
          "evalue": "ignored",
          "traceback": [
            "\u001b[0;31m---------------------------------------------------------------------------\u001b[0m",
            "\u001b[0;31mAttributeError\u001b[0m                            Traceback (most recent call last)",
            "\u001b[0;32m<ipython-input-24-962ed0464e11>\u001b[0m in \u001b[0;36m<module>\u001b[0;34m()\u001b[0m\n\u001b[0;32m----> 1\u001b[0;31m \u001b[0mcloudProviders\u001b[0m\u001b[0;34m.\u001b[0m\u001b[0mappend\u001b[0m\u001b[0;34m(\u001b[0m\u001b[0;34m\"AWS\"\u001b[0m\u001b[0;34m)\u001b[0m\u001b[0;34m\u001b[0m\u001b[0;34m\u001b[0m\u001b[0m\n\u001b[0m",
            "\u001b[0;31mAttributeError\u001b[0m: 'tuple' object has no attribute 'append'"
          ]
        }
      ]
    },
    {
      "cell_type": "code",
      "source": [
        "listCP = list(cloudProviders)\n",
        "listCP.append(\"AWS\")\n",
        "print(listCP)\n",
        "cloudProviders = tuple(listCP)"
      ],
      "metadata": {
        "colab": {
          "base_uri": "https://localhost:8080/"
        },
        "id": "Cma9NNuuwgpd",
        "outputId": "6f215d8f-709a-48d7-ccd2-228fa52a8321"
      },
      "execution_count": null,
      "outputs": [
        {
          "output_type": "stream",
          "name": "stdout",
          "text": [
            "['Google', 'Digital Ocean', 'Microsoft', 'AWS']\n"
          ]
        }
      ]
    },
    {
      "cell_type": "code",
      "source": [
        "cloudProviders"
      ],
      "metadata": {
        "colab": {
          "base_uri": "https://localhost:8080/"
        },
        "id": "fWXKyRNMwya_",
        "outputId": "69b11705-53f0-4b57-f571-0f308fba5bce"
      },
      "execution_count": null,
      "outputs": [
        {
          "output_type": "execute_result",
          "data": {
            "text/plain": [
              "('Google', 'Digital Ocean', 'Microsoft', 'AWS')"
            ]
          },
          "metadata": {},
          "execution_count": 27
        }
      ]
    },
    {
      "cell_type": "code",
      "source": [
        "provider = (\"Rackspace\")\n",
        "cloudProviders += provider\n",
        "print(cloudProviders)"
      ],
      "metadata": {
        "colab": {
          "base_uri": "https://localhost:8080/",
          "height": 200
        },
        "id": "-5anZo4ew50x",
        "outputId": "b7b937cf-82c0-42fd-b62b-dfb16330f398"
      },
      "execution_count": null,
      "outputs": [
        {
          "output_type": "error",
          "ename": "TypeError",
          "evalue": "ignored",
          "traceback": [
            "\u001b[0;31m---------------------------------------------------------------------------\u001b[0m",
            "\u001b[0;31mTypeError\u001b[0m                                 Traceback (most recent call last)",
            "\u001b[0;32m<ipython-input-28-be52f5031f01>\u001b[0m in \u001b[0;36m<module>\u001b[0;34m()\u001b[0m\n\u001b[1;32m      1\u001b[0m \u001b[0mprovider\u001b[0m \u001b[0;34m=\u001b[0m \u001b[0;34m(\u001b[0m\u001b[0;34m\"Rackspace\"\u001b[0m\u001b[0;34m)\u001b[0m\u001b[0;34m\u001b[0m\u001b[0;34m\u001b[0m\u001b[0m\n\u001b[0;32m----> 2\u001b[0;31m \u001b[0mcloudProviders\u001b[0m \u001b[0;34m+=\u001b[0m \u001b[0mprovider\u001b[0m\u001b[0;34m\u001b[0m\u001b[0;34m\u001b[0m\u001b[0m\n\u001b[0m\u001b[1;32m      3\u001b[0m \u001b[0mprint\u001b[0m\u001b[0;34m(\u001b[0m\u001b[0mcloudProviders\u001b[0m\u001b[0;34m)\u001b[0m\u001b[0;34m\u001b[0m\u001b[0;34m\u001b[0m\u001b[0m\n",
            "\u001b[0;31mTypeError\u001b[0m: can only concatenate tuple (not \"str\") to tuple"
          ]
        }
      ]
    },
    {
      "cell_type": "code",
      "source": [
        "provider = (\"Rackspace\",)\n",
        "type(provider)\n",
        "cloudProviders += provider\n",
        "print(cloudProviders)"
      ],
      "metadata": {
        "colab": {
          "base_uri": "https://localhost:8080/"
        },
        "id": "r4WHgku4xUZd",
        "outputId": "1e5ba25b-979b-49ab-d019-fe68d17346f2"
      },
      "execution_count": null,
      "outputs": [
        {
          "output_type": "stream",
          "name": "stdout",
          "text": [
            "('Google', 'Digital Ocean', 'Microsoft', 'AWS', 'Rackspace')\n"
          ]
        }
      ]
    },
    {
      "cell_type": "markdown",
      "source": [
        "### Remove items"
      ],
      "metadata": {
        "id": "V-_Zd0l7xzeP"
      }
    },
    {
      "cell_type": "code",
      "source": [
        "listCP = list(cloudProviders)\n",
        "listCP.remove(\"AWS\") # function from the list\n",
        "cloudProviders = tuple(listCP)\n",
        "print(cloudProviders)"
      ],
      "metadata": {
        "colab": {
          "base_uri": "https://localhost:8080/"
        },
        "id": "5_jFS44Xx275",
        "outputId": "95d8b952-d982-4ee5-c2d9-86fd2f730e9d"
      },
      "execution_count": null,
      "outputs": [
        {
          "output_type": "stream",
          "name": "stdout",
          "text": [
            "('Google', 'Digital Ocean', 'Microsoft', 'Rackspace')\n"
          ]
        }
      ]
    },
    {
      "cell_type": "code",
      "source": [
        "del cloudProviders"
      ],
      "metadata": {
        "id": "g-_2dlr2yWLX"
      },
      "execution_count": null,
      "outputs": []
    },
    {
      "cell_type": "code",
      "source": [
        "cloudProviders"
      ],
      "metadata": {
        "colab": {
          "base_uri": "https://localhost:8080/",
          "height": 165
        },
        "id": "8OH5r-Qvyc3m",
        "outputId": "1eda889f-f906-4993-ca18-53ae0d9b95f6"
      },
      "execution_count": null,
      "outputs": [
        {
          "output_type": "error",
          "ename": "NameError",
          "evalue": "ignored",
          "traceback": [
            "\u001b[0;31m---------------------------------------------------------------------------\u001b[0m",
            "\u001b[0;31mNameError\u001b[0m                                 Traceback (most recent call last)",
            "\u001b[0;32m<ipython-input-34-3964aedf9b3d>\u001b[0m in \u001b[0;36m<module>\u001b[0;34m()\u001b[0m\n\u001b[0;32m----> 1\u001b[0;31m \u001b[0mcloudProviders\u001b[0m\u001b[0;34m\u001b[0m\u001b[0;34m\u001b[0m\u001b[0m\n\u001b[0m",
            "\u001b[0;31mNameError\u001b[0m: name 'cloudProviders' is not defined"
          ]
        }
      ]
    },
    {
      "cell_type": "markdown",
      "source": [
        "### Unpacking a tuple\n",
        "* assigning value while creating a tuple is refered as packing"
      ],
      "metadata": {
        "id": "dT_-CcEUyjIw"
      }
    },
    {
      "cell_type": "code",
      "source": [
        "cloudProviders = ('Google', 'Digital Ocean', 'Microsoft', 'Rackspace') # packing"
      ],
      "metadata": {
        "id": "_hpvoO8AyyJH"
      },
      "execution_count": null,
      "outputs": []
    },
    {
      "cell_type": "code",
      "source": [
        "p1, p2, p3, p4 = cloudProviders # unpacking"
      ],
      "metadata": {
        "id": "SPd4E1B4y6VO"
      },
      "execution_count": null,
      "outputs": []
    },
    {
      "cell_type": "code",
      "source": [
        "print(p1)\n",
        "print(p2)\n",
        "print(p3)\n",
        "print(p4)"
      ],
      "metadata": {
        "colab": {
          "base_uri": "https://localhost:8080/"
        },
        "id": "nufv0FmKzFw5",
        "outputId": "c0f98ef4-4f46-4606-d7c5-74f4544ee960"
      },
      "execution_count": null,
      "outputs": [
        {
          "output_type": "stream",
          "name": "stdout",
          "text": [
            "Google\n",
            "Digital Ocean\n",
            "Microsoft\n",
            "Rackspace\n"
          ]
        }
      ]
    },
    {
      "cell_type": "markdown",
      "source": [
        "### Usage of asterisk (*)\n",
        "* if the number of variables is < the number of items\n",
        "* you can add * to any one of the variable name\n",
        "* in that variable values are assigned as list"
      ],
      "metadata": {
        "id": "BjJGGlFOzf6d"
      }
    },
    {
      "cell_type": "code",
      "source": [
        "p1, p2, p3 = cloudProviders # unpacking"
      ],
      "metadata": {
        "colab": {
          "base_uri": "https://localhost:8080/",
          "height": 165
        },
        "id": "WiWP5VNizX-0",
        "outputId": "4dcbb893-27f9-40f7-e7fe-432f4cc75d2f"
      },
      "execution_count": null,
      "outputs": [
        {
          "output_type": "error",
          "ename": "ValueError",
          "evalue": "ignored",
          "traceback": [
            "\u001b[0;31m---------------------------------------------------------------------------\u001b[0m",
            "\u001b[0;31mValueError\u001b[0m                                Traceback (most recent call last)",
            "\u001b[0;32m<ipython-input-38-b393ffafb88b>\u001b[0m in \u001b[0;36m<module>\u001b[0;34m()\u001b[0m\n\u001b[0;32m----> 1\u001b[0;31m \u001b[0mp1\u001b[0m\u001b[0;34m,\u001b[0m \u001b[0mp2\u001b[0m\u001b[0;34m,\u001b[0m \u001b[0mp3\u001b[0m \u001b[0;34m=\u001b[0m \u001b[0mcloudProviders\u001b[0m \u001b[0;31m# unpacking\u001b[0m\u001b[0;34m\u001b[0m\u001b[0;34m\u001b[0m\u001b[0m\n\u001b[0m",
            "\u001b[0;31mValueError\u001b[0m: too many values to unpack (expected 3)"
          ]
        }
      ]
    },
    {
      "cell_type": "code",
      "source": [
        "p1, p2, *p3 = cloudProviders # unpacking"
      ],
      "metadata": {
        "id": "tLfCHLYzzzuw"
      },
      "execution_count": null,
      "outputs": []
    },
    {
      "cell_type": "code",
      "source": [
        "print(p1)\n",
        "print(p2)\n",
        "print(p3)"
      ],
      "metadata": {
        "colab": {
          "base_uri": "https://localhost:8080/"
        },
        "id": "Zph7RQQOz4AA",
        "outputId": "00d7483f-ff6f-4834-85e5-2d97d52641bb"
      },
      "execution_count": null,
      "outputs": [
        {
          "output_type": "stream",
          "name": "stdout",
          "text": [
            "Google\n",
            "Digital Ocean\n",
            "['Microsoft', 'Rackspace']\n"
          ]
        }
      ]
    },
    {
      "cell_type": "code",
      "source": [
        "type(p3)"
      ],
      "metadata": {
        "colab": {
          "base_uri": "https://localhost:8080/"
        },
        "id": "RUf3tMbez-3t",
        "outputId": "f79473a5-2a04-4452-f82a-5adc6486c4e7"
      },
      "execution_count": null,
      "outputs": [
        {
          "output_type": "execute_result",
          "data": {
            "text/plain": [
              "list"
            ]
          },
          "metadata": {},
          "execution_count": 41
        }
      ]
    },
    {
      "cell_type": "code",
      "source": [
        "p1, *p2, p3 = cloudProviders # unpacking"
      ],
      "metadata": {
        "id": "H5y0Gpo90Dl2"
      },
      "execution_count": null,
      "outputs": []
    },
    {
      "cell_type": "code",
      "source": [
        "print(p1)\n",
        "print(p2)\n",
        "print(p3)"
      ],
      "metadata": {
        "colab": {
          "base_uri": "https://localhost:8080/"
        },
        "id": "uQ4UPhEW0IJX",
        "outputId": "bd7201bf-e6b1-4e98-c9c1-41a4cc3daf27"
      },
      "execution_count": null,
      "outputs": [
        {
          "output_type": "stream",
          "name": "stdout",
          "text": [
            "Google\n",
            "['Digital Ocean', 'Microsoft']\n",
            "Rackspace\n"
          ]
        }
      ]
    },
    {
      "cell_type": "markdown",
      "source": [
        "### Looping tuples"
      ],
      "metadata": {
        "id": "HfH4xa5K0uiO"
      }
    },
    {
      "cell_type": "code",
      "source": [
        "cloudProviders"
      ],
      "metadata": {
        "colab": {
          "base_uri": "https://localhost:8080/"
        },
        "id": "VP68UcL60xXP",
        "outputId": "79c326ce-beb4-4c84-f01b-53c1283738ec"
      },
      "execution_count": null,
      "outputs": [
        {
          "output_type": "execute_result",
          "data": {
            "text/plain": [
              "('Google', 'Digital Ocean', 'Microsoft', 'Rackspace')"
            ]
          },
          "metadata": {},
          "execution_count": 44
        }
      ]
    },
    {
      "cell_type": "code",
      "source": [
        "for item in cloudProviders:\n",
        "  print(item)"
      ],
      "metadata": {
        "colab": {
          "base_uri": "https://localhost:8080/"
        },
        "id": "penYMihg01An",
        "outputId": "f96650b1-232a-4540-800e-1d92c779c4e1"
      },
      "execution_count": null,
      "outputs": [
        {
          "output_type": "stream",
          "name": "stdout",
          "text": [
            "Google\n",
            "Digital Ocean\n",
            "Microsoft\n",
            "Rackspace\n"
          ]
        }
      ]
    },
    {
      "cell_type": "code",
      "source": [
        "for i in range(len(cloudProviders)):\n",
        "  print(cloudProviders[i])"
      ],
      "metadata": {
        "colab": {
          "base_uri": "https://localhost:8080/"
        },
        "id": "xYCC5VZt09zi",
        "outputId": "691d7f16-dd6b-4f6a-ee2e-aeb6094b898e"
      },
      "execution_count": null,
      "outputs": [
        {
          "output_type": "stream",
          "name": "stdout",
          "text": [
            "Google\n",
            "Digital Ocean\n",
            "Microsoft\n",
            "Rackspace\n"
          ]
        }
      ]
    },
    {
      "cell_type": "markdown",
      "source": [
        "### Joining of tuples"
      ],
      "metadata": {
        "id": "EJpT8-1P1Ohj"
      }
    },
    {
      "cell_type": "code",
      "source": [
        "cloudProviders"
      ],
      "metadata": {
        "colab": {
          "base_uri": "https://localhost:8080/"
        },
        "id": "RImAiy4m1Ngd",
        "outputId": "2cc1573c-641c-4217-c05b-26e53e10c1c0"
      },
      "execution_count": null,
      "outputs": [
        {
          "output_type": "execute_result",
          "data": {
            "text/plain": [
              "('Google', 'Digital Ocean', 'Microsoft', 'Rackspace')"
            ]
          },
          "metadata": {},
          "execution_count": 47
        }
      ]
    },
    {
      "cell_type": "code",
      "source": [
        "ranking = (1, 2, 3, 4)"
      ],
      "metadata": {
        "id": "e7amvZY81XGr"
      },
      "execution_count": null,
      "outputs": []
    },
    {
      "cell_type": "code",
      "source": [
        "cloudRanking = cloudProviders + ranking"
      ],
      "metadata": {
        "id": "n24gumzX1d9l"
      },
      "execution_count": null,
      "outputs": []
    },
    {
      "cell_type": "code",
      "source": [
        "cloudRanking"
      ],
      "metadata": {
        "colab": {
          "base_uri": "https://localhost:8080/"
        },
        "id": "knNn7-6e1mNV",
        "outputId": "1bdc7891-37f7-41c4-8098-373b63647535"
      },
      "execution_count": null,
      "outputs": [
        {
          "output_type": "execute_result",
          "data": {
            "text/plain": [
              "('Google', 'Digital Ocean', 'Microsoft', 'Rackspace', 1, 2, 3, 4)"
            ]
          },
          "metadata": {},
          "execution_count": 50
        }
      ]
    },
    {
      "cell_type": "code",
      "source": [
        "multuple = ranking * 3 #multiply tuple"
      ],
      "metadata": {
        "id": "DCn4ojxg1qbL"
      },
      "execution_count": null,
      "outputs": []
    },
    {
      "cell_type": "code",
      "source": [
        "multuple"
      ],
      "metadata": {
        "colab": {
          "base_uri": "https://localhost:8080/"
        },
        "id": "QwqG4QA3119p",
        "outputId": "13e71b74-7074-4aab-c285-7d3eee0f6289"
      },
      "execution_count": null,
      "outputs": [
        {
          "output_type": "execute_result",
          "data": {
            "text/plain": [
              "(1, 2, 3, 4, 1, 2, 3, 4, 1, 2, 3, 4)"
            ]
          },
          "metadata": {},
          "execution_count": 53
        }
      ]
    },
    {
      "cell_type": "code",
      "source": [
        "providers = cloudProviders* 2\n",
        "providers"
      ],
      "metadata": {
        "colab": {
          "base_uri": "https://localhost:8080/"
        },
        "id": "DxwBv3LH19op",
        "outputId": "f7e869ec-f5a5-40ec-91cf-b965a67d6007"
      },
      "execution_count": null,
      "outputs": [
        {
          "output_type": "execute_result",
          "data": {
            "text/plain": [
              "('Google',\n",
              " 'Digital Ocean',\n",
              " 'Microsoft',\n",
              " 'Rackspace',\n",
              " 'Google',\n",
              " 'Digital Ocean',\n",
              " 'Microsoft',\n",
              " 'Rackspace')"
            ]
          },
          "metadata": {},
          "execution_count": 54
        }
      ]
    },
    {
      "cell_type": "markdown",
      "source": [
        "### Methods in tuple\n",
        "* count() - returns the number of times a specific value occures\n",
        "* index() - searches the tuple for a specified value and return the position"
      ],
      "metadata": {
        "id": "ZgddBVwK2I0b"
      }
    },
    {
      "cell_type": "code",
      "source": [
        "cloudProviders.count(\"Google\")"
      ],
      "metadata": {
        "colab": {
          "base_uri": "https://localhost:8080/"
        },
        "id": "a-TzamVZ2G4u",
        "outputId": "467dceda-efbd-4bcd-becb-6d7157a0745b"
      },
      "execution_count": null,
      "outputs": [
        {
          "output_type": "execute_result",
          "data": {
            "text/plain": [
              "1"
            ]
          },
          "metadata": {},
          "execution_count": 60
        }
      ]
    },
    {
      "cell_type": "code",
      "source": [
        "cloudProviders.index(\"Rackspace\")"
      ],
      "metadata": {
        "colab": {
          "base_uri": "https://localhost:8080/"
        },
        "id": "5_J64fhX3CyV",
        "outputId": "1787bf70-6745-4006-b208-a72c0ab28222"
      },
      "execution_count": null,
      "outputs": [
        {
          "output_type": "execute_result",
          "data": {
            "text/plain": [
              "3"
            ]
          },
          "metadata": {},
          "execution_count": 64
        }
      ]
    }
  ]
}