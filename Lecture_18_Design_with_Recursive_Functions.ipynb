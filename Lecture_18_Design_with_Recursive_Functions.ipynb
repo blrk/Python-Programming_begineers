{
  "nbformat": 4,
  "nbformat_minor": 0,
  "metadata": {
    "colab": {
      "name": "Lecture-18_Design with Recursive Functions.ipynb",
      "provenance": []
    },
    "kernelspec": {
      "name": "python3",
      "display_name": "Python 3"
    },
    "language_info": {
      "name": "python"
    }
  },
  "cells": [
    {
      "cell_type": "code",
      "source": [
        "# sum of a serires 1 + 2 + 3 + ... + n\n",
        "def sumSeries(start, end):\n",
        "  res = 0\n",
        "  while start <= end:\n",
        "    res += start\n",
        "    start += 1\n",
        "  return res"
      ],
      "metadata": {
        "id": "xFbkFyGULJZD"
      },
      "execution_count": null,
      "outputs": []
    },
    {
      "cell_type": "code",
      "source": [
        "sumSeries(1, 10)"
      ],
      "metadata": {
        "colab": {
          "base_uri": "https://localhost:8080/"
        },
        "id": "PvCr-Wz3yP4J",
        "outputId": "5fb7b006-aad4-426f-ca67-3ed51d159401"
      },
      "execution_count": null,
      "outputs": [
        {
          "output_type": "execute_result",
          "data": {
            "text/plain": [
              "55"
            ]
          },
          "metadata": {},
          "execution_count": 5
        }
      ]
    },
    {
      "cell_type": "code",
      "source": [
        "round(99.876)"
      ],
      "metadata": {
        "colab": {
          "base_uri": "https://localhost:8080/"
        },
        "id": "xWWFoQwuyZvA",
        "outputId": "ea4dac31-f081-4e47-c326-b148c5cc1104"
      },
      "execution_count": null,
      "outputs": [
        {
          "output_type": "execute_result",
          "data": {
            "text/plain": [
              "100"
            ]
          },
          "metadata": {},
          "execution_count": 6
        }
      ]
    },
    {
      "cell_type": "markdown",
      "source": [
        "### Quick review of functions\n",
        "* Functions as Abstraction Mechanisms\n",
        "  * an abstraction hides detail and thus allows a person to view many things as just one thing. \n",
        "* Functions Eliminate Redundancy\n",
        "  * functions serve as abstraction mechanisms is by eliminating redundant, or repetitious, code. \n",
        "  * To explore the concept of redundancy, let’s recall the function discussed above sum we implemented in the previous lecture\n",
        "* Functions Hide Complexity\n",
        "  * functions serve as abstraction mechanisms is by hiding complicated details. \n",
        "  * To understand why this is true, let’s return to the summ function. \n",
        "  * Although the idea of summing a range of numbers is simple, the code for computing a summation is not. \n",
        "  * There are three variables to manipulate, as well as count controlled loop logic to construct.\n",
        "* Functions Support General Methods with Systematic Variations\n",
        "  * An algorithm is a general method for solving a class of problems. \n",
        "  * The individual problems that make up a class of problems are known as problem instances. \n",
        "  * The problem instances for our summation algorithm are the pairs of numbers that specify the start and end values of the range of numbers to be summed. \n",
        "* Functions Support the Division of Labor\n",
        "  * functions can enforce a division of labor. \n",
        "  * Ideally, each function performs a single coherent task, such as computing a summation or formatting a table of data for output. \n",
        "  * Each function is responsible for using certain data, computing certain results, and returning these to the parts of the program that requested them. \n",
        "  * Each of the tasks required by a system can be assigned to a function, including the tasks of managing or coordinating the use of other functions."
      ],
      "metadata": {
        "id": "e_qaVhcitJvb"
      }
    },
    {
      "cell_type": "code",
      "execution_count": null,
      "metadata": {
        "id": "tFNaJOb3tFjm"
      },
      "outputs": [],
      "source": [
        ""
      ]
    },
    {
      "cell_type": "markdown",
      "source": [
        "### Home work\n",
        "* Design a simple calculator using functions\n",
        "* Show a menu of operations using looping statement"
      ],
      "metadata": {
        "id": "gQ455wt3t9qY"
      }
    },
    {
      "cell_type": "markdown",
      "source": [
        "### Design with recursive Functions\n",
        "* In top-down design, we decompose a complex problem into a set of simpler problems and solve these with different functions. \n",
        "* In some cases, you can decompose a complex problem into smaller problems of the same form. \n",
        "* In these cases, the subproblems can all be solved by using the same function. \n",
        "* This design strategy is called recursive design, and the resulting functions are called recursive functions."
      ],
      "metadata": {
        "id": "cSRN7eXmtqNC"
      }
    },
    {
      "cell_type": "code",
      "source": [
        "def printRange(start, end):\n",
        "  while start <= end:\n",
        "    print(start)\n",
        "    start += 1"
      ],
      "metadata": {
        "id": "Ee6Sd0sXuPrB"
      },
      "execution_count": null,
      "outputs": []
    },
    {
      "cell_type": "code",
      "source": [
        "printRange(1, 10)"
      ],
      "metadata": {
        "colab": {
          "base_uri": "https://localhost:8080/"
        },
        "id": "PCZwKdpL0tC4",
        "outputId": "ede7b319-1821-4792-ee61-4369b0a249ef"
      },
      "execution_count": null,
      "outputs": [
        {
          "output_type": "stream",
          "name": "stdout",
          "text": [
            "1\n",
            "2\n",
            "3\n",
            "4\n",
            "5\n",
            "6\n",
            "7\n",
            "8\n",
            "9\n",
            "10\n"
          ]
        }
      ]
    },
    {
      "cell_type": "markdown",
      "source": [
        "### Defining a Recursive Function\n",
        "* A recursive function is a function that calls itself. \n",
        "* To prevent a function from repeating itself indefinitely, it must contain at least one selection statement. \n",
        "* This statement examines a condition called a base case to determine whether to stop or to continue with another recursive step."
      ],
      "metadata": {
        "id": "6DX6ZwYruSb5"
      }
    },
    {
      "cell_type": "code",
      "source": [
        "def printRange(start, end):\n",
        "  if start <= end:\n",
        "    print(start)\n",
        "    printRange(start + 1, end)"
      ],
      "metadata": {
        "id": "KhEqDUc1M-BZ"
      },
      "execution_count": null,
      "outputs": []
    },
    {
      "cell_type": "code",
      "source": [
        "printRange(1, 10)"
      ],
      "metadata": {
        "colab": {
          "base_uri": "https://localhost:8080/"
        },
        "id": "kn1SvPOI2lpM",
        "outputId": "c20f7071-8e42-430b-9141-9c55def8f2b0"
      },
      "execution_count": null,
      "outputs": [
        {
          "output_type": "stream",
          "name": "stdout",
          "text": [
            "1\n",
            "2\n",
            "3\n",
            "4\n",
            "5\n",
            "6\n",
            "7\n",
            "8\n",
            "9\n",
            "10\n"
          ]
        }
      ]
    },
    {
      "cell_type": "code",
      "source": [
        "def sumSeries1(start, end):\n",
        "  if start > end:\n",
        "    return 0\n",
        "  else:\n",
        "    return start + sumSeries(start + 1, end)"
      ],
      "metadata": {
        "id": "51o6TwFG3oCr"
      },
      "execution_count": null,
      "outputs": []
    },
    {
      "cell_type": "code",
      "source": [
        "sumSeries1(1, 10)"
      ],
      "metadata": {
        "colab": {
          "base_uri": "https://localhost:8080/"
        },
        "id": "M-E4VasD4T_G",
        "outputId": "263a8973-1af3-4705-b959-b352621ac974"
      },
      "execution_count": null,
      "outputs": [
        {
          "output_type": "execute_result",
          "data": {
            "text/plain": [
              "55"
            ]
          },
          "metadata": {},
          "execution_count": 13
        }
      ]
    },
    {
      "cell_type": "code",
      "source": [
        "sumSeries1(10, 1)"
      ],
      "metadata": {
        "colab": {
          "base_uri": "https://localhost:8080/"
        },
        "id": "aUzTHz0b5fzW",
        "outputId": "21b6f9c1-8ebf-439d-bbc6-164c576c5e0d"
      },
      "execution_count": null,
      "outputs": [
        {
          "output_type": "execute_result",
          "data": {
            "text/plain": [
              "0"
            ]
          },
          "metadata": {},
          "execution_count": 14
        }
      ]
    },
    {
      "cell_type": "markdown",
      "source": [
        "### Home work\n",
        "* Create a recursive function to find the factorial of a number "
      ],
      "metadata": {
        "id": "IJ4KGK_u5r3q"
      }
    },
    {
      "cell_type": "markdown",
      "source": [
        "### Tracing a Recursive Function (How is works? or iterate)\n",
        "* To get a better understanding of how a recursive function works, it is helpful to trace its calls. \n",
        "* Let’s do that for the recursive version of the summation function. \n",
        "* You add an argument for a margin of indentation and print statements to trace the two arguments and the value returned on each call. \n",
        "* The first statement on each call computes the indentation, which is then used in printing the two arguments. \n",
        "* The value computed is also printed with this inden- tation just before each call returns. \n",
        "* Here is the code, followed by a session showing its use:"
      ],
      "metadata": {
        "id": "V1LS70tHuZOX"
      }
    },
    {
      "cell_type": "code",
      "source": [
        "def sumSeries2(start, end, spaceCount):\n",
        "  space = \" \" * spaceCount\n",
        "  print(space, start, end)\n",
        "  if start > end:\n",
        "    print(space, 0)\n",
        "    return 0\n",
        "  else:\n",
        "    res = start + sumSeries2(start + 1, end, spaceCount + 4)\n",
        "    print(space, res)\n",
        "    return res"
      ],
      "metadata": {
        "id": "Q2QO2OLpaglj"
      },
      "execution_count": null,
      "outputs": []
    },
    {
      "cell_type": "code",
      "source": [
        "sumSeries2(1, 10, 1)"
      ],
      "metadata": {
        "colab": {
          "base_uri": "https://localhost:8080/"
        },
        "id": "kx3QbMzq7Aek",
        "outputId": "c964cece-61de-4c85-f25c-a16f87329e43"
      },
      "execution_count": null,
      "outputs": [
        {
          "output_type": "stream",
          "name": "stdout",
          "text": [
            "  1 10\n",
            "      2 10\n",
            "          3 10\n",
            "              4 10\n",
            "                  5 10\n",
            "                      6 10\n",
            "                          7 10\n",
            "                              8 10\n",
            "                                  9 10\n",
            "                                      10 10\n",
            "                                          11 10\n",
            "                                          0\n",
            "                                      10\n",
            "                                  19\n",
            "                              27\n",
            "                          34\n",
            "                      40\n",
            "                  45\n",
            "              49\n",
            "          52\n",
            "      54\n",
            "  55\n"
          ]
        },
        {
          "output_type": "execute_result",
          "data": {
            "text/plain": [
              "55"
            ]
          },
          "metadata": {},
          "execution_count": 20
        }
      ]
    },
    {
      "cell_type": "markdown",
      "source": [
        "### Using Recursive Definitions to Construct Recursive Functions\n",
        "* Recursive functions are frequently used to design algorithms for computing values that have a recursive definition. \n",
        "* A recursive definition consists of equations that state what\n",
        "a value is for one or more base cases and one or more recursive cases. \n",
        "* For example, the Fibonacci sequence is a series of values with a recursive definition. \n",
        "* The first and second numbers in the Fibonacci sequence are 1. \n",
        "* Thereafter, each number in the sequence is the sum of its two predecessors, as follows:\n",
        "  * 1 1 2 3 5 8 13 . . .\n",
        "* More formally, a recursive definition of the nth Fibonacci number is the following:\n",
        "  * Fib(n) = 1, when n = 1 or n = 2\n",
        "  * Fib(n) = Fib(n - 1) + Fib(n - 2), for all n > 2"
      ],
      "metadata": {
        "id": "oh-eaGORahyH"
      }
    },
    {
      "cell_type": "code",
      "source": [
        "def fib(n):\n",
        "  if n < 3:\n",
        "    return 1\n",
        "  else:\n",
        "    return fib(n -1) + fib(n - 2)"
      ],
      "metadata": {
        "id": "TchQH1iVbLhH"
      },
      "execution_count": null,
      "outputs": []
    },
    {
      "cell_type": "code",
      "source": [
        "# 1 2 3 4 5 6 7  8  9  10 11\n",
        "# 1 1 2 3 5 8 13 21 34 55 \n",
        "fib(10)"
      ],
      "metadata": {
        "colab": {
          "base_uri": "https://localhost:8080/"
        },
        "id": "67n8UqSQ5qh0",
        "outputId": "e1cd2d3a-9a95-4657-cbb8-0315351c20f8"
      },
      "execution_count": null,
      "outputs": [
        {
          "output_type": "execute_result",
          "data": {
            "text/plain": [
              "55"
            ]
          },
          "metadata": {},
          "execution_count": 2
        }
      ]
    },
    {
      "cell_type": "markdown",
      "source": [
        "# Home work \n",
        "* modify the above code to print all the fib series elements "
      ],
      "metadata": {
        "id": "PEBPY1Hw6grA"
      }
    },
    {
      "cell_type": "markdown",
      "source": [
        "### Infinite Recursion\n",
        "* Recursive functions tend to be simpler than the corresponding loops, but they still require thorough testing. \n",
        "* One design error that might trip up a programmer occurs when the function can (theoretically) continue executing forever, a situation known as infinite recursion. \n",
        "* Infinite recursion arises when the programmer fails to specify the base case or to reduce the size of the problem in a way that terminates the recursive process. \n",
        "* In fact, the Python virtual machine eventually runs out of memory resources to manage the process, so it halts execution with a message indicating a stack overflow error. \n",
        "* Example"
      ],
      "metadata": {
        "id": "SwJeCEGKbPa5"
      }
    },
    {
      "cell_type": "code",
      "source": [
        "def runForEver(n):\n",
        "  if n > 0:\n",
        "    runForEver(n)\n",
        "  else:\n",
        "    runForEver(n -1)"
      ],
      "metadata": {
        "id": "uZNgxK_ob3AW"
      },
      "execution_count": null,
      "outputs": []
    },
    {
      "cell_type": "code",
      "source": [
        "runForEver(10)"
      ],
      "metadata": {
        "colab": {
          "base_uri": "https://localhost:8080/",
          "height": 346
        },
        "id": "am9Mmd7q7HuE",
        "outputId": "8877f934-543e-48d0-ac43-4c346c7ae674"
      },
      "execution_count": null,
      "outputs": [
        {
          "output_type": "error",
          "ename": "RecursionError",
          "evalue": "ignored",
          "traceback": [
            "\u001b[0;31m---------------------------------------------------------------------------\u001b[0m",
            "\u001b[0;31mRecursionError\u001b[0m                            Traceback (most recent call last)",
            "\u001b[0;32m<ipython-input-4-3273d7b0fff3>\u001b[0m in \u001b[0;36m<module>\u001b[0;34m()\u001b[0m\n\u001b[0;32m----> 1\u001b[0;31m \u001b[0mrunForEver\u001b[0m\u001b[0;34m(\u001b[0m\u001b[0;36m10\u001b[0m\u001b[0;34m)\u001b[0m\u001b[0;34m\u001b[0m\u001b[0;34m\u001b[0m\u001b[0m\n\u001b[0m",
            "\u001b[0;32m<ipython-input-3-b68576e61838>\u001b[0m in \u001b[0;36mrunForEver\u001b[0;34m(n)\u001b[0m\n\u001b[1;32m      1\u001b[0m \u001b[0;32mdef\u001b[0m \u001b[0mrunForEver\u001b[0m\u001b[0;34m(\u001b[0m\u001b[0mn\u001b[0m\u001b[0;34m)\u001b[0m\u001b[0;34m:\u001b[0m\u001b[0;34m\u001b[0m\u001b[0;34m\u001b[0m\u001b[0m\n\u001b[1;32m      2\u001b[0m   \u001b[0;32mif\u001b[0m \u001b[0mn\u001b[0m \u001b[0;34m>\u001b[0m \u001b[0;36m0\u001b[0m\u001b[0;34m:\u001b[0m\u001b[0;34m\u001b[0m\u001b[0;34m\u001b[0m\u001b[0m\n\u001b[0;32m----> 3\u001b[0;31m     \u001b[0mrunForEver\u001b[0m\u001b[0;34m(\u001b[0m\u001b[0mn\u001b[0m\u001b[0;34m)\u001b[0m\u001b[0;34m\u001b[0m\u001b[0;34m\u001b[0m\u001b[0m\n\u001b[0m\u001b[1;32m      4\u001b[0m   \u001b[0;32melse\u001b[0m\u001b[0;34m:\u001b[0m\u001b[0;34m\u001b[0m\u001b[0;34m\u001b[0m\u001b[0m\n\u001b[1;32m      5\u001b[0m     \u001b[0mrunForEver\u001b[0m\u001b[0;34m(\u001b[0m\u001b[0mn\u001b[0m \u001b[0;34m-\u001b[0m\u001b[0;36m1\u001b[0m\u001b[0;34m)\u001b[0m\u001b[0;34m\u001b[0m\u001b[0;34m\u001b[0m\u001b[0m\n",
            "... last 1 frames repeated, from the frame below ...\n",
            "\u001b[0;32m<ipython-input-3-b68576e61838>\u001b[0m in \u001b[0;36mrunForEver\u001b[0;34m(n)\u001b[0m\n\u001b[1;32m      1\u001b[0m \u001b[0;32mdef\u001b[0m \u001b[0mrunForEver\u001b[0m\u001b[0;34m(\u001b[0m\u001b[0mn\u001b[0m\u001b[0;34m)\u001b[0m\u001b[0;34m:\u001b[0m\u001b[0;34m\u001b[0m\u001b[0;34m\u001b[0m\u001b[0m\n\u001b[1;32m      2\u001b[0m   \u001b[0;32mif\u001b[0m \u001b[0mn\u001b[0m \u001b[0;34m>\u001b[0m \u001b[0;36m0\u001b[0m\u001b[0;34m:\u001b[0m\u001b[0;34m\u001b[0m\u001b[0;34m\u001b[0m\u001b[0m\n\u001b[0;32m----> 3\u001b[0;31m     \u001b[0mrunForEver\u001b[0m\u001b[0;34m(\u001b[0m\u001b[0mn\u001b[0m\u001b[0;34m)\u001b[0m\u001b[0;34m\u001b[0m\u001b[0;34m\u001b[0m\u001b[0m\n\u001b[0m\u001b[1;32m      4\u001b[0m   \u001b[0;32melse\u001b[0m\u001b[0;34m:\u001b[0m\u001b[0;34m\u001b[0m\u001b[0;34m\u001b[0m\u001b[0m\n\u001b[1;32m      5\u001b[0m     \u001b[0mrunForEver\u001b[0m\u001b[0;34m(\u001b[0m\u001b[0mn\u001b[0m \u001b[0;34m-\u001b[0m\u001b[0;36m1\u001b[0m\u001b[0;34m)\u001b[0m\u001b[0;34m\u001b[0m\u001b[0;34m\u001b[0m\u001b[0m\n",
            "\u001b[0;31mRecursionError\u001b[0m: maximum recursion depth exceeded in comparison"
          ]
        }
      ]
    },
    {
      "cell_type": "markdown",
      "source": [
        "### The Costs and Benefits of Recursion\n",
        "* Although recursive solutions are often more natural and elegant than their iterative counterparts, they come with a cost. \n",
        "* The run-time system on a real computer, such as the PVM, must devote some overhead to recursive function calls. \n",
        "* At program startup, the PVM reserves an area of memory named a call stack. \n",
        "* For each call of a function, recursive or otherwise, the PVM must allocate on the call stack a small chunk of memory called a stack frame. \n",
        "* In this type of storage, the system places the values of the arguments and the return address for each function call. \n",
        "* Space for the function call’s return value is also reserved in its stack frame. \n",
        "* When a call returns or completes its execution, the return address is used to locate the next instruction in the caller’s code, and the memory for the stack frame is deallocated. \n",
        "* The stack frames for the process generated by displayRange(1, 3)areshowninFigure6-4.Theframesinthefigureincludestoragefor the function’s arguments only."
      ],
      "metadata": {
        "id": "5q8WNY28b7e4"
      }
    },
    {
      "cell_type": "code",
      "source": [
        ""
      ],
      "metadata": {
        "id": "IYZR-ANOd9ep"
      },
      "execution_count": null,
      "outputs": []
    }
  ]
}