{
  "nbformat": 4,
  "nbformat_minor": 0,
  "metadata": {
    "colab": {
      "name": "Lecture-9_CE.ipynb",
      "provenance": [],
      "collapsed_sections": []
    },
    "kernelspec": {
      "name": "python3",
      "display_name": "Python 3"
    },
    "language_info": {
      "name": "python"
    }
  },
  "cells": [
    {
      "cell_type": "markdown",
      "source": [
        "### Break, Continue, Pass.\n",
        "\n"
      ],
      "metadata": {
        "id": "wct_2BdBkxSH"
      }
    },
    {
      "cell_type": "markdown",
      "source": [
        "### Break\n",
        "* In Python, the break statement provides you with the opportunity to exit out of a loop when an external condition is triggered. \n",
        "* You’ll put the break statement within the block of code under your loop statement, usually after a conditional if statement."
      ],
      "metadata": {
        "id": "HFvkfsEQMJts"
      }
    },
    {
      "cell_type": "code",
      "source": [
        "# code sample using for \n",
        "num = 0\n",
        "for num in range(10):\n",
        "  if num == 5:\n",
        "    break\n",
        "  print(\"Num is : \", num)\n",
        "print(\"Next statment of for\")"
      ],
      "metadata": {
        "id": "PDseQhTwMYV5",
        "colab": {
          "base_uri": "https://localhost:8080/"
        },
        "outputId": "515de05b-567e-4bf2-be98-dd811aa4f240"
      },
      "execution_count": null,
      "outputs": [
        {
          "output_type": "stream",
          "name": "stdout",
          "text": [
            "Num is :  0\n",
            "Num is :  1\n",
            "Num is :  2\n",
            "Num is :  3\n",
            "Num is :  4\n",
            "Next statment of for\n"
          ]
        }
      ]
    },
    {
      "cell_type": "code",
      "source": [
        "str1 = \"python\"\n",
        "for l in str1:\n",
        "  if l == \"h\":\n",
        "    break\n",
        "  print(\"current letter:\", l)"
      ],
      "metadata": {
        "colab": {
          "base_uri": "https://localhost:8080/"
        },
        "id": "cc35BLE9p4i7",
        "outputId": "e74a7d17-5cd6-4021-a0a5-fb6805dc25c6"
      },
      "execution_count": null,
      "outputs": [
        {
          "output_type": "stream",
          "name": "stdout",
          "text": [
            "current letter: p\n",
            "current letter: y\n",
            "current letter: t\n"
          ]
        }
      ]
    },
    {
      "cell_type": "code",
      "source": [
        "var = 10 \n",
        "while var > 0:\n",
        "  print(\"current value of var:\", var)\n",
        "  var -= 1\n",
        "  if var == 5:\n",
        "    break\n",
        "print(\"Next statment of while\")"
      ],
      "metadata": {
        "colab": {
          "base_uri": "https://localhost:8080/"
        },
        "id": "lSEIMGIwqn1u",
        "outputId": "104444cf-95c3-4190-e67a-9bf864d58f0e"
      },
      "execution_count": null,
      "outputs": [
        {
          "output_type": "stream",
          "name": "stdout",
          "text": [
            "current value of var: 10\n",
            "current value of var: 9\n",
            "current value of var: 8\n",
            "current value of var: 7\n",
            "current value of var: 6\n",
            "Next statment of while\n"
          ]
        }
      ]
    },
    {
      "cell_type": "markdown",
      "source": [
        "### Continue\n",
        "* The continue statement gives you the option to skip over the part of a loop where an external condition is triggered, but to go on to complete the rest of the loop. \n",
        "* That is, the current iteration of the loop will be disrupted, but the program will return to the top of the loop.\n",
        "* The continue statement will be within the block of code under the loop statement, usually after a conditional if statement.\n",
        "* Using the same for loop program as in the Break Statement section above, we’ll use a continue statement rather than a break statement:"
      ],
      "metadata": {
        "id": "3vuE6VE_MoPw"
      }
    },
    {
      "cell_type": "code",
      "source": [
        "# code sample using for \n",
        "num = 0\n",
        "for num in range(10):\n",
        "  if num == 5:\n",
        "    continue\n",
        "  print(\"Num is : \", num)\n",
        "print(\"Next statment of for\")"
      ],
      "metadata": {
        "id": "Wr2wdNgpNAwI",
        "colab": {
          "base_uri": "https://localhost:8080/"
        },
        "outputId": "dd351237-0929-4287-f3da-f557b95470e9"
      },
      "execution_count": null,
      "outputs": [
        {
          "output_type": "stream",
          "name": "stdout",
          "text": [
            "Num is :  0\n",
            "Num is :  1\n",
            "Num is :  2\n",
            "Num is :  3\n",
            "Num is :  4\n",
            "Num is :  6\n",
            "Num is :  7\n",
            "Num is :  8\n",
            "Num is :  9\n",
            "Next statment of for\n"
          ]
        }
      ]
    },
    {
      "cell_type": "code",
      "source": [
        "str1 = \"python\"\n",
        "for l in str1:\n",
        "  if l == \"h\":\n",
        "    continue\n",
        "  print(\"current letter:\", l)"
      ],
      "metadata": {
        "colab": {
          "base_uri": "https://localhost:8080/"
        },
        "id": "3nQSPT2gIu7B",
        "outputId": "c0607a5b-8508-42ea-9cf0-113b35726b1e"
      },
      "execution_count": 37,
      "outputs": [
        {
          "output_type": "stream",
          "name": "stdout",
          "text": [
            "current letter: p\n",
            "current letter: y\n",
            "current letter: t\n",
            "current letter: o\n",
            "current letter: n\n"
          ]
        }
      ]
    },
    {
      "cell_type": "code",
      "source": [
        "var = 10 \n",
        "while var > 0:\n",
        "  print(\"current value of var:\", var)\n",
        "  var -= 1\n",
        "  if var == 5:\n",
        "    continue\n",
        "print(\"Next statment of while\")"
      ],
      "metadata": {
        "colab": {
          "base_uri": "https://localhost:8080/"
        },
        "id": "LDbLab1PI_Jm",
        "outputId": "f1b34c16-d58f-4472-cc1f-2a1c38415709"
      },
      "execution_count": 38,
      "outputs": [
        {
          "output_type": "stream",
          "name": "stdout",
          "text": [
            "current value of var: 10\n",
            "current value of var: 9\n",
            "current value of var: 8\n",
            "current value of var: 7\n",
            "current value of var: 6\n",
            "current value of var: 5\n",
            "current value of var: 4\n",
            "current value of var: 3\n",
            "current value of var: 2\n",
            "current value of var: 1\n",
            "Next statment of while\n"
          ]
        }
      ]
    },
    {
      "cell_type": "code",
      "source": [
        "var = 10 \n",
        "while var > 0:\n",
        "  if var == 5:\n",
        "    continue\n",
        "  print(\"current value of var:\", var)\n",
        "  var -= 1\n",
        "print(\"Next statment of while\")"
      ],
      "metadata": {
        "id": "7aaOpIU8sNoF",
        "colab": {
          "base_uri": "https://localhost:8080/",
          "height": 322
        },
        "outputId": "9d8b0912-975f-4470-afb9-beea69a034e8"
      },
      "execution_count": 39,
      "outputs": [
        {
          "output_type": "stream",
          "name": "stdout",
          "text": [
            "current value of var: 10\n",
            "current value of var: 9\n",
            "current value of var: 8\n",
            "current value of var: 7\n",
            "current value of var: 6\n"
          ]
        },
        {
          "output_type": "error",
          "ename": "KeyboardInterrupt",
          "evalue": "ignored",
          "traceback": [
            "\u001b[0;31m---------------------------------------------------------------------------\u001b[0m",
            "\u001b[0;31mKeyboardInterrupt\u001b[0m                         Traceback (most recent call last)",
            "\u001b[0;32m<ipython-input-39-b6e3672fdaa5>\u001b[0m in \u001b[0;36m<module>\u001b[0;34m()\u001b[0m\n\u001b[1;32m      1\u001b[0m \u001b[0mvar\u001b[0m \u001b[0;34m=\u001b[0m \u001b[0;36m10\u001b[0m\u001b[0;34m\u001b[0m\u001b[0;34m\u001b[0m\u001b[0m\n\u001b[0;32m----> 2\u001b[0;31m \u001b[0;32mwhile\u001b[0m \u001b[0mvar\u001b[0m \u001b[0;34m>\u001b[0m \u001b[0;36m0\u001b[0m\u001b[0;34m:\u001b[0m\u001b[0;34m\u001b[0m\u001b[0;34m\u001b[0m\u001b[0m\n\u001b[0m\u001b[1;32m      3\u001b[0m   \u001b[0;32mif\u001b[0m \u001b[0mvar\u001b[0m \u001b[0;34m==\u001b[0m \u001b[0;36m5\u001b[0m\u001b[0;34m:\u001b[0m\u001b[0;34m\u001b[0m\u001b[0;34m\u001b[0m\u001b[0m\n\u001b[1;32m      4\u001b[0m     \u001b[0;32mcontinue\u001b[0m\u001b[0;34m\u001b[0m\u001b[0;34m\u001b[0m\u001b[0m\n\u001b[1;32m      5\u001b[0m   \u001b[0mprint\u001b[0m\u001b[0;34m(\u001b[0m\u001b[0;34m\"current value of var:\"\u001b[0m\u001b[0;34m,\u001b[0m \u001b[0mvar\u001b[0m\u001b[0;34m)\u001b[0m\u001b[0;34m\u001b[0m\u001b[0;34m\u001b[0m\u001b[0m\n",
            "\u001b[0;31mKeyboardInterrupt\u001b[0m: "
          ]
        }
      ]
    },
    {
      "cell_type": "code",
      "source": [
        "var = 10 \n",
        "while var > 0:\n",
        "  if var == 5:\n",
        "    var -= 1\n",
        "    continue\n",
        "  print(\"current value of var:\", var)\n",
        "  var -= 1\n",
        "print(\"Next statment of while\")"
      ],
      "metadata": {
        "colab": {
          "base_uri": "https://localhost:8080/"
        },
        "id": "dP7TSBLWJJp4",
        "outputId": "e2ea3862-3f57-48fb-f51f-201b49abf81b"
      },
      "execution_count": 40,
      "outputs": [
        {
          "output_type": "stream",
          "name": "stdout",
          "text": [
            "current value of var: 10\n",
            "current value of var: 9\n",
            "current value of var: 8\n",
            "current value of var: 7\n",
            "current value of var: 6\n",
            "current value of var: 4\n",
            "current value of var: 3\n",
            "current value of var: 2\n",
            "current value of var: 1\n",
            "Next statment of while\n"
          ]
        }
      ]
    },
    {
      "cell_type": "markdown",
      "source": [
        "### Pass\n",
        "* When an external condition is triggered, the pass statement allows you to handle the condition without the loop being impacted in any way; all of the code will continue to be read unless a break or other statement occurs.\n",
        "* As with the other statements, the pass statement will be within the block of code under the loop statement, typically after a conditional if statement.\n",
        "* In Python programming, the pass statement is a null statement. \n",
        "* The difference between a comment and a pass statement in Python is that while the interpreter ignores a comment entirely, pass is not ignored.\n",
        "* However, nothing happens when the pass is executed. It results in no operation (NOP).\n",
        "* We generally use it as a placeholder.\n",
        "\n"
      ],
      "metadata": {
        "id": "_CwwEC-aNKis"
      }
    },
    {
      "cell_type": "code",
      "source": [
        "for i in range(10):\n",
        "  pass "
      ],
      "metadata": {
        "id": "srV89H1AuyLF"
      },
      "execution_count": null,
      "outputs": []
    },
    {
      "cell_type": "code",
      "source": [
        "for i in range(10):\n",
        "  print(i)\n",
        "  for j in range(5):\n",
        "    # bnot sure what logic should be implemented ?\n",
        "    pass"
      ],
      "metadata": {
        "colab": {
          "base_uri": "https://localhost:8080/"
        },
        "id": "kDMZ5AHSvG__",
        "outputId": "d9a1d9e8-17c9-43b9-87b1-64316330b511"
      },
      "execution_count": null,
      "outputs": [
        {
          "output_type": "stream",
          "name": "stdout",
          "text": [
            "0\n",
            "1\n",
            "2\n",
            "3\n",
            "4\n",
            "5\n",
            "6\n",
            "7\n",
            "8\n",
            "9\n"
          ]
        }
      ]
    },
    {
      "cell_type": "code",
      "source": [
        "# code sample using for \n",
        "num = 0\n",
        "for num in range(10):\n",
        "  if num == 5:\n",
        "    pass\n",
        "  print(\"Num is : \", num)\n",
        "print(\"Next statment of for\")"
      ],
      "metadata": {
        "colab": {
          "base_uri": "https://localhost:8080/"
        },
        "id": "unJFVyoevcjN",
        "outputId": "09002849-0477-4be6-cc3e-6a85830ae2c1"
      },
      "execution_count": null,
      "outputs": [
        {
          "output_type": "stream",
          "name": "stdout",
          "text": [
            "Num is :  0\n",
            "Num is :  1\n",
            "Num is :  2\n",
            "Num is :  3\n",
            "Num is :  4\n",
            "Num is :  5\n",
            "Num is :  6\n",
            "Num is :  7\n",
            "Num is :  8\n",
            "Num is :  9\n",
            "Next statment of for\n"
          ]
        }
      ]
    }
  ]
}