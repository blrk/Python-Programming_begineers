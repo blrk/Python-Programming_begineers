{
  "nbformat": 4,
  "nbformat_minor": 0,
  "metadata": {
    "colab": {
      "name": "Lecture-23_Structuring Classes with Inheritance and Polymorphism.ipynb",
      "provenance": [],
      "collapsed_sections": []
    },
    "kernelspec": {
      "name": "python3",
      "display_name": "Python 3"
    },
    "language_info": {
      "name": "python"
    }
  },
  "cells": [
    {
      "cell_type": "markdown",
      "source": [
        "### Classes\n",
        "* Classes provide a means of bundling data and functionality together. \n",
        "* Creating a new class creates a new type of object, allowing new instances of that type to be made. \n",
        "* Each class instance can have attributes attached to it for maintaining its state. Class instances can also have methods (defined by its class) for modifying its state."
      ],
      "metadata": {
        "id": "SIAxWMk0e1MS"
      }
    },
    {
      "cell_type": "markdown",
      "source": [
        "### Inheritance\n",
        "* Inheritance allows us to define a class that inherits all the methods and properties from another class.\n",
        "* **Parent class** is the class being inherited from, also called base class.\n",
        "* **Child class** is the class that inherits from another class, also called derived class.\n",
        "* Syntax\n",
        "\n",
        "``` python\n",
        "class DerivedClassName(BaseClassName):\n",
        "    <statement-1>\n",
        "    .\n",
        "    .\n",
        "    .\n",
        "    <statement-N>\n",
        "```\n",
        "\n",
        "* The name BaseClassName must be defined in a scope containing the derived class definition. \n",
        "* In place of a base class name, other arbitrary expressions are also allowed. * This can be useful, for example, when the base class is defined in another module:\n",
        "\n",
        "``` python\n",
        "class DerivedClassName(modname.BaseClassName):\n",
        "```\n",
        "\n",
        "* Execution of a derived class definition proceeds the same as for a base class. When the class object is constructed, the base class is remembered. \n",
        "* This is used for resolving attribute references: if a requested attribute is not found in the class, the search proceeds to look in the base class. \n",
        "* This rule is applied recursively if the base class itself is derived from some other class.\n",
        "\n",
        "* There’s nothing special about instantiation of derived classes: DerivedClassName() creates a new instance of the class. \n",
        "* Method references are resolved as follows: the corresponding class attribute is searched, descending down the chain of base classes if necessary, and the method reference is valid if this yields a function object.\n"
      ],
      "metadata": {
        "id": "R91Or3sPe-27"
      }
    },
    {
      "cell_type": "markdown",
      "source": [
        "#### public modifier\n",
        "* Public members are accessible from outside the class.\n",
        "* The object of the same class is required to invoke a public method."
      ],
      "metadata": {
        "id": "3XSJ1QWS8GSk"
      }
    },
    {
      "cell_type": "code",
      "source": [
        "class Person:\n",
        "  def __init__(self, id, name):\n",
        "    self.id = id # public member\n",
        "    self.name = name # public member"
      ],
      "metadata": {
        "id": "f5Mb0OKQ8D7P"
      },
      "execution_count": null,
      "outputs": []
    },
    {
      "cell_type": "code",
      "source": [
        "p = Person(101, \"blrk\")\n",
        "print(p.id) # public member is accessible from outsdie of the class\n",
        "print(p.name)"
      ],
      "metadata": {
        "colab": {
          "base_uri": "https://localhost:8080/"
        },
        "id": "lpqsjiza-mjF",
        "outputId": "3bfa0406-edde-4f15-ed90-6b743a827034"
      },
      "execution_count": null,
      "outputs": [
        {
          "output_type": "stream",
          "name": "stdout",
          "text": [
            "101\n",
            "blrk\n"
          ]
        }
      ]
    },
    {
      "cell_type": "code",
      "source": [
        "p.id = 200\n",
        "print(p.id)"
      ],
      "metadata": {
        "colab": {
          "base_uri": "https://localhost:8080/"
        },
        "id": "gijZ_5yd_ZFu",
        "outputId": "322949c7-6afd-498e-b557-205876c8eb80"
      },
      "execution_count": null,
      "outputs": [
        {
          "output_type": "stream",
          "name": "stdout",
          "text": [
            "200\n"
          ]
        }
      ]
    },
    {
      "cell_type": "markdown",
      "source": [
        "#### Protected modifier\n",
        "* Protected members of a class are accessible from within the class and are also available to its sub-classes.\n",
        "* No other environment is permitted access to it.\n",
        "* This enables specific resources of the parent class to be inherited by the child class."
      ],
      "metadata": {
        "id": "sxBPHUi88Nfo"
      }
    },
    {
      "cell_type": "code",
      "source": [
        "class Person:\n",
        "  def __init__(self, id, name):\n",
        "    self._id = id # protected member\n",
        "    self._name = name # protected member"
      ],
      "metadata": {
        "id": "scLu2SmD8T_n"
      },
      "execution_count": null,
      "outputs": []
    },
    {
      "cell_type": "code",
      "source": [
        "p1 = Person(202, \"John\")"
      ],
      "metadata": {
        "id": "wHBdsqR0_-gF"
      },
      "execution_count": null,
      "outputs": []
    },
    {
      "cell_type": "code",
      "source": [
        "print(p1._id)\n",
        "print(p1._name)"
      ],
      "metadata": {
        "colab": {
          "base_uri": "https://localhost:8080/"
        },
        "id": "MBrZeNvRADcz",
        "outputId": "35e3bb98-8487-4187-fc81-bffd72e80da0"
      },
      "execution_count": null,
      "outputs": [
        {
          "output_type": "stream",
          "name": "stdout",
          "text": [
            "202\n",
            "John\n"
          ]
        }
      ]
    },
    {
      "cell_type": "markdown",
      "source": [
        "#### private\n",
        "* variable/method with double underscore to emulate the behavior of protected and private access specifiers.\n",
        "* not accessible from the derived class"
      ],
      "metadata": {
        "id": "RloBFBPf8YK3"
      }
    },
    {
      "cell_type": "code",
      "source": [
        "class Person:\n",
        "  def __init__(self, id, name):\n",
        "    self.__id = id # private member\n",
        "    self.__name = name # private member "
      ],
      "metadata": {
        "id": "YTY1rhCJ8dlT"
      },
      "execution_count": null,
      "outputs": []
    },
    {
      "cell_type": "code",
      "source": [
        "p2 = Person(301, \"Kevin\")"
      ],
      "metadata": {
        "id": "QEq14F5zAvrN"
      },
      "execution_count": null,
      "outputs": []
    },
    {
      "cell_type": "code",
      "source": [
        "print(p2.__id)"
      ],
      "metadata": {
        "colab": {
          "base_uri": "https://localhost:8080/",
          "height": 165
        },
        "id": "KVRtZWODA1F5",
        "outputId": "19bd37e6-eb30-4a46-f8a1-a5628862be69"
      },
      "execution_count": null,
      "outputs": [
        {
          "output_type": "error",
          "ename": "AttributeError",
          "evalue": "ignored",
          "traceback": [
            "\u001b[0;31m---------------------------------------------------------------------------\u001b[0m",
            "\u001b[0;31mAttributeError\u001b[0m                            Traceback (most recent call last)",
            "\u001b[0;32m<ipython-input-10-b00c5c9e54c6>\u001b[0m in \u001b[0;36m<module>\u001b[0;34m()\u001b[0m\n\u001b[0;32m----> 1\u001b[0;31m \u001b[0mprint\u001b[0m\u001b[0;34m(\u001b[0m\u001b[0mp2\u001b[0m\u001b[0;34m.\u001b[0m\u001b[0m__id\u001b[0m\u001b[0;34m)\u001b[0m\u001b[0;34m\u001b[0m\u001b[0;34m\u001b[0m\u001b[0m\n\u001b[0m",
            "\u001b[0;31mAttributeError\u001b[0m: 'Person' object has no attribute '__id'"
          ]
        }
      ]
    },
    {
      "cell_type": "code",
      "source": [
        "print(p2.__name)"
      ],
      "metadata": {
        "colab": {
          "base_uri": "https://localhost:8080/",
          "height": 165
        },
        "id": "tVyNOGNJA8Ci",
        "outputId": "a8ed957a-5d7e-46b7-92cb-a7d13eb02ff7"
      },
      "execution_count": null,
      "outputs": [
        {
          "output_type": "error",
          "ename": "AttributeError",
          "evalue": "ignored",
          "traceback": [
            "\u001b[0;31m---------------------------------------------------------------------------\u001b[0m",
            "\u001b[0;31mAttributeError\u001b[0m                            Traceback (most recent call last)",
            "\u001b[0;32m<ipython-input-11-b83555da9a4b>\u001b[0m in \u001b[0;36m<module>\u001b[0;34m()\u001b[0m\n\u001b[0;32m----> 1\u001b[0;31m \u001b[0mprint\u001b[0m\u001b[0;34m(\u001b[0m\u001b[0mp2\u001b[0m\u001b[0;34m.\u001b[0m\u001b[0m__name\u001b[0m\u001b[0;34m)\u001b[0m\u001b[0;34m\u001b[0m\u001b[0;34m\u001b[0m\u001b[0m\n\u001b[0m",
            "\u001b[0;31mAttributeError\u001b[0m: 'Person' object has no attribute '__name'"
          ]
        }
      ]
    },
    {
      "cell_type": "code",
      "source": [
        "class Person:\n",
        "  def __init__(self, id, name):\n",
        "    self.__id = id # private member\n",
        "    self.__name = name # private member \n",
        "  \n",
        "  def printPerson(self):\n",
        "    print(\"Id:\", self.__id)\n",
        "    print(\"Name:\", self.__name)"
      ],
      "metadata": {
        "id": "IHwOX3-bBC3G"
      },
      "execution_count": null,
      "outputs": []
    },
    {
      "cell_type": "code",
      "source": [
        "p3 = Person(401, \"Somex\")"
      ],
      "metadata": {
        "id": "D2gUk4z9BQ_f"
      },
      "execution_count": null,
      "outputs": []
    },
    {
      "cell_type": "code",
      "source": [
        "p3.printPerson()"
      ],
      "metadata": {
        "colab": {
          "base_uri": "https://localhost:8080/"
        },
        "id": "xSvcGPbXBXzB",
        "outputId": "21302d48-f212-4862-ca0d-28a82e4842f3"
      },
      "execution_count": null,
      "outputs": [
        {
          "output_type": "stream",
          "name": "stdout",
          "text": [
            "Id: 401\n",
            "Name: Somex\n"
          ]
        }
      ]
    },
    {
      "cell_type": "code",
      "execution_count": null,
      "metadata": {
        "id": "HE-TaxFEdaCz"
      },
      "outputs": [],
      "source": [
        "# create a base class\n",
        "class Person:\n",
        "  def __init__(self, id, name):\n",
        "    self.__id = id # private member\n",
        "    self.__name = name # private member \n",
        "  \n",
        "  def printPerson(self):\n",
        "    print(\"Id:\", self.__id)\n",
        "    print(\"Name:\", self.__name)"
      ]
    },
    {
      "cell_type": "code",
      "source": [
        "# create a child class\n",
        "class Account(Person): # derived class\n",
        "  pass "
      ],
      "metadata": {
        "id": "o4lcUJ0c32q6"
      },
      "execution_count": null,
      "outputs": []
    },
    {
      "cell_type": "code",
      "source": [
        "a1 = Account(101, \"blrk\")"
      ],
      "metadata": {
        "id": "QGrBD9pACMhj"
      },
      "execution_count": null,
      "outputs": []
    },
    {
      "cell_type": "code",
      "source": [
        "a1.printPerson()"
      ],
      "metadata": {
        "colab": {
          "base_uri": "https://localhost:8080/"
        },
        "id": "UvBt84G6Ckxg",
        "outputId": "8fb0ef8e-d2cc-4b68-c48d-46fc63cb2c4b"
      },
      "execution_count": null,
      "outputs": [
        {
          "output_type": "stream",
          "name": "stdout",
          "text": [
            "Id: 101\n",
            "Name: blrk\n"
          ]
        }
      ]
    },
    {
      "cell_type": "markdown",
      "source": [
        "### _ _ init _ _() in derived class"
      ],
      "metadata": {
        "id": "K4BxTBxU38Dg"
      }
    },
    {
      "cell_type": "code",
      "source": [
        "# create a base class\n",
        "class Person:\n",
        "  def __init__(self, id, name):\n",
        "    self.__id = id # private member\n",
        "    self.__name = name # private member \n",
        "  \n",
        "  def printPerson(self):\n",
        "    print(\"Id:\", self.__id)\n",
        "    print(\"Name:\", self.__name)"
      ],
      "metadata": {
        "id": "YiPD-l2S4FmW"
      },
      "execution_count": null,
      "outputs": []
    },
    {
      "cell_type": "code",
      "source": [
        "# create a child class\n",
        "class Account(Person): # derived class\n",
        "  def __init__(self, id, name, accno):\n",
        "    Person.__init__(self, id, name)\n",
        "    self.__accno = accno\n",
        "\n",
        "  def printAccount(self):\n",
        "    print(\"Acc No:\",self.__accno) "
      ],
      "metadata": {
        "id": "Bx6sftWZC_Ga"
      },
      "execution_count": null,
      "outputs": []
    },
    {
      "cell_type": "code",
      "source": [
        "a2 = Account(101, \"blrk\", 1001)"
      ],
      "metadata": {
        "id": "nqLDBDE-Douo"
      },
      "execution_count": null,
      "outputs": []
    },
    {
      "cell_type": "code",
      "source": [
        "a2.printPerson()\n",
        "a2.printAccount()"
      ],
      "metadata": {
        "colab": {
          "base_uri": "https://localhost:8080/"
        },
        "id": "eu-UpSlnDvEs",
        "outputId": "50fc7598-e7c4-48d0-8aa2-2dc779b5064d"
      },
      "execution_count": null,
      "outputs": [
        {
          "output_type": "stream",
          "name": "stdout",
          "text": [
            "Id: 101\n",
            "Name: blrk\n",
            "Acc No: 1001\n"
          ]
        }
      ]
    },
    {
      "cell_type": "markdown",
      "source": [
        "### super() Function\n",
        "* will make the child class inherit all the methods and properties from its parent"
      ],
      "metadata": {
        "id": "9vz98W9c4GEj"
      }
    },
    {
      "cell_type": "code",
      "source": [
        "# create a base class\n",
        "class Person:\n",
        "  def __init__(self, id, name):\n",
        "    self.__id = id # private member\n",
        "    self.__name = name # private member \n",
        "  \n",
        "  def printPerson(self):\n",
        "    print(\"Id:\", self.__id)\n",
        "    print(\"Name:\", self.__name)"
      ],
      "metadata": {
        "id": "ap_tGxS3EyGo"
      },
      "execution_count": null,
      "outputs": []
    },
    {
      "cell_type": "code",
      "source": [
        "# create a child class\n",
        "class Account(Person): # derived class\n",
        "  def __init__(self, id, name, accno):\n",
        "    super().__init__(id, name)\n",
        "    self.__accno = accno\n",
        "\n",
        "  def printAccount(self):\n",
        "    print(\"Acc No:\",self.__accno) "
      ],
      "metadata": {
        "id": "SnqEcRFME2H_"
      },
      "execution_count": null,
      "outputs": []
    },
    {
      "cell_type": "code",
      "source": [
        "a4 = Account(102, \"John\", 2002)\n",
        "a4. printPerson()\n",
        "a4.printAccount()"
      ],
      "metadata": {
        "colab": {
          "base_uri": "https://localhost:8080/"
        },
        "id": "L__0O0OmFQKR",
        "outputId": "6b3738ba-6993-44f6-ad5a-6ff2c28dfab9"
      },
      "execution_count": null,
      "outputs": [
        {
          "output_type": "stream",
          "name": "stdout",
          "text": [
            "Id: 102\n",
            "Name: John\n",
            "Acc No: 2002\n"
          ]
        }
      ]
    },
    {
      "cell_type": "markdown",
      "source": [
        "### add propties in the derived class"
      ],
      "metadata": {
        "id": "nV_OA8g04qjg"
      }
    },
    {
      "cell_type": "code",
      "source": [
        "# create a base class\n",
        "class Person:\n",
        "  def __init__(self, id, name):\n",
        "    self.__id = id # private member\n",
        "    self.__name = name # private member \n",
        "  \n",
        "  def printPerson(self):\n",
        "    print(\"Id:\", self.__id)\n",
        "    print(\"Name:\", self.__name)"
      ],
      "metadata": {
        "id": "QL_2v9Xi4vIi"
      },
      "execution_count": null,
      "outputs": []
    },
    {
      "cell_type": "code",
      "source": [
        "# create a child class\n",
        "class Account(Person): # derived class\n",
        "  def __init__(self, id, name, accno):\n",
        "    super().__init__(id, name)\n",
        "    self.__accno = accno\n",
        "\n",
        "  def printAccount(self):\n",
        "    print(\"Id:\", self.__id)\n",
        "    print(\"Name:\", self.__name)\n",
        "    print(\"Acc No:\",self.__accno) "
      ],
      "metadata": {
        "id": "rLVlNaXsFzG_"
      },
      "execution_count": null,
      "outputs": []
    },
    {
      "cell_type": "code",
      "source": [
        "a5 = Account(103, \"Kevin\", 3003)"
      ],
      "metadata": {
        "id": "Zn2kts_MF6On"
      },
      "execution_count": null,
      "outputs": []
    },
    {
      "cell_type": "code",
      "source": [
        "a5.printAccount()"
      ],
      "metadata": {
        "colab": {
          "base_uri": "https://localhost:8080/",
          "height": 287
        },
        "id": "raPJt9u_GBGj",
        "outputId": "1d10fde5-5b40-4692-8bdf-6587852bebef"
      },
      "execution_count": null,
      "outputs": [
        {
          "output_type": "error",
          "ename": "AttributeError",
          "evalue": "ignored",
          "traceback": [
            "\u001b[0;31m---------------------------------------------------------------------------\u001b[0m",
            "\u001b[0;31mAttributeError\u001b[0m                            Traceback (most recent call last)",
            "\u001b[0;32m<ipython-input-33-f81731d37d9e>\u001b[0m in \u001b[0;36m<module>\u001b[0;34m()\u001b[0m\n\u001b[0;32m----> 1\u001b[0;31m \u001b[0ma5\u001b[0m\u001b[0;34m.\u001b[0m\u001b[0mprintAccount\u001b[0m\u001b[0;34m(\u001b[0m\u001b[0;34m)\u001b[0m\u001b[0;34m\u001b[0m\u001b[0;34m\u001b[0m\u001b[0m\n\u001b[0m",
            "\u001b[0;32m<ipython-input-31-b14bb338641d>\u001b[0m in \u001b[0;36mprintAccount\u001b[0;34m(self)\u001b[0m\n\u001b[1;32m      6\u001b[0m \u001b[0;34m\u001b[0m\u001b[0m\n\u001b[1;32m      7\u001b[0m   \u001b[0;32mdef\u001b[0m \u001b[0mprintAccount\u001b[0m\u001b[0;34m(\u001b[0m\u001b[0mself\u001b[0m\u001b[0;34m)\u001b[0m\u001b[0;34m:\u001b[0m\u001b[0;34m\u001b[0m\u001b[0;34m\u001b[0m\u001b[0m\n\u001b[0;32m----> 8\u001b[0;31m     \u001b[0mprint\u001b[0m\u001b[0;34m(\u001b[0m\u001b[0;34m\"Id:\"\u001b[0m\u001b[0;34m,\u001b[0m \u001b[0mself\u001b[0m\u001b[0;34m.\u001b[0m\u001b[0m__id\u001b[0m\u001b[0;34m)\u001b[0m\u001b[0;34m\u001b[0m\u001b[0;34m\u001b[0m\u001b[0m\n\u001b[0m\u001b[1;32m      9\u001b[0m     \u001b[0mprint\u001b[0m\u001b[0;34m(\u001b[0m\u001b[0;34m\"Name:\"\u001b[0m\u001b[0;34m,\u001b[0m \u001b[0mself\u001b[0m\u001b[0;34m.\u001b[0m\u001b[0m__name\u001b[0m\u001b[0;34m)\u001b[0m\u001b[0;34m\u001b[0m\u001b[0;34m\u001b[0m\u001b[0m\n\u001b[1;32m     10\u001b[0m     \u001b[0mprint\u001b[0m\u001b[0;34m(\u001b[0m\u001b[0;34m\"Acc No:\"\u001b[0m\u001b[0;34m,\u001b[0m\u001b[0mself\u001b[0m\u001b[0;34m.\u001b[0m\u001b[0m__accno\u001b[0m\u001b[0;34m)\u001b[0m\u001b[0;34m\u001b[0m\u001b[0;34m\u001b[0m\u001b[0m\n",
            "\u001b[0;31mAttributeError\u001b[0m: 'Account' object has no attribute '_Account__id'"
          ]
        }
      ]
    },
    {
      "cell_type": "code",
      "source": [
        "# create a base class\n",
        "class Person:\n",
        "  def __init__(self, id, name):\n",
        "    self._id = id # protected member\n",
        "    self._name = name # protected member \n",
        "  \n",
        "  def printPerson(self):\n",
        "    print(\"Id:\", self.__id)\n",
        "    print(\"Name:\", self.__name)"
      ],
      "metadata": {
        "id": "UFK0Zr7BGlxv"
      },
      "execution_count": null,
      "outputs": []
    },
    {
      "cell_type": "code",
      "source": [
        "# create a child class\n",
        "class Account(Person): # derived class\n",
        "  def __init__(self, id, name, accno):\n",
        "    super().__init__(id, name)\n",
        "    self.__accno = accno\n",
        "\n",
        "  def printAccount(self):\n",
        "    print(\"Id:\", self._id)\n",
        "    print(\"Name:\", self._name)\n",
        "    print(\"Acc No:\",self.__accno) "
      ],
      "metadata": {
        "id": "ScIuwExuGoWY"
      },
      "execution_count": null,
      "outputs": []
    },
    {
      "cell_type": "code",
      "source": [
        "a6 = Account(105, \"John\", 5006)"
      ],
      "metadata": {
        "id": "qupkN9XGGy3_"
      },
      "execution_count": null,
      "outputs": []
    },
    {
      "cell_type": "code",
      "source": [
        "a6.printAccount()"
      ],
      "metadata": {
        "id": "4YUTCPvdG3yW",
        "outputId": "4ae6df65-a1e7-4c7d-ce59-c14c82bfb6ee",
        "colab": {
          "base_uri": "https://localhost:8080/"
        }
      },
      "execution_count": null,
      "outputs": [
        {
          "output_type": "stream",
          "name": "stdout",
          "text": [
            "Id: 105\n",
            "Name: John\n",
            "Acc No: 5006\n"
          ]
        }
      ]
    },
    {
      "cell_type": "markdown",
      "source": [
        "### Multiple Inheritance\n",
        "* Python supports a form of multiple inheritance as well. A class definition with multiple base classes looks like this:\n",
        "\n",
        "``` python\n",
        "class DerivedClassName(Base1, Base2, Base3):\n",
        "    <statement-1>\n",
        "    .\n",
        "    .\n",
        "    .\n",
        "    <statement-N>\n",
        "```\n",
        "\n",
        "* For most purposes, in the simplest cases, you can think of the search for attributes inherited from a parent class as depth-first, left-to-right, not searching twice in the same class where there is an overlap in the hierarchy.\n",
        "* Thus, if an attribute is not found in DerivedClassName, it is searched for in Base1, then (recursively) in the base classes of Base1, and if it was not found there, it was searched for in Base2, and so on.\n",
        "* In fact, it is slightly more complex than that; the method resolution order changes dynamically to support cooperative calls to super(). \n",
        "* This approach is known in some other multiple-inheritance languages as call-next-method and is more powerful than the super call found in single-inheritance languages."
      ],
      "metadata": {
        "id": "-3k7VcIPgUFk"
      }
    },
    {
      "cell_type": "markdown",
      "source": [
        "![Types-of-Inheritance-1.jpeg](data:image/jpeg;base64,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)"
      ],
      "metadata": {
        "id": "rLEh5QY98jnm"
      }
    },
    {
      "cell_type": "markdown",
      "source": [
        "### Multilevel inheritance"
      ],
      "metadata": {
        "id": "LdMkdhMLWQdN"
      }
    },
    {
      "cell_type": "code",
      "source": [
        "class GrandFather: # base class\n",
        "  def __init__(self):\n",
        "    print(\"Hello world I am the granpa\")\n",
        "\n",
        "class Father(GrandFather): # intermediate class \n",
        "  def __init__(self):\n",
        "    super().__init__()\n",
        "    print(\"Hello world I am the father \")\n",
        "\n",
        "class Son(Father): # child class \n",
        "  def __init__(self):\n",
        "    super().__init__()\n",
        "    print(\"Hello world I am the son \")"
      ],
      "metadata": {
        "id": "OP7oNPMrhig_"
      },
      "execution_count": null,
      "outputs": []
    },
    {
      "cell_type": "code",
      "source": [
        "obj1 = Son()"
      ],
      "metadata": {
        "colab": {
          "base_uri": "https://localhost:8080/"
        },
        "id": "AeIIwUTgYWgS",
        "outputId": "d7f70365-9f07-49ea-bf70-24e77c540c50"
      },
      "execution_count": null,
      "outputs": [
        {
          "output_type": "stream",
          "name": "stdout",
          "text": [
            "Hello world I am the granpa\n",
            "Hello world I am the father \n",
            "Hello world I am the son \n"
          ]
        }
      ]
    },
    {
      "cell_type": "code",
      "source": [
        "# Class A\n",
        "class Person:\n",
        "  def __init__(self, id, name):\n",
        "    self._id = id # protected member\n",
        "    self._name = name # protected member \n",
        "  \n",
        "  def printPerson(self):\n",
        "    print(\"Id:\", self._id)\n",
        "    print(\"Name:\", self._name)\n",
        "\n",
        "# Class B\n",
        "class Account(Person): # derived class\n",
        "  def __init__(self, id, name, accno):\n",
        "    super().__init__(id, name)\n",
        "    self.__accno = accno # private\n",
        "\n",
        "  def printAccount(self):\n",
        "    print(\"Id:\", self._id)\n",
        "    print(\"Name:\", self._name)\n",
        "    print(\"Acc No:\",self.__accno) \n",
        "\n",
        "# class C\n",
        "class Loan(Account):\n",
        "  def __init__(self, id, name, accno, lAccno):\n",
        "    super().__init__(id, name, accno)\n",
        "    self.__lAccno = lAccno #priavte\n",
        "\n",
        "  def printLoan(self):\n",
        "    print(\"Loan Acc number:\", self.__lAccno)"
      ],
      "metadata": {
        "id": "UzFKMyBgZdl7"
      },
      "execution_count": null,
      "outputs": []
    },
    {
      "cell_type": "code",
      "source": [
        "acc1 = Loan(101, \"rk\", 1001, \"5001L\")\n",
        "acc1.printPerson()\n",
        "acc1.printAccount()\n",
        "acc1.printLoan()"
      ],
      "metadata": {
        "colab": {
          "base_uri": "https://localhost:8080/"
        },
        "id": "kT7k8BVZaWmb",
        "outputId": "27a299f6-ee16-420a-d4e7-678b4c11447c"
      },
      "execution_count": null,
      "outputs": [
        {
          "output_type": "stream",
          "name": "stdout",
          "text": [
            "Id: 101\n",
            "Name: rk\n",
            "Id: 101\n",
            "Name: rk\n",
            "Acc No: 1001\n",
            "Loan Acc number: 5001L\n"
          ]
        }
      ]
    },
    {
      "cell_type": "markdown",
      "source": [
        "### Hierarchial Inheritance "
      ],
      "metadata": {
        "id": "IkWaYeRadIY_"
      }
    },
    {
      "cell_type": "code",
      "source": [
        "# class A\n",
        "class Person: \n",
        "  def __init__(self, id, name):\n",
        "    self.__id = id \n",
        "    self.__name = name \n",
        "  \n",
        "  def printPerson(self):\n",
        "    print(\"Id:\", self.__id)\n",
        "    print(\"Name:\", self.__name)\n",
        "\n",
        "# class B\n",
        "class Academic(Person): \n",
        "  def __init__(self, id, name, regno, dept):\n",
        "    super().__init__(id, name)\n",
        "    self.__regno = regno\n",
        "    self.__dept = dept\n",
        "\n",
        "  def printAcademic(self):\n",
        "    print(\"Reg.No:\", self.__regno)\n",
        "    print(\"Name:\", self.__dept)\n",
        "\n",
        "# class C\n",
        "class Hostel(Person):\n",
        "  def __init__(self, id, name, regno, roomno):\n",
        "    super().__init__(id, name)\n",
        "    self.__regno = regno\n",
        "    self.__roomno = roomno\n",
        "\n",
        "  def printHostel(self):\n",
        "    print(\"Reg.No:\", self.__regno)\n",
        "    print(\"Room No:\", self.__roomno)"
      ],
      "metadata": {
        "id": "lN-pGge9dMsD"
      },
      "execution_count": null,
      "outputs": []
    },
    {
      "cell_type": "code",
      "source": [
        "a1 = Academic(101, \"John\", 123, \"CSE\")\n",
        "a1.printPerson()\n",
        "a1.printAcademic()"
      ],
      "metadata": {
        "colab": {
          "base_uri": "https://localhost:8080/"
        },
        "id": "CqjfxgHYeeko",
        "outputId": "7af05419-14e6-4356-f3d4-ee6ea76ff082"
      },
      "execution_count": null,
      "outputs": [
        {
          "output_type": "stream",
          "name": "stdout",
          "text": [
            "Id: 101\n",
            "Name: John\n",
            "Reg.No: 123\n",
            "Name: CSE\n"
          ]
        }
      ]
    },
    {
      "cell_type": "code",
      "source": [
        "h1 = Hostel(102, \"Kevin\", 124, 501)\n",
        "h1.printPerson()\n",
        "h1.printHostel()"
      ],
      "metadata": {
        "colab": {
          "base_uri": "https://localhost:8080/"
        },
        "id": "KY9GOu5SfiWa",
        "outputId": "747b9289-37ab-40dc-ff80-5ef50079a34a"
      },
      "execution_count": null,
      "outputs": [
        {
          "output_type": "stream",
          "name": "stdout",
          "text": [
            "Id: 102\n",
            "Name: Kevin\n",
            "Reg.No: 124\n",
            "Room No: 501\n"
          ]
        }
      ]
    },
    {
      "cell_type": "markdown",
      "source": [
        "### Private Variables\n",
        "* “Private” instance variables that cannot be accessed except from inside an object don’t exist in Python. \n",
        "* However, there is a convention that is followed by most Python code: a name prefixed with an underscore (e.g. _spam) should be treated as a non-public part of the API (whether it is a function, a method or a data member). \n",
        "* It should be considered an implementation detail and subject to change without notice."
      ],
      "metadata": {
        "id": "D-4bspPXhis0"
      }
    },
    {
      "cell_type": "markdown",
      "source": [
        "### Odds and Ends\n",
        "* Sometimes it is useful to have a data type similar to the Pascal “record” or C “struct”, bundling together a few named data items. \n",
        "* An empty class definition will do nicely:"
      ],
      "metadata": {
        "id": "TL3aCdgZiHoU"
      }
    },
    {
      "cell_type": "markdown",
      "source": [
        "### Polymorphism\n",
        "* What is Polymorphism?\n",
        "* same function name (but different signatures) being uses for different types.\n",
        "* builtin polymorphism\n",
        "* look at the following examples"
      ],
      "metadata": {
        "id": "ZjYj-BuxSgld"
      }
    },
    {
      "cell_type": "code",
      "source": [
        "len(\"hello world!\")"
      ],
      "metadata": {
        "colab": {
          "base_uri": "https://localhost:8080/"
        },
        "id": "R0THzBThSrEL",
        "outputId": "9e676353-b529-4bd3-fbf6-5c99390db330"
      },
      "execution_count": 1,
      "outputs": [
        {
          "output_type": "execute_result",
          "data": {
            "text/plain": [
              "12"
            ]
          },
          "metadata": {},
          "execution_count": 1
        }
      ]
    },
    {
      "cell_type": "code",
      "source": [
        "len([\"apple\", \"orange\", \"kiwi\"])"
      ],
      "metadata": {
        "colab": {
          "base_uri": "https://localhost:8080/"
        },
        "id": "KfsAeOr0VsRo",
        "outputId": "d8ca19be-6174-4efa-caa1-4eaf228ea1f3"
      },
      "execution_count": 2,
      "outputs": [
        {
          "output_type": "execute_result",
          "data": {
            "text/plain": [
              "3"
            ]
          },
          "metadata": {},
          "execution_count": 2
        }
      ]
    },
    {
      "cell_type": "markdown",
      "source": [
        "\n",
        "### function polymorphism"
      ],
      "metadata": {
        "id": "Dg_K_RZdSuak"
      }
    },
    {
      "cell_type": "code",
      "source": [
        "def add(x , y):\n",
        "  return x + y"
      ],
      "metadata": {
        "id": "SHygEnSpS9mb"
      },
      "execution_count": 3,
      "outputs": []
    },
    {
      "cell_type": "code",
      "source": [
        "print(add(10, 20))"
      ],
      "metadata": {
        "colab": {
          "base_uri": "https://localhost:8080/"
        },
        "id": "f957wq4wWLQ8",
        "outputId": "23a248ed-7aa9-42a1-9bad-2a2ec6685946"
      },
      "execution_count": 4,
      "outputs": [
        {
          "output_type": "stream",
          "name": "stdout",
          "text": [
            "30\n"
          ]
        }
      ]
    },
    {
      "cell_type": "code",
      "source": [
        "print(add(\"Hello \", \"John\"))"
      ],
      "metadata": {
        "colab": {
          "base_uri": "https://localhost:8080/"
        },
        "id": "JGTIuoRVWPUG",
        "outputId": "b665cf7f-9712-43d8-a835-19e7d553d645"
      },
      "execution_count": 5,
      "outputs": [
        {
          "output_type": "stream",
          "name": "stdout",
          "text": [
            "Hello John\n"
          ]
        }
      ]
    },
    {
      "cell_type": "code",
      "source": [
        "print(add(10.4, 5.7))"
      ],
      "metadata": {
        "colab": {
          "base_uri": "https://localhost:8080/"
        },
        "id": "pi1bjM1mWZMi",
        "outputId": "45ac6ea4-0a81-430e-dacc-99a499b0d011"
      },
      "execution_count": 6,
      "outputs": [
        {
          "output_type": "stream",
          "name": "stdout",
          "text": [
            "16.1\n"
          ]
        }
      ]
    },
    {
      "cell_type": "markdown",
      "source": [
        "### How to use polymorphism?\n",
        "* Overloading\n",
        "  * Overloading is divided into two types\n",
        "  * Operator Overloading\n",
        "  * Method Overloading"
      ],
      "metadata": {
        "id": "wsLu8yVVWzia"
      }
    },
    {
      "cell_type": "markdown",
      "source": [
        "### Ploymorphism using classs, objects and functions"
      ],
      "metadata": {
        "id": "JvCTtF1NS_t3"
      }
    },
    {
      "cell_type": "code",
      "source": [
        "class Circle:\n",
        "  def draw(self):\n",
        "    print(\"draw a circle\")\n",
        "\n",
        "class Rectangle:\n",
        "  def draw(self):\n",
        "    print(\"draw a recrtangle\")\n",
        "\n",
        "def select(obj):\n",
        "  obj.draw()\n",
        "\n",
        "c = Circle()\n",
        "r = Rectangle()"
      ],
      "metadata": {
        "id": "QfWYW1b6TC63"
      },
      "execution_count": 7,
      "outputs": []
    },
    {
      "cell_type": "code",
      "source": [
        "select(c)\n",
        "select(r)"
      ],
      "metadata": {
        "colab": {
          "base_uri": "https://localhost:8080/"
        },
        "id": "daUVGlVCX1Vp",
        "outputId": "f0f38b95-8152-433b-f3a2-d90d8c78e038"
      },
      "execution_count": 8,
      "outputs": [
        {
          "output_type": "stream",
          "name": "stdout",
          "text": [
            "draw a circle\n",
            "draw a recrtangle\n"
          ]
        }
      ]
    },
    {
      "cell_type": "markdown",
      "source": [
        "### polymorphism in inheritance hierarchy - (overriding method) - hierarchical inheritance"
      ],
      "metadata": {
        "id": "0mXS_UqgTBm-"
      }
    },
    {
      "cell_type": "code",
      "source": [
        "class Shape:\n",
        "  def draw(slef):\n",
        "    print(\"draw a shape\")\n",
        "\n",
        "class Circle(Shape):\n",
        "  def draw(slef):\n",
        "    print(\"draw a circle\")\n",
        "\n",
        "class Rectangle(Shape):\n",
        "  def draw(slef):\n",
        "    print(\"draw a rectangle\")\n",
        "\n",
        "obj = Rectangle()\n",
        "obj.draw()\n",
        "\n",
        "obj = Circle()\n",
        "obj.draw()\n",
        "\n",
        "obj = Shape()\n",
        "obj.draw()"
      ],
      "metadata": {
        "colab": {
          "base_uri": "https://localhost:8080/"
        },
        "id": "iOzEAw0MTH-q",
        "outputId": "35eb81ff-35b5-4411-87c5-c6e1437518d2"
      },
      "execution_count": 9,
      "outputs": [
        {
          "output_type": "stream",
          "name": "stdout",
          "text": [
            "draw a rectangle\n",
            "draw a circle\n",
            "draw a shape\n"
          ]
        }
      ]
    }
  ]
}