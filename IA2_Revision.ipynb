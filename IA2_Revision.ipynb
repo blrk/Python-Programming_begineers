{
  "nbformat": 4,
  "nbformat_minor": 0,
  "metadata": {
    "colab": {
      "name": "IA2-Revision",
      "provenance": []
    },
    "kernelspec": {
      "name": "python3",
      "display_name": "Python 3"
    },
    "language_info": {
      "name": "python"
    }
  },
  "cells": [
    {
      "cell_type": "code",
      "execution_count": 1,
      "metadata": {
        "colab": {
          "base_uri": "https://localhost:8080/"
        },
        "id": "jg939CRHa5HA",
        "outputId": "b6bdfffa-165a-49d4-de62-4ec18e2124ac"
      },
      "outputs": [
        {
          "output_type": "stream",
          "name": "stdout",
          "text": [
            "hello world!\n"
          ]
        }
      ],
      "source": [
        "print(\"hello world!\")"
      ]
    },
    {
      "cell_type": "code",
      "source": [
        "def greetings():\n",
        "  print(\"hello world!\")"
      ],
      "metadata": {
        "id": "CjvFLa4pbFmO"
      },
      "execution_count": 2,
      "outputs": []
    },
    {
      "cell_type": "code",
      "source": [
        "greetings()"
      ],
      "metadata": {
        "colab": {
          "base_uri": "https://localhost:8080/"
        },
        "id": "cYyqDnynbOjU",
        "outputId": "377f2025-6a24-4baa-d4aa-695b624e227e"
      },
      "execution_count": 3,
      "outputs": [
        {
          "output_type": "stream",
          "name": "stdout",
          "text": [
            "hello world!\n"
          ]
        }
      ]
    },
    {
      "cell_type": "code",
      "source": [
        "def greetings(mystr):\n",
        "  print(mystr)"
      ],
      "metadata": {
        "id": "Bw4KRCV6bX0r"
      },
      "execution_count": 6,
      "outputs": []
    },
    {
      "cell_type": "code",
      "source": [
        "greetings(\"hello world!\")"
      ],
      "metadata": {
        "colab": {
          "base_uri": "https://localhost:8080/"
        },
        "id": "ipsUtU-qbdu-",
        "outputId": "d2c876ca-dc1e-4565-dffa-1da87c791e70"
      },
      "execution_count": 7,
      "outputs": [
        {
          "output_type": "stream",
          "name": "stdout",
          "text": [
            "hello world!\n"
          ]
        }
      ]
    },
    {
      "cell_type": "code",
      "source": [
        "greetings(\"welcome to my opython class\")"
      ],
      "metadata": {
        "colab": {
          "base_uri": "https://localhost:8080/"
        },
        "id": "NHVAY7msbp3o",
        "outputId": "992a5ba8-34d5-40b4-9545-3246856de6e4"
      },
      "execution_count": 8,
      "outputs": [
        {
          "output_type": "stream",
          "name": "stdout",
          "text": [
            "welcome to my opython class\n"
          ]
        }
      ]
    },
    {
      "cell_type": "code",
      "source": [
        "class Welcome:\n",
        "  def greetings(self, mystr):\n",
        "     print(mystr)"
      ],
      "metadata": {
        "id": "xm17B-8cbyHZ"
      },
      "execution_count": 12,
      "outputs": []
    },
    {
      "cell_type": "code",
      "source": [
        "obj1 = Welcome()"
      ],
      "metadata": {
        "id": "2D1w7TIEb9Em"
      },
      "execution_count": 13,
      "outputs": []
    },
    {
      "cell_type": "code",
      "source": [
        "obj1.greetings(\"welcome to my class\")"
      ],
      "metadata": {
        "colab": {
          "base_uri": "https://localhost:8080/"
        },
        "id": "vpgWBOdOcDsZ",
        "outputId": "0129c605-3439-41da-96d1-01671da38b3a"
      },
      "execution_count": 14,
      "outputs": [
        {
          "output_type": "stream",
          "name": "stdout",
          "text": [
            "welcome to my class\n"
          ]
        }
      ]
    },
    {
      "cell_type": "code",
      "source": [
        "x = 10\n",
        "y = 20\n",
        "\n",
        "print(x + y)"
      ],
      "metadata": {
        "colab": {
          "base_uri": "https://localhost:8080/"
        },
        "id": "qJAYi2SucYXI",
        "outputId": "f7a060f0-ca0c-4172-96e6-83f1ab42a4d9"
      },
      "execution_count": 15,
      "outputs": [
        {
          "output_type": "stream",
          "name": "stdout",
          "text": [
            "30\n"
          ]
        }
      ]
    },
    {
      "cell_type": "code",
      "source": [
        "def add(x, y):\n",
        "  print(x + y)"
      ],
      "metadata": {
        "id": "mMqEMHeVciFK"
      },
      "execution_count": 17,
      "outputs": []
    },
    {
      "cell_type": "code",
      "source": [
        "add(10,20)"
      ],
      "metadata": {
        "colab": {
          "base_uri": "https://localhost:8080/"
        },
        "id": "Q6PS3XQhcqqE",
        "outputId": "2aba1e31-3b3e-4d99-81f0-402d755777b3"
      },
      "execution_count": 18,
      "outputs": [
        {
          "output_type": "stream",
          "name": "stdout",
          "text": [
            "30\n"
          ]
        }
      ]
    },
    {
      "cell_type": "code",
      "source": [
        "add(4, 5)"
      ],
      "metadata": {
        "colab": {
          "base_uri": "https://localhost:8080/"
        },
        "id": "JM2ohSY_ctHv",
        "outputId": "82ead308-93ec-4723-8f07-7481fd5a7343"
      },
      "execution_count": 19,
      "outputs": [
        {
          "output_type": "stream",
          "name": "stdout",
          "text": [
            "9\n"
          ]
        }
      ]
    },
    {
      "cell_type": "code",
      "source": [
        "class Number:\n",
        "  def add(self, x, y):\n",
        "    return x + y\n",
        "    "
      ],
      "metadata": {
        "id": "FD0vmuUjc4-I"
      },
      "execution_count": 20,
      "outputs": []
    },
    {
      "cell_type": "code",
      "source": [
        "n1 = Number()\n"
      ],
      "metadata": {
        "id": "RucoT8kzdC6M"
      },
      "execution_count": 21,
      "outputs": []
    },
    {
      "cell_type": "code",
      "source": [
        "n1.add(2, 3)"
      ],
      "metadata": {
        "colab": {
          "base_uri": "https://localhost:8080/"
        },
        "id": "xPzNdmNxdJJf",
        "outputId": "268759c4-28b4-4f86-c22f-a6681a3a0d98"
      },
      "execution_count": 22,
      "outputs": [
        {
          "output_type": "execute_result",
          "data": {
            "text/plain": [
              "5"
            ]
          },
          "metadata": {},
          "execution_count": 22
        }
      ]
    },
    {
      "cell_type": "code",
      "source": [
        "class Number:\n",
        "  def __init__(self):\n",
        "    self.x = 0\n",
        "    self.y = 0\n",
        "    print(\"I am called first as object is created\")\n",
        "  def add(self):\n",
        "    return self.x + self.y\n",
        "\n",
        "  def setNumber(self, x, y):\n",
        "    self.x = x\n",
        "    self.y = y"
      ],
      "metadata": {
        "id": "d05lmtCidQwE"
      },
      "execution_count": 30,
      "outputs": []
    },
    {
      "cell_type": "code",
      "source": [
        "n2 = Number()"
      ],
      "metadata": {
        "colab": {
          "base_uri": "https://localhost:8080/"
        },
        "id": "TjyuHTyXdkvE",
        "outputId": "f36bfda1-acff-466d-a7f5-cb5bc9a06737"
      },
      "execution_count": 31,
      "outputs": [
        {
          "output_type": "stream",
          "name": "stdout",
          "text": [
            "I am called first as object is created\n"
          ]
        }
      ]
    },
    {
      "cell_type": "code",
      "source": [
        "n2.add()"
      ],
      "metadata": {
        "colab": {
          "base_uri": "https://localhost:8080/"
        },
        "id": "FtHrXLtgd1s2",
        "outputId": "daf898ab-7453-457d-d93d-ce98abebdbdb"
      },
      "execution_count": 33,
      "outputs": [
        {
          "output_type": "execute_result",
          "data": {
            "text/plain": [
              "0"
            ]
          },
          "metadata": {},
          "execution_count": 33
        }
      ]
    },
    {
      "cell_type": "code",
      "source": [
        "n2.setNumber(10, 3)"
      ],
      "metadata": {
        "id": "f67gd5w8eSd1"
      },
      "execution_count": 34,
      "outputs": []
    },
    {
      "cell_type": "code",
      "source": [
        "n2.add()"
      ],
      "metadata": {
        "colab": {
          "base_uri": "https://localhost:8080/"
        },
        "id": "cR-vAXsPekIH",
        "outputId": "7ab0539d-8cda-4eec-fafc-a0764dbc2823"
      },
      "execution_count": 35,
      "outputs": [
        {
          "output_type": "execute_result",
          "data": {
            "text/plain": [
              "13"
            ]
          },
          "metadata": {},
          "execution_count": 35
        }
      ]
    },
    {
      "cell_type": "code",
      "source": [
        "class Number:\n",
        "  def __init__(self, x):\n",
        "    self.x = x\n",
        "  \n",
        "  def getNumber(self):\n",
        "    print(self.x)"
      ],
      "metadata": {
        "id": "sDmH4bn8exGv"
      },
      "execution_count": 48,
      "outputs": []
    },
    {
      "cell_type": "code",
      "source": [
        "n3 = Number(10)\n",
        "n4 = Number(20)"
      ],
      "metadata": {
        "id": "LdbYMDepfI7W"
      },
      "execution_count": 49,
      "outputs": []
    },
    {
      "cell_type": "code",
      "source": [
        "n3.getNumber()\n",
        "n4.getNumber()"
      ],
      "metadata": {
        "colab": {
          "base_uri": "https://localhost:8080/"
        },
        "id": "4KscCxdDfPR_",
        "outputId": "4dd166fb-d0d1-4521-c4f8-2736ff671b6e"
      },
      "execution_count": 50,
      "outputs": [
        {
          "output_type": "stream",
          "name": "stdout",
          "text": [
            "10\n",
            "20\n"
          ]
        }
      ]
    },
    {
      "cell_type": "code",
      "source": [
        "n3 + n4"
      ],
      "metadata": {
        "colab": {
          "base_uri": "https://localhost:8080/",
          "height": 168
        },
        "id": "vqUW3x5Dfmw9",
        "outputId": "6b89945b-cff4-4f81-d2d5-15db58235576"
      },
      "execution_count": 51,
      "outputs": [
        {
          "output_type": "error",
          "ename": "TypeError",
          "evalue": "ignored",
          "traceback": [
            "\u001b[0;31m---------------------------------------------------------------------------\u001b[0m",
            "\u001b[0;31mTypeError\u001b[0m                                 Traceback (most recent call last)",
            "\u001b[0;32m<ipython-input-51-225cf3269ef0>\u001b[0m in \u001b[0;36m<module>\u001b[0;34m()\u001b[0m\n\u001b[0;32m----> 1\u001b[0;31m \u001b[0mn3\u001b[0m \u001b[0;34m+\u001b[0m \u001b[0mn4\u001b[0m\u001b[0;34m\u001b[0m\u001b[0;34m\u001b[0m\u001b[0m\n\u001b[0m",
            "\u001b[0;31mTypeError\u001b[0m: unsupported operand type(s) for +: 'Number' and 'Number'"
          ]
        }
      ]
    },
    {
      "cell_type": "code",
      "source": [
        "class Number:\n",
        "  def __init__(self, x):\n",
        "    self.x = x\n",
        "  \n",
        "  def getNumber(self):\n",
        "    print(self.x)\n",
        "\n",
        "  def __add__(self, obj2):\n",
        "    return self.x + obj2.x"
      ],
      "metadata": {
        "id": "4hTg3JxQfw-G"
      },
      "execution_count": 56,
      "outputs": []
    },
    {
      "cell_type": "code",
      "source": [
        "n3 = Number(10)\n",
        "n4 = Number(20)\n",
        "n3.getNumber()\n",
        "n4.getNumber()"
      ],
      "metadata": {
        "colab": {
          "base_uri": "https://localhost:8080/"
        },
        "id": "mUYPnnO_f9Z3",
        "outputId": "c96a694e-c056-438d-9c2e-b446ccc3be49"
      },
      "execution_count": 57,
      "outputs": [
        {
          "output_type": "stream",
          "name": "stdout",
          "text": [
            "10\n",
            "20\n"
          ]
        }
      ]
    },
    {
      "cell_type": "code",
      "source": [
        "n3 + n4"
      ],
      "metadata": {
        "colab": {
          "base_uri": "https://localhost:8080/"
        },
        "id": "99QwuY-cgHgY",
        "outputId": "74906405-9cb9-4493-d243-e594657dc277"
      },
      "execution_count": 59,
      "outputs": [
        {
          "output_type": "execute_result",
          "data": {
            "text/plain": [
              "30"
            ]
          },
          "metadata": {},
          "execution_count": 59
        }
      ]
    }
  ]
}