{
  "nbformat": 4,
  "nbformat_minor": 0,
  "metadata": {
    "colab": {
      "name": "Lecture-20_Set, set operations, set methods.ipynb",
      "provenance": []
    },
    "kernelspec": {
      "name": "python3",
      "display_name": "Python 3"
    },
    "language_info": {
      "name": "python"
    }
  },
  "cells": [
    {
      "cell_type": "markdown",
      "source": [
        "### Set, set operations, set methods.\n",
        "* A Python set is the collection of the unordered items. \n",
        "* Each element in the set must be unique, immutable, and the sets remove the duplicate elements. \n",
        "* Sets are mutable which means we can modify it after its creation.\n",
        "* Unlike other collections in Python, there is no index attached to the elements of the set, i.e., we cannot directly access any element of the set by the index. \n",
        "* However, we can print them all together, or we can get the list of elements by looping through the set."
      ],
      "metadata": {
        "id": "OV6QnkZ-oW3m"
      }
    },
    {
      "cell_type": "code",
      "execution_count": null,
      "metadata": {
        "id": "cm7KMz-poRgg"
      },
      "outputs": [],
      "source": [
        "fruitSet = {\"Apple\", \"Orange\", \"mango\"}"
      ]
    },
    {
      "cell_type": "code",
      "source": [
        "fruitSet"
      ],
      "metadata": {
        "colab": {
          "base_uri": "https://localhost:8080/"
        },
        "id": "GtuaPRXI5h_q",
        "outputId": "24aec103-093c-4085-bcc9-77863f815b44"
      },
      "execution_count": null,
      "outputs": [
        {
          "output_type": "execute_result",
          "data": {
            "text/plain": [
              "{'Apple', 'Orange', 'mango'}"
            ]
          },
          "metadata": {},
          "execution_count": 2
        }
      ]
    },
    {
      "cell_type": "markdown",
      "source": [
        "### Set Items\n",
        "* Set items are unordered, unchangeable, and do not allow duplicate values."
      ],
      "metadata": {
        "id": "t7A-1WU4sala"
      }
    },
    {
      "cell_type": "code",
      "source": [
        "fruitSet = {\"Apple\", \"Orange\", \"mango\", \"Apple\"}"
      ],
      "metadata": {
        "id": "TBrEKCLQseQ7"
      },
      "execution_count": null,
      "outputs": []
    },
    {
      "cell_type": "code",
      "source": [
        "fruitSet"
      ],
      "metadata": {
        "colab": {
          "base_uri": "https://localhost:8080/"
        },
        "id": "iZ3xNX145ple",
        "outputId": "6dda46e7-8624-44b7-acd3-02826588242f"
      },
      "execution_count": null,
      "outputs": [
        {
          "output_type": "execute_result",
          "data": {
            "text/plain": [
              "{'Apple', 'Orange', 'mango'}"
            ]
          },
          "metadata": {},
          "execution_count": 4
        }
      ]
    },
    {
      "cell_type": "markdown",
      "source": [
        "### Unordered\n",
        "* Unordered means that the items in a set do not have a defined order.\n",
        "* Set items can appear in a different order every time you use them, and cannot be referred to by index or key."
      ],
      "metadata": {
        "id": "3IUaH6wzsfcg"
      }
    },
    {
      "cell_type": "code",
      "source": [
        "fruitSet[0]"
      ],
      "metadata": {
        "colab": {
          "base_uri": "https://localhost:8080/",
          "height": 172
        },
        "id": "8ewP7bnVsmms",
        "outputId": "cdd05f4f-bdcb-4150-bb0d-88796c3c6a58"
      },
      "execution_count": null,
      "outputs": [
        {
          "output_type": "error",
          "ename": "TypeError",
          "evalue": "ignored",
          "traceback": [
            "\u001b[0;31m---------------------------------------------------------------------------\u001b[0m",
            "\u001b[0;31mTypeError\u001b[0m                                 Traceback (most recent call last)",
            "\u001b[0;32m<ipython-input-5-c1a2bc2783b4>\u001b[0m in \u001b[0;36m<module>\u001b[0;34m()\u001b[0m\n\u001b[0;32m----> 1\u001b[0;31m \u001b[0mfruitSet\u001b[0m\u001b[0;34m[\u001b[0m\u001b[0;36m0\u001b[0m\u001b[0;34m]\u001b[0m\u001b[0;34m\u001b[0m\u001b[0;34m\u001b[0m\u001b[0m\n\u001b[0m",
            "\u001b[0;31mTypeError\u001b[0m: 'set' object is not subscriptable"
          ]
        }
      ]
    },
    {
      "cell_type": "code",
      "source": [
        "fruitSet = {\"Apple\", \"Orange\", \"mango\", \"Banna\"}"
      ],
      "metadata": {
        "id": "SdL_zGdj6A0B"
      },
      "execution_count": null,
      "outputs": []
    },
    {
      "cell_type": "code",
      "source": [
        "fruitSet"
      ],
      "metadata": {
        "colab": {
          "base_uri": "https://localhost:8080/"
        },
        "id": "ChZ4ft2W6Hd2",
        "outputId": "e8854492-8b68-44ec-fe76-7161c1e5c6e4"
      },
      "execution_count": null,
      "outputs": [
        {
          "output_type": "execute_result",
          "data": {
            "text/plain": [
              "{'Apple', 'Banna', 'Orange', 'mango'}"
            ]
          },
          "metadata": {},
          "execution_count": 9
        }
      ]
    },
    {
      "cell_type": "markdown",
      "source": [
        "### Unchangeable\n",
        "* Set items are unchangeable, meaning that we cannot change the items after the set has been created."
      ],
      "metadata": {
        "id": "wWthrYFVsqAb"
      }
    },
    {
      "cell_type": "code",
      "source": [
        "fruitSet[0] = \"Orange\""
      ],
      "metadata": {
        "colab": {
          "base_uri": "https://localhost:8080/",
          "height": 172
        },
        "id": "QRq2ZgBOssoL",
        "outputId": "7549cb28-9268-46ec-ec1f-6b053feff827"
      },
      "execution_count": null,
      "outputs": [
        {
          "output_type": "error",
          "ename": "TypeError",
          "evalue": "ignored",
          "traceback": [
            "\u001b[0;31m---------------------------------------------------------------------------\u001b[0m",
            "\u001b[0;31mTypeError\u001b[0m                                 Traceback (most recent call last)",
            "\u001b[0;32m<ipython-input-11-eff1d0efb81a>\u001b[0m in \u001b[0;36m<module>\u001b[0;34m()\u001b[0m\n\u001b[0;32m----> 1\u001b[0;31m \u001b[0mfruitSet\u001b[0m\u001b[0;34m[\u001b[0m\u001b[0;36m0\u001b[0m\u001b[0;34m]\u001b[0m \u001b[0;34m=\u001b[0m \u001b[0;34m\"Orange\"\u001b[0m\u001b[0;34m\u001b[0m\u001b[0;34m\u001b[0m\u001b[0m\n\u001b[0m",
            "\u001b[0;31mTypeError\u001b[0m: 'set' object does not support item assignment"
          ]
        }
      ]
    },
    {
      "cell_type": "markdown",
      "source": [
        "### Duplicates Not Allowed\n",
        "* Sets cannot have two items with the same value.\n",
        "\n"
      ],
      "metadata": {
        "id": "yzcRxcODstJs"
      }
    },
    {
      "cell_type": "code",
      "source": [
        "fruitSet = {\"Apple\", \"Orange\", \"mango\", \"Banna\", \"Orange\"}"
      ],
      "metadata": {
        "id": "Bmwf-D5hsxG1"
      },
      "execution_count": null,
      "outputs": []
    },
    {
      "cell_type": "code",
      "source": [
        "fruitSet"
      ],
      "metadata": {
        "colab": {
          "base_uri": "https://localhost:8080/"
        },
        "id": "z888nwUR600H",
        "outputId": "884cf48d-2d9d-422d-a5f1-13009c20bb0b"
      },
      "execution_count": null,
      "outputs": [
        {
          "output_type": "execute_result",
          "data": {
            "text/plain": [
              "{'Apple', 'Banna', 'Orange', 'mango'}"
            ]
          },
          "metadata": {},
          "execution_count": 13
        }
      ]
    },
    {
      "cell_type": "markdown",
      "source": [
        "### Get the Length of a Set\n",
        "* To determine how many items a set has, use the len() function."
      ],
      "metadata": {
        "id": "mjbRUGq-szk3"
      }
    },
    {
      "cell_type": "code",
      "source": [
        "len(fruitSet)"
      ],
      "metadata": {
        "colab": {
          "base_uri": "https://localhost:8080/"
        },
        "id": "fGpitTTYs2Ot",
        "outputId": "9fdb2b06-60ce-4c92-f836-85fab923f2d2"
      },
      "execution_count": null,
      "outputs": [
        {
          "output_type": "execute_result",
          "data": {
            "text/plain": [
              "4"
            ]
          },
          "metadata": {},
          "execution_count": 14
        }
      ]
    },
    {
      "cell_type": "markdown",
      "source": [
        "### Set Items - Data Types\n",
        "* Set items can be of any data type\n",
        "* type()"
      ],
      "metadata": {
        "id": "7ea94nHcs5IM"
      }
    },
    {
      "cell_type": "code",
      "source": [
        "type(fruitSet)"
      ],
      "metadata": {
        "colab": {
          "base_uri": "https://localhost:8080/"
        },
        "id": "aZZU_fsps77P",
        "outputId": "89c3bfe1-b32b-4f90-97c7-b24b7ee5fc4b"
      },
      "execution_count": null,
      "outputs": [
        {
          "output_type": "execute_result",
          "data": {
            "text/plain": [
              "set"
            ]
          },
          "metadata": {},
          "execution_count": 15
        }
      ]
    },
    {
      "cell_type": "code",
      "source": [
        "myset1 = {\"apple\", 123, True, \"XYZ Trading\"}"
      ],
      "metadata": {
        "id": "21zPC53-711u"
      },
      "execution_count": null,
      "outputs": []
    },
    {
      "cell_type": "code",
      "source": [
        "myset1"
      ],
      "metadata": {
        "colab": {
          "base_uri": "https://localhost:8080/"
        },
        "id": "VQmdtbCk8DZ1",
        "outputId": "c1f0d03d-2124-4618-87e6-a2221a764b7c"
      },
      "execution_count": null,
      "outputs": [
        {
          "output_type": "execute_result",
          "data": {
            "text/plain": [
              "{123, True, 'XYZ Trading', 'apple'}"
            ]
          },
          "metadata": {},
          "execution_count": 17
        }
      ]
    },
    {
      "cell_type": "markdown",
      "source": [
        "### set() Constructor\n",
        "* It is also possible to use the set() constructor to make a set."
      ],
      "metadata": {
        "id": "RauNq4tVtEPt"
      }
    },
    {
      "cell_type": "code",
      "source": [
        "myset2 = {\"apple\"}"
      ],
      "metadata": {
        "id": "-XS6zPa5tO0_"
      },
      "execution_count": null,
      "outputs": []
    },
    {
      "cell_type": "code",
      "source": [
        "myset3 = set((\"Apple\", \"Orange\", \"mango\", \"Banna\")) # you should use double round-brackets"
      ],
      "metadata": {
        "id": "TLOz8L6l8dDE"
      },
      "execution_count": null,
      "outputs": []
    },
    {
      "cell_type": "code",
      "source": [
        "myset3"
      ],
      "metadata": {
        "colab": {
          "base_uri": "https://localhost:8080/"
        },
        "id": "K3iC805b8w1R",
        "outputId": "8fc5488a-5222-47ca-a0ed-ad7ecc2047b6"
      },
      "execution_count": null,
      "outputs": [
        {
          "output_type": "execute_result",
          "data": {
            "text/plain": [
              "{'Apple', 'Banna', 'Orange', 'mango'}"
            ]
          },
          "metadata": {},
          "execution_count": 21
        }
      ]
    },
    {
      "cell_type": "markdown",
      "source": [
        "### Access Items\n",
        "* You cannot access items in a set by referring to an index or a key.\n",
        "* But you can loop through the set items using a for loop, or ask if a specified value is present in a set, by using the in keyword."
      ],
      "metadata": {
        "id": "KzbmMjbjtPBW"
      }
    },
    {
      "cell_type": "code",
      "source": [
        "for item in myset3:\n",
        "  print(item)"
      ],
      "metadata": {
        "colab": {
          "base_uri": "https://localhost:8080/"
        },
        "id": "4GHaKkGwtSo2",
        "outputId": "bfbd762f-4397-4fbf-d503-d330db039e35"
      },
      "execution_count": null,
      "outputs": [
        {
          "output_type": "stream",
          "name": "stdout",
          "text": [
            "Apple\n",
            "Orange\n",
            "mango\n",
            "Banna\n"
          ]
        }
      ]
    },
    {
      "cell_type": "markdown",
      "source": [
        "### Change Items\n",
        "* Once a set is created, you cannot change its items, but you can add new items.\n",
        "* To add one item to a set use the add() method."
      ],
      "metadata": {
        "id": "cuqiG5eStVnt"
      }
    },
    {
      "cell_type": "code",
      "source": [
        "myset3.add(\"cherry\")"
      ],
      "metadata": {
        "id": "eP5OEtewtX7q"
      },
      "execution_count": null,
      "outputs": []
    },
    {
      "cell_type": "code",
      "source": [
        "for item in myset3:\n",
        "  print(item)"
      ],
      "metadata": {
        "colab": {
          "base_uri": "https://localhost:8080/"
        },
        "id": "OvVc_bvd90nE",
        "outputId": "7e3959b0-0da0-41ea-f0a1-7652a0872936"
      },
      "execution_count": null,
      "outputs": [
        {
          "output_type": "stream",
          "name": "stdout",
          "text": [
            "cherry\n",
            "Orange\n",
            "mango\n",
            "Apple\n",
            "Banna\n"
          ]
        }
      ]
    },
    {
      "cell_type": "code",
      "source": [
        "myset3"
      ],
      "metadata": {
        "colab": {
          "base_uri": "https://localhost:8080/"
        },
        "id": "QKbmz4JJ96GL",
        "outputId": "0fc73404-4c4b-42b8-fc6d-15a09c36f511"
      },
      "execution_count": null,
      "outputs": [
        {
          "output_type": "execute_result",
          "data": {
            "text/plain": [
              "{'Apple', 'Banna', 'Orange', 'cherry', 'mango'}"
            ]
          },
          "metadata": {},
          "execution_count": 25
        }
      ]
    },
    {
      "cell_type": "markdown",
      "source": [
        "### Add Sets\n",
        "* To add items from another set into the current set, use the update() method."
      ],
      "metadata": {
        "id": "-8kq6icQtnjL"
      }
    },
    {
      "cell_type": "code",
      "source": [
        "myset3 = {\"Apple\", \"Orange\", \"mango\", \"Banna\"}\n",
        "myset4 = {\"papaya\"}"
      ],
      "metadata": {
        "id": "hiSW0ZLctscL"
      },
      "execution_count": null,
      "outputs": []
    },
    {
      "cell_type": "code",
      "source": [
        "myset3.update(myset4)"
      ],
      "metadata": {
        "id": "7uYyLIzc-eCz"
      },
      "execution_count": null,
      "outputs": []
    },
    {
      "cell_type": "code",
      "source": [
        "for item in myset3:\n",
        "  print(item)"
      ],
      "metadata": {
        "colab": {
          "base_uri": "https://localhost:8080/"
        },
        "id": "9ZyBgyVg-7Tg",
        "outputId": "f4bbf1d8-b5aa-4fb5-eb16-28340b1147ae"
      },
      "execution_count": null,
      "outputs": [
        {
          "output_type": "stream",
          "name": "stdout",
          "text": [
            "Apple\n",
            "papaya\n",
            "Orange\n",
            "mango\n",
            "Banna\n"
          ]
        }
      ]
    },
    {
      "cell_type": "code",
      "source": [
        "myset3"
      ],
      "metadata": {
        "colab": {
          "base_uri": "https://localhost:8080/"
        },
        "id": "n6Yjz6c7_oRs",
        "outputId": "c45cebb6-b4d2-4c18-f318-dcfd87aff066"
      },
      "execution_count": null,
      "outputs": [
        {
          "output_type": "execute_result",
          "data": {
            "text/plain": [
              "{'Apple', 'Banna', 'Orange', 'mango', 'papaya'}"
            ]
          },
          "metadata": {},
          "execution_count": 35
        }
      ]
    },
    {
      "cell_type": "markdown",
      "source": [
        "### Add Any Iterable\n",
        "* The object in the update() method does not have to be a set, it can be any iterable object (tuples, lists, dictionaries etc.)."
      ],
      "metadata": {
        "id": "HHPA3uutt0iG"
      }
    },
    {
      "cell_type": "code",
      "source": [
        "myset3 = {\"Apple\", \"Orange\", \"mango\", \"Banna\"}\n",
        "mylist = [\"Kiwi\", \"Grape\"]"
      ],
      "metadata": {
        "id": "GWvjTYPct9Ft"
      },
      "execution_count": null,
      "outputs": []
    },
    {
      "cell_type": "code",
      "source": [
        "myset3.update(mylist)"
      ],
      "metadata": {
        "id": "hTTdXR7rAOnn"
      },
      "execution_count": null,
      "outputs": []
    },
    {
      "cell_type": "code",
      "source": [
        "for item in myset3:\n",
        "  print(item)"
      ],
      "metadata": {
        "colab": {
          "base_uri": "https://localhost:8080/"
        },
        "id": "7X0joHXnAVjT",
        "outputId": "cd7e65ac-80f5-4e56-f756-ebcc04b7bbae"
      },
      "execution_count": null,
      "outputs": [
        {
          "output_type": "stream",
          "name": "stdout",
          "text": [
            "Kiwi\n",
            "Orange\n",
            "mango\n",
            "Grape\n",
            "Apple\n",
            "Banna\n"
          ]
        }
      ]
    },
    {
      "cell_type": "markdown",
      "source": [
        "### Remove Item\n",
        "* To remove an item in a set, use the remove(), or the discard() method.\n",
        "* **Note:** If the item to remove does not exist, remove() will raise an error.\n",
        "* Remove \"banana\" by using the discard() method:\n",
        "* **Note:** If the item to remove does not exist, discard() will NOT raise an error.\n",
        "* You can also use the pop() method to remove an item, but this method will remove the last item. \n",
        "* **Note:** Remember that sets are unordered, so you will not know what item that gets removed."
      ],
      "metadata": {
        "id": "7pSS6Qwtt9Wz"
      }
    },
    {
      "cell_type": "code",
      "source": [
        "myset3"
      ],
      "metadata": {
        "colab": {
          "base_uri": "https://localhost:8080/"
        },
        "id": "O0ja9FwiuAm2",
        "outputId": "bdd79fdc-c017-4c43-fac3-89346ed4015e"
      },
      "execution_count": null,
      "outputs": [
        {
          "output_type": "execute_result",
          "data": {
            "text/plain": [
              "{'Apple', 'Banna', 'Grape', 'Kiwi', 'Orange', 'mango'}"
            ]
          },
          "metadata": {},
          "execution_count": 39
        }
      ]
    },
    {
      "cell_type": "code",
      "source": [
        "myset3.remove(\"Banna\")"
      ],
      "metadata": {
        "id": "QoWz3QqmAkdQ"
      },
      "execution_count": null,
      "outputs": []
    },
    {
      "cell_type": "code",
      "source": [
        "myset3"
      ],
      "metadata": {
        "colab": {
          "base_uri": "https://localhost:8080/"
        },
        "id": "Ykk3_xmOAuFE",
        "outputId": "dde5f034-a291-4309-e32a-1523dec72e67"
      },
      "execution_count": null,
      "outputs": [
        {
          "output_type": "execute_result",
          "data": {
            "text/plain": [
              "{'Apple', 'Grape', 'Kiwi', 'Orange', 'mango'}"
            ]
          },
          "metadata": {},
          "execution_count": 41
        }
      ]
    },
    {
      "cell_type": "code",
      "source": [
        "myset3.remove(\"Banna\")"
      ],
      "metadata": {
        "colab": {
          "base_uri": "https://localhost:8080/",
          "height": 172
        },
        "id": "gIC9sOiBAw0O",
        "outputId": "55a10aac-0884-48f0-b8b5-63926abdf959"
      },
      "execution_count": null,
      "outputs": [
        {
          "output_type": "error",
          "ename": "KeyError",
          "evalue": "ignored",
          "traceback": [
            "\u001b[0;31m---------------------------------------------------------------------------\u001b[0m",
            "\u001b[0;31mKeyError\u001b[0m                                  Traceback (most recent call last)",
            "\u001b[0;32m<ipython-input-42-7859d0845937>\u001b[0m in \u001b[0;36m<module>\u001b[0;34m()\u001b[0m\n\u001b[0;32m----> 1\u001b[0;31m \u001b[0mmyset3\u001b[0m\u001b[0;34m.\u001b[0m\u001b[0mremove\u001b[0m\u001b[0;34m(\u001b[0m\u001b[0;34m\"Banna\"\u001b[0m\u001b[0;34m)\u001b[0m\u001b[0;34m\u001b[0m\u001b[0;34m\u001b[0m\u001b[0m\n\u001b[0m",
            "\u001b[0;31mKeyError\u001b[0m: 'Banna'"
          ]
        }
      ]
    },
    {
      "cell_type": "code",
      "source": [
        "myset3.discard(\"Banna\")"
      ],
      "metadata": {
        "id": "VPBFGG4nA8JI"
      },
      "execution_count": null,
      "outputs": []
    },
    {
      "cell_type": "code",
      "source": [
        "myset3.discard(\"mango\")"
      ],
      "metadata": {
        "id": "-n-6d1pkBBCL"
      },
      "execution_count": null,
      "outputs": []
    },
    {
      "cell_type": "code",
      "source": [
        "myset3"
      ],
      "metadata": {
        "colab": {
          "base_uri": "https://localhost:8080/"
        },
        "id": "X7bh3vtABLhJ",
        "outputId": "0b41d4ce-88b2-4bdc-8961-481697745676"
      },
      "execution_count": null,
      "outputs": [
        {
          "output_type": "execute_result",
          "data": {
            "text/plain": [
              "{'Apple', 'Grape', 'Kiwi', 'Orange'}"
            ]
          },
          "metadata": {},
          "execution_count": 45
        }
      ]
    },
    {
      "cell_type": "code",
      "source": [
        "myset3.pop()"
      ],
      "metadata": {
        "colab": {
          "base_uri": "https://localhost:8080/",
          "height": 37
        },
        "id": "Iyk0zD64BTiN",
        "outputId": "54cd2c32-7345-43a3-8bf4-14237e97335f"
      },
      "execution_count": null,
      "outputs": [
        {
          "output_type": "execute_result",
          "data": {
            "text/plain": [
              "'Kiwi'"
            ],
            "application/vnd.google.colaboratory.intrinsic+json": {
              "type": "string"
            }
          },
          "metadata": {},
          "execution_count": 46
        }
      ]
    },
    {
      "cell_type": "code",
      "source": [
        "for item in myset3:\n",
        "  print(item)"
      ],
      "metadata": {
        "colab": {
          "base_uri": "https://localhost:8080/"
        },
        "id": "Yqp5QmmeBcTY",
        "outputId": "b50b9995-154c-464f-88b4-324a98ba678c"
      },
      "execution_count": null,
      "outputs": [
        {
          "output_type": "stream",
          "name": "stdout",
          "text": [
            "Orange\n",
            "Grape\n",
            "Apple\n"
          ]
        }
      ]
    },
    {
      "cell_type": "code",
      "source": [
        "myset3.pop()"
      ],
      "metadata": {
        "colab": {
          "base_uri": "https://localhost:8080/",
          "height": 37
        },
        "id": "bVUFNxlYBitv",
        "outputId": "e19b1255-dd14-4a29-babe-1e6f458591ed"
      },
      "execution_count": null,
      "outputs": [
        {
          "output_type": "execute_result",
          "data": {
            "text/plain": [
              "'Orange'"
            ],
            "application/vnd.google.colaboratory.intrinsic+json": {
              "type": "string"
            }
          },
          "metadata": {},
          "execution_count": 48
        }
      ]
    },
    {
      "cell_type": "code",
      "source": [
        "myset3.clear() # empties the set"
      ],
      "metadata": {
        "id": "bhlze1FfBv61"
      },
      "execution_count": null,
      "outputs": []
    },
    {
      "cell_type": "code",
      "source": [
        "myset3"
      ],
      "metadata": {
        "colab": {
          "base_uri": "https://localhost:8080/"
        },
        "id": "SInS6PsLB10s",
        "outputId": "ca611bf9-65f7-4789-b01c-99ed465d0b1f"
      },
      "execution_count": null,
      "outputs": [
        {
          "output_type": "execute_result",
          "data": {
            "text/plain": [
              "set()"
            ]
          },
          "metadata": {},
          "execution_count": 50
        }
      ]
    },
    {
      "cell_type": "code",
      "source": [
        "del myset3 # delete the set completely"
      ],
      "metadata": {
        "id": "cVCUkQxgB4Sa"
      },
      "execution_count": null,
      "outputs": []
    },
    {
      "cell_type": "code",
      "source": [
        "myset3"
      ],
      "metadata": {
        "colab": {
          "base_uri": "https://localhost:8080/",
          "height": 172
        },
        "id": "_uPmQH3zB9l2",
        "outputId": "eec92409-4938-4e61-ed01-a74c54d9d0bb"
      },
      "execution_count": null,
      "outputs": [
        {
          "output_type": "error",
          "ename": "NameError",
          "evalue": "ignored",
          "traceback": [
            "\u001b[0;31m---------------------------------------------------------------------------\u001b[0m",
            "\u001b[0;31mNameError\u001b[0m                                 Traceback (most recent call last)",
            "\u001b[0;32m<ipython-input-52-c966121d7daa>\u001b[0m in \u001b[0;36m<module>\u001b[0;34m()\u001b[0m\n\u001b[0;32m----> 1\u001b[0;31m \u001b[0mmyset3\u001b[0m\u001b[0;34m\u001b[0m\u001b[0;34m\u001b[0m\u001b[0m\n\u001b[0m",
            "\u001b[0;31mNameError\u001b[0m: name 'myset3' is not defined"
          ]
        }
      ]
    },
    {
      "cell_type": "markdown",
      "source": [
        "### Join Two Sets\n",
        "* You can use the union() method that returns a new set containing all items from both sets, or the update() method that inserts all the items from one set into another:"
      ],
      "metadata": {
        "id": "5-cL7hequDMZ"
      }
    },
    {
      "cell_type": "code",
      "source": [
        "set1 = {\"z\", \"a\", \"b\"}\n",
        "set2 = {1, 2, 4}"
      ],
      "metadata": {
        "id": "3pWkCEm2uhmL"
      },
      "execution_count": null,
      "outputs": []
    },
    {
      "cell_type": "code",
      "source": [
        "set3 = set1.union(set2)"
      ],
      "metadata": {
        "id": "yobvMbeICRwn"
      },
      "execution_count": null,
      "outputs": []
    },
    {
      "cell_type": "code",
      "source": [
        "set3"
      ],
      "metadata": {
        "colab": {
          "base_uri": "https://localhost:8080/"
        },
        "id": "QTpEEb1ACYp1",
        "outputId": "e3f2da6a-89e1-4aae-9884-0123e1eedeb9"
      },
      "execution_count": null,
      "outputs": [
        {
          "output_type": "execute_result",
          "data": {
            "text/plain": [
              "{1, 2, 4, 'a', 'b', 'z'}"
            ]
          },
          "metadata": {},
          "execution_count": 55
        }
      ]
    },
    {
      "cell_type": "code",
      "source": [
        "set1.update(set2)"
      ],
      "metadata": {
        "id": "DJEpiO3RCfwH"
      },
      "execution_count": null,
      "outputs": []
    },
    {
      "cell_type": "code",
      "source": [
        "set1"
      ],
      "metadata": {
        "colab": {
          "base_uri": "https://localhost:8080/"
        },
        "id": "u6UQ1d4wCnnD",
        "outputId": "ed3060c8-c936-4280-acd1-409971d93273"
      },
      "execution_count": null,
      "outputs": [
        {
          "output_type": "execute_result",
          "data": {
            "text/plain": [
              "{1, 2, 4, 'a', 'b', 'z'}"
            ]
          },
          "metadata": {},
          "execution_count": 57
        }
      ]
    },
    {
      "cell_type": "markdown",
      "source": [
        "### Keep ONLY the Duplicates\n",
        "* The intersection_update() method will keep only the items that are present in both sets."
      ],
      "metadata": {
        "id": "oEWXaJzSu6KI"
      }
    },
    {
      "cell_type": "code",
      "source": [
        "set1 = {1, 2, 3, 4}\n",
        "set2 = {1, 2, 5, 6}"
      ],
      "metadata": {
        "id": "-N4OwVXQu9UX"
      },
      "execution_count": null,
      "outputs": []
    },
    {
      "cell_type": "code",
      "source": [
        "set1.intersection_update(set2)"
      ],
      "metadata": {
        "id": "EzeoI3VyC5FR"
      },
      "execution_count": null,
      "outputs": []
    },
    {
      "cell_type": "code",
      "source": [
        "set1"
      ],
      "metadata": {
        "colab": {
          "base_uri": "https://localhost:8080/"
        },
        "id": "caLQpg38DB8m",
        "outputId": "c67b8628-fe45-4528-c877-af41df6f62fe"
      },
      "execution_count": null,
      "outputs": [
        {
          "output_type": "execute_result",
          "data": {
            "text/plain": [
              "{1, 2}"
            ]
          },
          "metadata": {},
          "execution_count": 60
        }
      ]
    },
    {
      "cell_type": "code",
      "source": [
        "set1 = {1, 2, 3, 4}\n",
        "set2 = {1, 2, 5, 6}\n",
        "set3 = set1.intersection(set2)\n",
        "set3"
      ],
      "metadata": {
        "colab": {
          "base_uri": "https://localhost:8080/"
        },
        "id": "Hep_85Y6DsAK",
        "outputId": "9cfe1841-7fda-4a0b-95f3-acfb497c7f4f"
      },
      "execution_count": null,
      "outputs": [
        {
          "output_type": "execute_result",
          "data": {
            "text/plain": [
              "{1, 2}"
            ]
          },
          "metadata": {},
          "execution_count": 64
        }
      ]
    },
    {
      "cell_type": "markdown",
      "source": [
        "### Keep All, But NOT the Duplicates\n",
        "* The symmetric_difference_update() method will keep only the elements that are NOT present in both sets."
      ],
      "metadata": {
        "id": "ANeqQw0fvBNL"
      }
    },
    {
      "cell_type": "code",
      "source": [
        "set1 = {1, 2, 3, 4}\n",
        "set2 = {1, 2, 5, 6}\n",
        "set1.symmetric_difference_update(set2)\n",
        "set1"
      ],
      "metadata": {
        "colab": {
          "base_uri": "https://localhost:8080/"
        },
        "id": "ANWMpZkcDHYe",
        "outputId": "c4b9d115-bbf8-430b-8fe5-9a8a771513f2"
      },
      "execution_count": null,
      "outputs": [
        {
          "output_type": "execute_result",
          "data": {
            "text/plain": [
              "{3, 4, 5, 6}"
            ]
          },
          "metadata": {},
          "execution_count": 63
        }
      ]
    }
  ]
}