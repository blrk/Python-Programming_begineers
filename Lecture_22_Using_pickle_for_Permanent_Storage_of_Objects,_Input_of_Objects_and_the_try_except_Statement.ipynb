{
  "nbformat": 4,
  "nbformat_minor": 0,
  "metadata": {
    "colab": {
      "name": "Lecture-22_Using pickle for Permanent Storage of Objects, Input of Objects and the try-except Statement.ipynb",
      "provenance": [],
      "collapsed_sections": []
    },
    "kernelspec": {
      "name": "python3",
      "display_name": "Python 3"
    },
    "language_info": {
      "name": "python"
    }
  },
  "cells": [
    {
      "cell_type": "markdown",
      "source": [
        "### Using pickle for Permanent Storage of Objects, Input of Objects and the try-except Statement\n",
        "\n"
      ],
      "metadata": {
        "id": "p8sboMcnt6pj"
      }
    },
    {
      "cell_type": "markdown",
      "source": [
        "### Pickle\n",
        "* Pickle is used for serializing and de-serializing Python object structures, also called marshalling or flattening.\n",
        "* Serialization refers to the process of converting an object in memory to a byte stream that can be stored on disk or sent over a network.\n",
        "* Later on, this character stream can then be retrieved and de-serialized back to a Python object. \n",
        "* Pickling is not to be confused with compression! "
      ],
      "metadata": {
        "id": "God8hasnR-gA"
      }
    },
    {
      "cell_type": "markdown",
      "source": [
        "### What can be pickled?\n",
        "* You can pickle objects with the following data types:\n",
        "  * Booleans\n",
        "  * Integers\n",
        "  * Floats\n",
        "  * Complex numbers\n",
        "  * (normal and Unicode) Strings\n",
        "  * Tuples\n",
        "  * Lists\n",
        "  * Sets\n",
        "  * Dictionaries"
      ],
      "metadata": {
        "id": "VK0VacZiSTjM"
      }
    },
    {
      "cell_type": "code",
      "source": [
        "import pickle\n",
        "\n",
        "myDict = {\"Kevin\":101, \"John\":102}\n",
        "\n",
        "f1 = open('sample1.txt', 'wb')\n",
        "\n",
        "pickle.dump(myDict, f1)\n",
        "\n",
        "f1.close()"
      ],
      "metadata": {
        "id": "6KkPoC6IX-NU"
      },
      "execution_count": null,
      "outputs": []
    },
    {
      "cell_type": "code",
      "source": [
        "f2 = open('sample1.txt', 'rb')\n",
        "\n",
        "data = pickle.load(f2)\n"
      ],
      "metadata": {
        "id": "OOnAEaNkTxrH"
      },
      "execution_count": null,
      "outputs": []
    },
    {
      "cell_type": "code",
      "source": [
        "data"
      ],
      "metadata": {
        "colab": {
          "base_uri": "https://localhost:8080/"
        },
        "id": "qCUmIUA4UR78",
        "outputId": "fa92aab2-d204-455c-f442-2f1a87804c42"
      },
      "execution_count": null,
      "outputs": [
        {
          "output_type": "execute_result",
          "data": {
            "text/plain": [
              "{'John': 102, 'Kevin': 101}"
            ]
          },
          "metadata": {},
          "execution_count": 3
        }
      ]
    },
    {
      "cell_type": "code",
      "source": [
        "for k, v in data.items():\n",
        "  print(k, v)"
      ],
      "metadata": {
        "colab": {
          "base_uri": "https://localhost:8080/"
        },
        "id": "qG4MOEwGUX9t",
        "outputId": "aa0a44dc-7e2a-469f-d0ab-a186ce05a619"
      },
      "execution_count": null,
      "outputs": [
        {
          "output_type": "stream",
          "name": "stdout",
          "text": [
            "Kevin 101\n",
            "John 102\n"
          ]
        }
      ]
    },
    {
      "cell_type": "code",
      "source": [
        "f2.close()"
      ],
      "metadata": {
        "id": "nd2LrqCUUkn0"
      },
      "execution_count": null,
      "outputs": []
    },
    {
      "cell_type": "markdown",
      "source": [
        "### Using pickle for Permanent Storage of Objects\n",
        "* Already you learned, saving data in permanent storage with text files. \n",
        "* Now suppose you want to save new types of objects to files. \n",
        "  * For example, it would be a wise idea to back up the information of a Account to a file whenever balance is modified. \n",
        "* You can convert any object to text for storage, but the mapping of complex objects to text and back again can be tedious and cause maintenance headaches. * Fortunately, Python includes a module that allows the programmer to save and load objects using a process called pickling.\n",
        "* You can pickle an object before it is saved to a file, and then unpickle it\n",
        "as it is loaded from a file into a program. \n",
        "* Python takes care of all of the conversion details automatically. \n",
        "* You start by importing the pickle module. Files are opened for input and\n",
        "output and closed in the usual manner, except that the flags \"rb\" and \"wb\" are used instead of 'r' and 'w' , respectively. \n",
        "* To save an object, you use the function pickle.dump . \n",
        "* Its first argument is the object to be “dumped,” or saved to a file, and its second argument is the file object."
      ],
      "metadata": {
        "id": "uB458vfGuBCg"
      }
    },
    {
      "cell_type": "code",
      "source": [
        "import pickle\n",
        "\n",
        "class Account:\n",
        "  \n",
        "  def __init__(self, accNo, accName, accBal):\n",
        "    self.accNo = accNo\n",
        "    self.accName = accName\n",
        "    self.accBal = accBal\n",
        "\n",
        "  def getAccount(self):\n",
        "    print(\"the details of the account is\")\n",
        "    print(\"Account Number:\", self.accNo)\n",
        "    print(\"Account Holder Name:\", self.accName)\n",
        "    print(\"Account Balance:\", self.accBal)"
      ],
      "metadata": {
        "id": "IIGS_WK5MSmA"
      },
      "execution_count": null,
      "outputs": []
    },
    {
      "cell_type": "code",
      "source": [
        "# create object\n",
        "acc1 = Account(101, \"RK\", 100000)\n",
        "\n",
        "# open a file in write mode\n",
        "accFile = open('account', 'wb') \n",
        "\n",
        "# pickle the account object and write it to the file\n",
        "pickle.dump(acc1, accFile)\n",
        "\n",
        "#close the file\n",
        "accFile.close()"
      ],
      "metadata": {
        "id": "xqdmVxmrM-L3"
      },
      "execution_count": null,
      "outputs": []
    },
    {
      "cell_type": "code",
      "source": [
        "# open the file in read mode\n",
        "accFile = open('account', 'rb')\n",
        "\n",
        "# unpickle the dataframe\n",
        "acc2 = pickle.load(accFile)\n",
        "\n",
        "# print the object\n",
        "print(type(acc2))\n",
        "acc2.getAccount()\n",
        "\n",
        "# close the file\n",
        "accFile.close()"
      ],
      "metadata": {
        "colab": {
          "base_uri": "https://localhost:8080/"
        },
        "id": "jOJks18IXV4T",
        "outputId": "c9a0cbde-66e3-425d-c39a-f0186775fcec"
      },
      "execution_count": null,
      "outputs": [
        {
          "output_type": "stream",
          "name": "stdout",
          "text": [
            "<class '__main__.Account'>\n",
            "the details of the account is\n",
            "Account Number: 101\n",
            "Account Holder Name: RK\n",
            "Account Balance: 100000\n"
          ]
        }
      ]
    },
    {
      "cell_type": "markdown",
      "source": [
        "### Exception Handling\n",
        "* Even if a statement or expression is syntactically correct, it may cause an error when an attempt is made to execute it. \n",
        "* Errors detected during execution are called exceptions and are not unconditionally fatal:\n",
        "* The syntax of a simple try-except statement is the following:\n",
        "``` python\n",
        "try:\n",
        "<statements>\n",
        "except <exception type>:\n",
        "<statements>\n",
        "```"
      ],
      "metadata": {
        "id": "3SlaGehKYoi1"
      }
    },
    {
      "cell_type": "markdown",
      "source": [
        "* The **try** block lets you test a block of code for errors.\n",
        "* The **except** block lets you handle the error.\n",
        "* The **else** block lets you execute code when there is no error.\n",
        "* The **finally** block lets you execute code, regardless of the result of the try- and except blocks.\n",
        "\n"
      ],
      "metadata": {
        "id": "zCHE__UN2kXI"
      }
    },
    {
      "cell_type": "code",
      "source": [
        "# error and exception \n",
        "\n",
        "# error \n",
        "print('hello)"
      ],
      "metadata": {
        "id": "0DJrB6D3Yqdi",
        "colab": {
          "base_uri": "https://localhost:8080/",
          "height": 132
        },
        "outputId": "94a12693-30f0-4670-d52e-9215bc673298"
      },
      "execution_count": null,
      "outputs": [
        {
          "output_type": "error",
          "ename": "SyntaxError",
          "evalue": "ignored",
          "traceback": [
            "\u001b[0;36m  File \u001b[0;32m\"<ipython-input-9-ec8a71a52dda>\"\u001b[0;36m, line \u001b[0;32m4\u001b[0m\n\u001b[0;31m    print('hello)\u001b[0m\n\u001b[0m                 ^\u001b[0m\n\u001b[0;31mSyntaxError\u001b[0m\u001b[0;31m:\u001b[0m EOL while scanning string literal\n"
          ]
        }
      ]
    },
    {
      "cell_type": "markdown",
      "source": [
        "### How to handle exception?"
      ],
      "metadata": {
        "id": "GWvtL-uFYzFV"
      }
    },
    {
      "cell_type": "code",
      "source": [
        "print(x)\n",
        "print(\"welcome to my calss\")"
      ],
      "metadata": {
        "id": "jp_M2Q9EYtqz",
        "colab": {
          "base_uri": "https://localhost:8080/",
          "height": 185
        },
        "outputId": "a246d660-e2a6-471f-b1da-d349a4b39a6a"
      },
      "execution_count": null,
      "outputs": [
        {
          "output_type": "error",
          "ename": "NameError",
          "evalue": "ignored",
          "traceback": [
            "\u001b[0;31m---------------------------------------------------------------------------\u001b[0m",
            "\u001b[0;31mNameError\u001b[0m                                 Traceback (most recent call last)",
            "\u001b[0;32m<ipython-input-13-9cece2490b90>\u001b[0m in \u001b[0;36m<module>\u001b[0;34m()\u001b[0m\n\u001b[0;32m----> 1\u001b[0;31m \u001b[0mprint\u001b[0m\u001b[0;34m(\u001b[0m\u001b[0mx\u001b[0m\u001b[0;34m)\u001b[0m\u001b[0;34m\u001b[0m\u001b[0;34m\u001b[0m\u001b[0m\n\u001b[0m\u001b[1;32m      2\u001b[0m \u001b[0mprint\u001b[0m\u001b[0;34m(\u001b[0m\u001b[0;34m\"welcome to my calss\"\u001b[0m\u001b[0;34m)\u001b[0m\u001b[0;34m\u001b[0m\u001b[0;34m\u001b[0m\u001b[0m\n",
            "\u001b[0;31mNameError\u001b[0m: name 'x' is not defined"
          ]
        }
      ]
    },
    {
      "cell_type": "code",
      "source": [
        "try:\n",
        "  print(x)\n",
        "except NameError:\n",
        "  print(\"Name is not defined\")\n",
        "print(\"Next statement of try-except\")"
      ],
      "metadata": {
        "id": "0QizBgv7f-Yq",
        "colab": {
          "base_uri": "https://localhost:8080/"
        },
        "outputId": "718b87fd-c88e-4910-c0fd-d4f816a33e5a"
      },
      "execution_count": null,
      "outputs": [
        {
          "output_type": "stream",
          "name": "stdout",
          "text": [
            "Name is not defined\n",
            "Next statement of try-except\n"
          ]
        }
      ]
    },
    {
      "cell_type": "code",
      "source": [
        "x = 10\n",
        "try:\n",
        "  print(x)\n",
        "except NameError:\n",
        "  print(\"Name is not defined\")\n",
        "print(\"Next statement of try-except\")"
      ],
      "metadata": {
        "id": "Yi5_nINsgAYA",
        "colab": {
          "base_uri": "https://localhost:8080/"
        },
        "outputId": "4cd14f60-d15a-4b56-d57e-75cebecca4cb"
      },
      "execution_count": null,
      "outputs": [
        {
          "output_type": "stream",
          "name": "stdout",
          "text": [
            "10\n",
            "Next statement of try-except\n"
          ]
        }
      ]
    },
    {
      "cell_type": "code",
      "source": [
        "myDict = {\"one\": 1, \"two\": 2}\n",
        "print(myDict['three'])"
      ],
      "metadata": {
        "colab": {
          "base_uri": "https://localhost:8080/",
          "height": 185
        },
        "id": "pIdIGsFs6uVp",
        "outputId": "49d6b9ca-46be-40ab-b5f7-5902b05086cd"
      },
      "execution_count": null,
      "outputs": [
        {
          "output_type": "error",
          "ename": "KeyError",
          "evalue": "ignored",
          "traceback": [
            "\u001b[0;31m---------------------------------------------------------------------------\u001b[0m",
            "\u001b[0;31mKeyError\u001b[0m                                  Traceback (most recent call last)",
            "\u001b[0;32m<ipython-input-3-c714404936c0>\u001b[0m in \u001b[0;36m<module>\u001b[0;34m()\u001b[0m\n\u001b[1;32m      1\u001b[0m \u001b[0mmyDict\u001b[0m \u001b[0;34m=\u001b[0m \u001b[0;34m{\u001b[0m\u001b[0;34m\"one\"\u001b[0m\u001b[0;34m:\u001b[0m \u001b[0;36m1\u001b[0m\u001b[0;34m,\u001b[0m \u001b[0;34m\"two\"\u001b[0m\u001b[0;34m:\u001b[0m \u001b[0;36m2\u001b[0m\u001b[0;34m}\u001b[0m\u001b[0;34m\u001b[0m\u001b[0;34m\u001b[0m\u001b[0m\n\u001b[0;32m----> 2\u001b[0;31m \u001b[0mprint\u001b[0m\u001b[0;34m(\u001b[0m\u001b[0mmyDict\u001b[0m\u001b[0;34m[\u001b[0m\u001b[0;34m'three'\u001b[0m\u001b[0;34m]\u001b[0m\u001b[0;34m)\u001b[0m\u001b[0;34m\u001b[0m\u001b[0;34m\u001b[0m\u001b[0m\n\u001b[0m",
            "\u001b[0;31mKeyError\u001b[0m: 'three'"
          ]
        }
      ]
    },
    {
      "cell_type": "code",
      "source": [
        "myDict = {\"one\": 1, \"two\": 2}\n",
        "try:\n",
        "  print(myDict['three'])\n",
        "except KeyError:\n",
        "  print(\"Key not availbale in the dictionary\")"
      ],
      "metadata": {
        "colab": {
          "base_uri": "https://localhost:8080/"
        },
        "id": "1wIhzoQV6d4R",
        "outputId": "340d60f2-cf08-4ddb-e252-cd1af3302d9b"
      },
      "execution_count": null,
      "outputs": [
        {
          "output_type": "stream",
          "name": "stdout",
          "text": [
            "Key not availbale in the dictionary\n"
          ]
        }
      ]
    },
    {
      "cell_type": "code",
      "source": [
        "myDict = {\"one\": 1, \"two\": 2}\n",
        "try:\n",
        "  print(myDict['three'])\n",
        "  print(\"Next statment of dictionary access\")\n",
        "except KeyError:\n",
        "  print(\"Key not availbale in the dictionary\")"
      ],
      "metadata": {
        "colab": {
          "base_uri": "https://localhost:8080/"
        },
        "id": "zgUt9_427JMw",
        "outputId": "0339e99f-7de8-48c0-deb3-f187e8912868"
      },
      "execution_count": null,
      "outputs": [
        {
          "output_type": "stream",
          "name": "stdout",
          "text": [
            "Key not availbale in the dictionary\n"
          ]
        }
      ]
    },
    {
      "cell_type": "markdown",
      "source": [
        "### else"
      ],
      "metadata": {
        "id": "7_UmDddp5UAx"
      }
    },
    {
      "cell_type": "code",
      "source": [
        "try:\n",
        "  print(\"Welcome to my python class\")\n",
        "except:\n",
        "  print(\"Some exception\")\n",
        "else:\n",
        "  print(\"Nothing went unexpected\")"
      ],
      "metadata": {
        "id": "Bmu9WVHngF79",
        "colab": {
          "base_uri": "https://localhost:8080/"
        },
        "outputId": "b09d7e0f-6f43-4123-d839-bcf5cdb636d7"
      },
      "execution_count": null,
      "outputs": [
        {
          "output_type": "stream",
          "name": "stdout",
          "text": [
            "Welcome to my python class\n",
            "Nothing went unexpected\n"
          ]
        }
      ]
    },
    {
      "cell_type": "code",
      "source": [
        "try:\n",
        "  print(\"value of x is:\", x)\n",
        "except:\n",
        "  print(\"Some exception\")\n",
        "else:\n",
        "  print(\"Nothing went unexpected\")"
      ],
      "metadata": {
        "colab": {
          "base_uri": "https://localhost:8080/"
        },
        "id": "-O7KwUGr6Jfg",
        "outputId": "d6b82589-733a-4a6a-8539-45880fc0107c"
      },
      "execution_count": null,
      "outputs": [
        {
          "output_type": "stream",
          "name": "stdout",
          "text": [
            "Some exception\n"
          ]
        }
      ]
    },
    {
      "cell_type": "markdown",
      "source": [
        "### finally\n",
        "* The finally block, if specified, will be executed regardless if the try block raises an error or not."
      ],
      "metadata": {
        "id": "dRw0Cy7Fk8rh"
      }
    },
    {
      "cell_type": "code",
      "source": [
        "myDict = {\"one\": 1, \"two\": 2}\n",
        "\n",
        "try:\n",
        "  print(myDict['three'])\n",
        "  print(\"Next statment of dictionary access\")\n",
        "except KeyError:\n",
        "  print(\"Key not availbale in the dictionary\")\n",
        "finally:\n",
        "  print(\"I will execute irrespective of whatever happens in the tryu-except \")\n"
      ],
      "metadata": {
        "id": "pln2dNg-lfD5",
        "colab": {
          "base_uri": "https://localhost:8080/"
        },
        "outputId": "4df61071-44ae-4412-ffef-857c3f103f75"
      },
      "execution_count": null,
      "outputs": [
        {
          "output_type": "stream",
          "name": "stdout",
          "text": [
            "Key not availbale in the dictionary\n",
            "I will execute irrespective of whatever happens in the tryu-except \n"
          ]
        }
      ]
    },
    {
      "cell_type": "code",
      "source": [
        "myDict = {\"one\": 1, \"two\": 2}\n",
        "\n",
        "try:\n",
        "  print(myDict['two'])\n",
        "  print(\"Next statment of dictionary access\")\n",
        "except KeyError:\n",
        "  print(\"Key not availbale in the dictionary\")\n",
        "finally:\n",
        "  print(\"I will execute irrespective of whatever happens in the tryu-except \")"
      ],
      "metadata": {
        "colab": {
          "base_uri": "https://localhost:8080/"
        },
        "id": "hoQwUWEO8n36",
        "outputId": "dbe15334-0952-4607-c2cd-88204c53bc7d"
      },
      "execution_count": null,
      "outputs": [
        {
          "output_type": "stream",
          "name": "stdout",
          "text": [
            "2\n",
            "Next statment of dictionary access\n",
            "I will execute irrespective of whatever happens in the tryu-except \n"
          ]
        }
      ]
    },
    {
      "cell_type": "markdown",
      "source": [
        "### Fix the exception"
      ],
      "metadata": {
        "id": "TKpNFijkl16Q"
      }
    },
    {
      "cell_type": "code",
      "source": [
        "a = 2\n",
        "b = 'Three'\n",
        "print(a + b)"
      ],
      "metadata": {
        "id": "JPU90b8al5DO",
        "colab": {
          "base_uri": "https://localhost:8080/",
          "height": 203
        },
        "outputId": "1ed8521c-4671-48cc-f3f8-114508d027cc"
      },
      "execution_count": null,
      "outputs": [
        {
          "output_type": "error",
          "ename": "TypeError",
          "evalue": "ignored",
          "traceback": [
            "\u001b[0;31m---------------------------------------------------------------------------\u001b[0m",
            "\u001b[0;31mTypeError\u001b[0m                                 Traceback (most recent call last)",
            "\u001b[0;32m<ipython-input-10-4c9d3fcdc9e5>\u001b[0m in \u001b[0;36m<module>\u001b[0;34m()\u001b[0m\n\u001b[1;32m      1\u001b[0m \u001b[0ma\u001b[0m \u001b[0;34m=\u001b[0m \u001b[0;36m2\u001b[0m\u001b[0;34m\u001b[0m\u001b[0;34m\u001b[0m\u001b[0m\n\u001b[1;32m      2\u001b[0m \u001b[0mb\u001b[0m \u001b[0;34m=\u001b[0m \u001b[0;34m'Three'\u001b[0m\u001b[0;34m\u001b[0m\u001b[0;34m\u001b[0m\u001b[0m\n\u001b[0;32m----> 3\u001b[0;31m \u001b[0mprint\u001b[0m\u001b[0;34m(\u001b[0m\u001b[0ma\u001b[0m \u001b[0;34m+\u001b[0m \u001b[0mb\u001b[0m\u001b[0;34m)\u001b[0m\u001b[0;34m\u001b[0m\u001b[0;34m\u001b[0m\u001b[0m\n\u001b[0m",
            "\u001b[0;31mTypeError\u001b[0m: unsupported operand type(s) for +: 'int' and 'str'"
          ]
        }
      ]
    },
    {
      "cell_type": "code",
      "source": [
        "a = 2\n",
        "b = 'Three'\n",
        "try:\n",
        "  print(a + b)\n",
        "except TypeError:\n",
        "  print(\"this kind of addition is not possible\")"
      ],
      "metadata": {
        "id": "LyzxSfm2m-4d",
        "colab": {
          "base_uri": "https://localhost:8080/"
        },
        "outputId": "ee7baa01-bdcf-49bf-9310-b31e5658f892"
      },
      "execution_count": null,
      "outputs": [
        {
          "output_type": "stream",
          "name": "stdout",
          "text": [
            "this kind of addition is not possible\n"
          ]
        }
      ]
    },
    {
      "cell_type": "markdown",
      "source": [
        "### else - You can use the else keyword to define a block of code to be executed if no errors were raised."
      ],
      "metadata": {
        "id": "nX0wIdL8nRL5"
      }
    },
    {
      "cell_type": "code",
      "source": [
        "5 / 0"
      ],
      "metadata": {
        "colab": {
          "base_uri": "https://localhost:8080/",
          "height": 168
        },
        "id": "INAGsMiW-GIJ",
        "outputId": "97e54c28-1c4e-4766-abc1-4eff540dcbdd"
      },
      "execution_count": null,
      "outputs": [
        {
          "output_type": "error",
          "ename": "ZeroDivisionError",
          "evalue": "ignored",
          "traceback": [
            "\u001b[0;31m---------------------------------------------------------------------------\u001b[0m",
            "\u001b[0;31mZeroDivisionError\u001b[0m                         Traceback (most recent call last)",
            "\u001b[0;32m<ipython-input-13-adafc2937013>\u001b[0m in \u001b[0;36m<module>\u001b[0;34m()\u001b[0m\n\u001b[0;32m----> 1\u001b[0;31m \u001b[0;36m5\u001b[0m \u001b[0;34m/\u001b[0m \u001b[0;36m0\u001b[0m\u001b[0;34m\u001b[0m\u001b[0;34m\u001b[0m\u001b[0m\n\u001b[0m",
            "\u001b[0;31mZeroDivisionError\u001b[0m: division by zero"
          ]
        }
      ]
    },
    {
      "cell_type": "code",
      "source": [
        "num = int(input())\n",
        "den = int(input())\n",
        "try:\n",
        "  print(num / den)\n",
        "except ZeroDivisionError:\n",
        "  print(\"division is not feasible\")\n",
        "else: \n",
        "  print(\"Division is done\")"
      ],
      "metadata": {
        "id": "twEl3FO0nTsh",
        "colab": {
          "base_uri": "https://localhost:8080/"
        },
        "outputId": "0fe0240f-1261-4864-93f6-c9efc2c21d93"
      },
      "execution_count": null,
      "outputs": [
        {
          "output_type": "stream",
          "name": "stdout",
          "text": [
            "5\n",
            "0\n",
            "division is not feasible\n"
          ]
        }
      ]
    },
    {
      "cell_type": "markdown",
      "source": [
        "### Raise an exception\n",
        "* As a Python developer you can choose to throw an exception if a condition occurs.\n",
        "* To throw (or raise) an exception, use the raise keyword.\n",
        "* Example : Raise an error and stop the program if input number is lesser than 0."
      ],
      "metadata": {
        "id": "xx5032rrni-t"
      }
    },
    {
      "cell_type": "code",
      "source": [
        "data = int(input())\n",
        "\n",
        "try:\n",
        "  if data < 0:\n",
        "    raise NameError(\"The given value is negative\")\n",
        "  else:\n",
        "    print(\"I got a good number\")\n",
        "except NameError:\n",
        "  print(\"Operation is not possible\")\n",
        "else:\n",
        "  print(\"Operation is possible\")"
      ],
      "metadata": {
        "id": "7K_6oe9HnpZY",
        "colab": {
          "base_uri": "https://localhost:8080/"
        },
        "outputId": "e30b52f5-2567-4a6b-9961-6a730c70192d"
      },
      "execution_count": null,
      "outputs": [
        {
          "output_type": "stream",
          "name": "stdout",
          "text": [
            "6\n",
            "I got a good number\n",
            "Operation is possible\n"
          ]
        }
      ]
    },
    {
      "cell_type": "markdown",
      "source": [
        "### Handling multiple exceptions"
      ],
      "metadata": {
        "id": "o9bUnxZQlBL8"
      }
    },
    {
      "cell_type": "code",
      "source": [
        "num = int(input())\n",
        "den = int(input())\n",
        "try:\n",
        "  print(num / den1)\n",
        "except NameError:\n",
        "  print(\"Name not defined\")\n",
        "except ZeroDivisionError:\n",
        "  print(\"division is not feasible\")\n",
        "else: \n",
        "  print(\"Division is done\")"
      ],
      "metadata": {
        "id": "AgV8pbv0oSys",
        "colab": {
          "base_uri": "https://localhost:8080/"
        },
        "outputId": "1bd805ec-d9f3-4065-d00a-374a604e4e29"
      },
      "execution_count": null,
      "outputs": [
        {
          "output_type": "stream",
          "name": "stdout",
          "text": [
            "5\n",
            "3\n",
            "Name not defined\n"
          ]
        }
      ]
    },
    {
      "cell_type": "markdown",
      "source": [
        "### Raise an error if input data is not an integer"
      ],
      "metadata": {
        "id": "l9MQQAzyo4So"
      }
    },
    {
      "cell_type": "code",
      "source": [
        "data = 'hello'\n",
        "\n",
        "if not type(data) is int:\n",
        "  raise TypeError('Only integers are allowed')"
      ],
      "metadata": {
        "id": "o3rrYD6Ho2np",
        "colab": {
          "base_uri": "https://localhost:8080/",
          "height": 203
        },
        "outputId": "e4257f37-14af-4ae0-b982-511a48c77f7f"
      },
      "execution_count": null,
      "outputs": [
        {
          "output_type": "error",
          "ename": "TypeError",
          "evalue": "ignored",
          "traceback": [
            "\u001b[0;31m---------------------------------------------------------------------------\u001b[0m",
            "\u001b[0;31mTypeError\u001b[0m                                 Traceback (most recent call last)",
            "\u001b[0;32m<ipython-input-24-07d4f286cdba>\u001b[0m in \u001b[0;36m<module>\u001b[0;34m()\u001b[0m\n\u001b[1;32m      2\u001b[0m \u001b[0;34m\u001b[0m\u001b[0m\n\u001b[1;32m      3\u001b[0m \u001b[0;32mif\u001b[0m \u001b[0;32mnot\u001b[0m \u001b[0mtype\u001b[0m\u001b[0;34m(\u001b[0m\u001b[0mdata\u001b[0m\u001b[0;34m)\u001b[0m \u001b[0;32mis\u001b[0m \u001b[0mint\u001b[0m\u001b[0;34m:\u001b[0m\u001b[0;34m\u001b[0m\u001b[0;34m\u001b[0m\u001b[0m\n\u001b[0;32m----> 4\u001b[0;31m   \u001b[0;32mraise\u001b[0m \u001b[0mTypeError\u001b[0m\u001b[0;34m(\u001b[0m\u001b[0;34m'Only integers are allowed'\u001b[0m\u001b[0;34m)\u001b[0m\u001b[0;34m\u001b[0m\u001b[0;34m\u001b[0m\u001b[0m\n\u001b[0m",
            "\u001b[0;31mTypeError\u001b[0m: Only integers are allowed"
          ]
        }
      ]
    },
    {
      "cell_type": "markdown",
      "source": [
        "### Input of Objects and the try-except Statement\n",
        "* You can load pickled objects into a program from a file using the function pickle.load .\n",
        "* If the end of the file has been reached or illegal file name is given, this function raises an exception. \n",
        "* This complicates the input process, because we have no apparent way to detect the end of the file before the exception is raised. \n",
        "* However, Python’s try-except statement comes to our rescue. \n",
        "* When this statement is run, the statements within the try clause are executed. \n",
        "* If one of these statements raises an exception, control is immediately transferred to the except clause. \n",
        "* If the type of exception raised matches the type in this clause, its statements are executed. \n",
        "* Otherwise, control is transferred to the caller of the try-except statement and further up the chain of calls, until the exception is successfully handled or the program halts with an error message. \n",
        "* If the statements in the try clause raise no exceptions, the except\n",
        "clause is skipped, and control proceeds to the end of the try-except statement.\n",
        "* We can now construct try-catch block of wrong file name. "
      ],
      "metadata": {
        "id": "YLc2XefM123F"
      }
    }
  ]
}