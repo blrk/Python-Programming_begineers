{
  "nbformat": 4,
  "nbformat_minor": 0,
  "metadata": {
    "colab": {
      "name": "lecture-19_Higher-Order Functions.ipynb",
      "provenance": []
    },
    "kernelspec": {
      "name": "python3",
      "display_name": "Python 3"
    },
    "language_info": {
      "name": "python"
    }
  },
  "cells": [
    {
      "cell_type": "markdown",
      "source": [
        "### Higher-Order Functions\n",
        "* As you gain experience in writing programs, you will learn to spot common\n",
        "and redundant patterns in the code. \n",
        "* One pattern that occurs again and again is the application of a function to a set of values to produce some results. \n",
        "* Here are some examples:\n",
        "  * The numbers in a text file must be converted to integers or floats after they are input.\n",
        "  * The first-person pronouns in a list of words must be changed to the corresponding second-person pronouns \n",
        "  * Only scores above the average are kept in a list of grades.\n",
        "  * The sum of the squares of a list of numbers is computed.\n",
        "* For these patterns, a higher-order function expects a function and a set of data values as arguments. \n",
        "* The argument function is applied to each data value, and a set of results or a single data value is returned. \n",
        "* A higher-order function separates the task of transforming each data value from the logic of accumulating the results."
      ],
      "metadata": {
        "id": "Z1LtVHeTCjsE"
      }
    },
    {
      "cell_type": "markdown",
      "source": [
        "### Functions as First-Class Data Objects\n",
        "* In Python, functions can be treated as first-class data objects . \n",
        "* This means that they can be \n",
        "  * assigned to variables (as they are when they are defined)\n",
        "  * passed as arguments to other functions\n",
        "  * returned as the values of other function\n",
        "  * and stored in data structures such as lists and dictionaries."
      ],
      "metadata": {
        "id": "BmpwOgv8ENrD"
      }
    },
    {
      "cell_type": "code",
      "execution_count": null,
      "metadata": {
        "id": "laYuXt2HCVth",
        "colab": {
          "base_uri": "https://localhost:8080/"
        },
        "outputId": "8fc51d40-278c-4f97-8d0d-9f057a67fa7f"
      },
      "outputs": [
        {
          "output_type": "execute_result",
          "data": {
            "text/plain": [
              "<function abs>"
            ]
          },
          "metadata": {},
          "execution_count": 1
        }
      ],
      "source": [
        "abs"
      ]
    },
    {
      "cell_type": "code",
      "source": [
        "help(abs)"
      ],
      "metadata": {
        "id": "EymfZdjBEKU3",
        "colab": {
          "base_uri": "https://localhost:8080/"
        },
        "outputId": "5538886c-cbb8-4add-d5ba-dc0bc22ce927"
      },
      "execution_count": null,
      "outputs": [
        {
          "output_type": "stream",
          "name": "stdout",
          "text": [
            "Help on built-in function abs in module builtins:\n",
            "\n",
            "abs(x, /)\n",
            "    Return the absolute value of the argument.\n",
            "\n"
          ]
        }
      ]
    },
    {
      "cell_type": "code",
      "source": [
        "import math"
      ],
      "metadata": {
        "id": "kgdUABCUEkTd"
      },
      "execution_count": null,
      "outputs": []
    },
    {
      "cell_type": "code",
      "source": [
        "f1 = abs"
      ],
      "metadata": {
        "id": "xSJskpm09kRM"
      },
      "execution_count": null,
      "outputs": []
    },
    {
      "cell_type": "code",
      "source": [
        "f1"
      ],
      "metadata": {
        "colab": {
          "base_uri": "https://localhost:8080/"
        },
        "id": "2qb0A-869o-D",
        "outputId": "63ac85ff-8ce0-4c97-e868-1ee7d0fb7c28"
      },
      "execution_count": null,
      "outputs": [
        {
          "output_type": "execute_result",
          "data": {
            "text/plain": [
              "<function abs>"
            ]
          },
          "metadata": {},
          "execution_count": 5
        }
      ]
    },
    {
      "cell_type": "code",
      "source": [
        "f1(-5)"
      ],
      "metadata": {
        "colab": {
          "base_uri": "https://localhost:8080/"
        },
        "id": "zsfWu6mh9ttQ",
        "outputId": "2ab25ace-0ba5-49a0-a7f6-999042aa1d4b"
      },
      "execution_count": null,
      "outputs": [
        {
          "output_type": "execute_result",
          "data": {
            "text/plain": [
              "5"
            ]
          },
          "metadata": {},
          "execution_count": 7
        }
      ]
    },
    {
      "cell_type": "code",
      "source": [
        "functions = [abs, math.sqrt]"
      ],
      "metadata": {
        "id": "Bl6pTQmz91oa"
      },
      "execution_count": null,
      "outputs": []
    },
    {
      "cell_type": "code",
      "source": [
        "functions"
      ],
      "metadata": {
        "colab": {
          "base_uri": "https://localhost:8080/"
        },
        "id": "eGS8JIYy97qb",
        "outputId": "6363fbc7-d97c-41d1-9505-c7a470278f0f"
      },
      "execution_count": null,
      "outputs": [
        {
          "output_type": "execute_result",
          "data": {
            "text/plain": [
              "[<function abs>, <function math.sqrt>]"
            ]
          },
          "metadata": {},
          "execution_count": 9
        }
      ]
    },
    {
      "cell_type": "code",
      "source": [
        "functions[1](5)"
      ],
      "metadata": {
        "colab": {
          "base_uri": "https://localhost:8080/"
        },
        "id": "h90q9tzH9_Wc",
        "outputId": "97a1c85f-d9c1-429b-90a9-23c5f29c66ff"
      },
      "execution_count": null,
      "outputs": [
        {
          "output_type": "execute_result",
          "data": {
            "text/plain": [
              "2.23606797749979"
            ]
          },
          "metadata": {},
          "execution_count": 12
        }
      ]
    },
    {
      "cell_type": "code",
      "source": [
        "functions[0](-5)"
      ],
      "metadata": {
        "colab": {
          "base_uri": "https://localhost:8080/"
        },
        "id": "fPGz4rcU-M5U",
        "outputId": "2fc5a90e-8289-4eba-c636-a9c2a03b6a97"
      },
      "execution_count": null,
      "outputs": [
        {
          "output_type": "execute_result",
          "data": {
            "text/plain": [
              "5"
            ]
          },
          "metadata": {},
          "execution_count": 13
        }
      ]
    },
    {
      "cell_type": "markdown",
      "source": [
        "### Mapping\n",
        "* This process applies a function to each value in a sequence (such as a list, a tuple, or a string) and returns a new sequence of the results. \n",
        "* Python includes a map function for this purpose. \n",
        "* Example\n",
        "  * Suppose we have a list named words that contains strings that represent integers. \n",
        "  * We want to replace each string with the corresponding integer value. \n",
        "  * The map function easily accomplishes this\n"
      ],
      "metadata": {
        "id": "oUfJU-bvEpKF"
      }
    },
    {
      "cell_type": "code",
      "source": [
        "words = [\"124\", \"34\", \"67\", \"89\", \"2\"]\n",
        "words"
      ],
      "metadata": {
        "id": "oFd7Vj3OFDv3",
        "colab": {
          "base_uri": "https://localhost:8080/"
        },
        "outputId": "c05f4d3b-dee9-40b2-9f71-e2edd252060d"
      },
      "execution_count": null,
      "outputs": [
        {
          "output_type": "execute_result",
          "data": {
            "text/plain": [
              "['124', '34', '67', '89', '2']"
            ]
          },
          "metadata": {},
          "execution_count": 15
        }
      ]
    },
    {
      "cell_type": "code",
      "source": [
        "map(int, words)"
      ],
      "metadata": {
        "colab": {
          "base_uri": "https://localhost:8080/"
        },
        "id": "kTA7mSKe_Hay",
        "outputId": "7ddcd7e9-4ada-48dd-c2e2-a32501040838"
      },
      "execution_count": null,
      "outputs": [
        {
          "output_type": "execute_result",
          "data": {
            "text/plain": [
              "<map at 0x7f23363b7d90>"
            ]
          },
          "metadata": {},
          "execution_count": 16
        }
      ]
    },
    {
      "cell_type": "code",
      "source": [
        "nums = list(map(int, words)) # list --> conversion, map()"
      ],
      "metadata": {
        "id": "Mg7AZsAZ_THq"
      },
      "execution_count": null,
      "outputs": []
    },
    {
      "cell_type": "code",
      "source": [
        "nums"
      ],
      "metadata": {
        "colab": {
          "base_uri": "https://localhost:8080/"
        },
        "id": "rosegWB4_hA7",
        "outputId": "25bf1e2a-a168-4701-92c0-3ff0eb9b8f6b"
      },
      "execution_count": null,
      "outputs": [
        {
          "output_type": "execute_result",
          "data": {
            "text/plain": [
              "[124, 34, 67, 89, 2]"
            ]
          },
          "metadata": {},
          "execution_count": 18
        }
      ]
    },
    {
      "cell_type": "markdown",
      "source": [
        "### **Note:** \n",
        "* map builds and returns a new map object, which we feed to the list function to\n",
        "view the results. \n",
        "* We could have written a for loop that does the same thing, but that would\n",
        "entail several lines of code instead of the single line of code required for the map function.\n",
        "* Another reason to use the map function is that, in programs that use lists, we might need to perform this task many times; relying on a for loop for each instance would entail multiple sections of redundant code. \n",
        "* Moreover, the conversion to a list is only necessary for viewing the results; a map object can be passed directly to another map function to perform further\n",
        "transformations of the data"
      ],
      "metadata": {
        "id": "xQQK4SsBFMhO"
      }
    },
    {
      "cell_type": "markdown",
      "source": [
        "### Filtering\n",
        "* A second type of higher-order function is called a filtering. \n",
        "* In this process, a function called a predicate is applied to each value in a list. \n",
        "* If the predicate returns True , the value passes the test and is added to a filter object (similar to a map object). \n",
        "* Otherwise, the value is dropped from consideration. "
      ],
      "metadata": {
        "id": "QjFule1AGD_o"
      }
    },
    {
      "cell_type": "code",
      "source": [
        "def odd(n): return n % 2 == 1\n",
        "list(filter(odd, range(10)))"
      ],
      "metadata": {
        "id": "lOqdWlCgGm7Z",
        "colab": {
          "base_uri": "https://localhost:8080/"
        },
        "outputId": "f4883dd2-9f81-4037-a7d9-ac3e05d5dab6"
      },
      "execution_count": null,
      "outputs": [
        {
          "output_type": "execute_result",
          "data": {
            "text/plain": [
              "[1, 3, 5, 7, 9]"
            ]
          },
          "metadata": {},
          "execution_count": 19
        }
      ]
    },
    {
      "cell_type": "code",
      "source": [
        "def even(n): return n % 2 == 0\n",
        "evenNum = list(filter(even, range(10)))"
      ],
      "metadata": {
        "id": "2rzJm9p0QQIX"
      },
      "execution_count": null,
      "outputs": []
    },
    {
      "cell_type": "code",
      "source": [
        "evenNum"
      ],
      "metadata": {
        "colab": {
          "base_uri": "https://localhost:8080/"
        },
        "id": "09EDd6tfQZx8",
        "outputId": "050d73aa-5201-452d-f956-ed3c7beb149d"
      },
      "execution_count": null,
      "outputs": [
        {
          "output_type": "execute_result",
          "data": {
            "text/plain": [
              "[0, 2, 4, 6, 8]"
            ]
          },
          "metadata": {},
          "execution_count": 3
        }
      ]
    },
    {
      "cell_type": "markdown",
      "source": [
        "### **Note**\n",
        "* As with the function map , the result of the function filter can be passed directly to another call of filter or map . \n",
        "* List processing often consists of several mappings and filterings of data, which can be expressed as a series of nested function calls."
      ],
      "metadata": {
        "id": "JpF6PxSpGsnf"
      }
    },
    {
      "cell_type": "markdown",
      "source": [
        "### Reducing\n",
        "* Here we take a list of values and repeatedly apply a function to accumulate a single data value. \n",
        "* A summation is a good example of this process. \n",
        "* The first value is added to the second value, then the sum is added to the third value, and so on, until the sum of all the values is produced.\n",
        "* The Python functools module includes a reduce function that expects a function of two arguments and a list of values. \n",
        "* The reduce function returns the result of applying the ­function as just described. "
      ],
      "metadata": {
        "id": "SGLAkw8HG5Yh"
      }
    },
    {
      "cell_type": "code",
      "source": [
        "from functools import reduce"
      ],
      "metadata": {
        "id": "2KUKLXn9HUbB"
      },
      "execution_count": null,
      "outputs": []
    },
    {
      "cell_type": "code",
      "source": [
        "def addSeries(a, b): return a + b"
      ],
      "metadata": {
        "id": "BfZ8bMc8RJZV"
      },
      "execution_count": null,
      "outputs": []
    },
    {
      "cell_type": "code",
      "source": [
        "data = [1, 2, 3, 4, 5]"
      ],
      "metadata": {
        "id": "MiN6JH66RVgh"
      },
      "execution_count": null,
      "outputs": []
    },
    {
      "cell_type": "code",
      "source": [
        "reduce(addSeries, data)"
      ],
      "metadata": {
        "colab": {
          "base_uri": "https://localhost:8080/"
        },
        "id": "0T1-yJTGRdLy",
        "outputId": "91a5eb72-479a-429d-b685-f793f51d996b"
      },
      "execution_count": null,
      "outputs": [
        {
          "output_type": "execute_result",
          "data": {
            "text/plain": [
              "15"
            ]
          },
          "metadata": {},
          "execution_count": 7
        }
      ]
    },
    {
      "cell_type": "markdown",
      "source": [
        "### Using lambda to Create Anonymous Functions\n",
        "* Although the use of higher-order functions can really simplify code, it is somewhat onerous to have to define new functions to supply as arguments to the higher-order functions. \n",
        "* For example, the functions add and multiply will never be used anywhere else in a program, because the operators + and * are already available. \n",
        "* It would be convenient if we could **define a function “on the fly,”** right at the point of the call of a higher-order function, especially if it is not needed anywhere else.\n",
        "* Python includes a mechanism called lambda that allows the programmer to create functions in this manner. \n",
        "* A lambda is an anonymous function . \n",
        "* It has no name of its own, but it contains the names of its arguments as well as a single expression. \n",
        "* When the lambda is applied to its arguments, its expression is evaluated, and its value is returned.\n",
        "The syntax of a lambda is very tight and restrictive:\n",
        "```\n",
        "lambda <argname-1, ..., argname-n>: <expression>\n",
        "```\n",
        "* All of the code must appear on one line and, although it is sad, a lambda cannot include a selection statement, because selection statements are not expressions. "
      ],
      "metadata": {
        "id": "QUOIR0UvHVFH"
      }
    },
    {
      "cell_type": "code",
      "source": [
        "data"
      ],
      "metadata": {
        "id": "RcmvWJfL2DeB",
        "colab": {
          "base_uri": "https://localhost:8080/"
        },
        "outputId": "0c543787-ee56-44dc-edcd-89f51ac3eea4"
      },
      "execution_count": null,
      "outputs": [
        {
          "output_type": "execute_result",
          "data": {
            "text/plain": [
              "[1, 2, 3, 4, 5]"
            ]
          },
          "metadata": {},
          "execution_count": 8
        }
      ]
    },
    {
      "cell_type": "code",
      "source": [
        "reduce(lambd a, b: a + b, data)"
      ],
      "metadata": {
        "colab": {
          "base_uri": "https://localhost:8080/",
          "height": 131
        },
        "id": "GiZC_BklSVxR",
        "outputId": "541a2248-7abe-4bba-d03a-c0eea924d405"
      },
      "execution_count": null,
      "outputs": [
        {
          "output_type": "error",
          "ename": "SyntaxError",
          "evalue": "ignored",
          "traceback": [
            "\u001b[0;36m  File \u001b[0;32m\"<ipython-input-11-8fb5a4735222>\"\u001b[0;36m, line \u001b[0;32m1\u001b[0m\n\u001b[0;31m    reduce(lambd a, b: a + b, data)\u001b[0m\n\u001b[0m                 ^\u001b[0m\n\u001b[0;31mSyntaxError\u001b[0m\u001b[0;31m:\u001b[0m invalid syntax\n"
          ]
        }
      ]
    },
    {
      "cell_type": "code",
      "source": [
        "reduce(lambda a, b: a + b, data)"
      ],
      "metadata": {
        "colab": {
          "base_uri": "https://localhost:8080/"
        },
        "id": "ZLmmZwKyS2In",
        "outputId": "500114b2-b760-4d0c-b48b-c07c4a9a72da"
      },
      "execution_count": null,
      "outputs": [
        {
          "output_type": "execute_result",
          "data": {
            "text/plain": [
              "15"
            ]
          },
          "metadata": {},
          "execution_count": 12
        }
      ]
    },
    {
      "cell_type": "markdown",
      "source": [
        "### Creating Jump Tables\n",
        "* case study contains a menu-driven command processor. \n",
        "* When the user selects a command from a menu, the program compares this number to each number ina set of numbers, until a match is found. \n",
        "* A function corresponding to this number is then called to carry out the command. \n",
        "* The function runCommand implemented this process with a long, multi-way selection statement. \n",
        "* With more than three options, such statements become tedious to read and hard to maintain. \n",
        "* Adding or removing an option also becomes tricky and error prone.\n",
        "* A simpler way to design a command processor is to use a data structure called a jump table.\n",
        "* A jump table is a dictionary of functions keyed by command names. \n",
        "* At program startup, the functions are defined and then the jump table is loaded with the command names and their associated functions. \n",
        "* The function runCommand uses its command argument to look up the function in the jump table and then calls this function. "
      ],
      "metadata": {
        "id": "qz14t7hL2Dve"
      }
    },
    {
      "cell_type": "code",
      "source": [
        "option = \"\"\n",
        "while True:\n",
        "  print(\"Select 1 for addition\")\n",
        "  print(\"Select 2 for subtraction\")\n",
        "  print(\"Select 3 for exit\")\n",
        "  option = int(input(\"Enter your choice:\"))\n",
        "  if option == 3:\n",
        "    break\n",
        "  elif option == 1:\n",
        "    print(\"add\")\n",
        "  elif option == 2:\n",
        "    print(\"sub\")\n",
        "  else:\n",
        "    print(\"enter a valid option\")"
      ],
      "metadata": {
        "id": "je2uU27Q2ieX",
        "colab": {
          "base_uri": "https://localhost:8080/"
        },
        "outputId": "7eff69d6-4e0f-490c-bf7c-deb3ee4eb624"
      },
      "execution_count": null,
      "outputs": [
        {
          "name": "stdout",
          "output_type": "stream",
          "text": [
            "Select 1 for addition\n",
            "Select 2 for subtraction\n",
            "Select 3 for exit\n",
            "Enter your choice:1\n",
            "add\n",
            "Select 1 for addition\n",
            "Select 2 for subtraction\n",
            "Select 3 for exit\n",
            "Enter your choice:2\n",
            "sub\n",
            "Select 1 for addition\n",
            "Select 2 for subtraction\n",
            "Select 3 for exit\n",
            "Enter your choice:5\n",
            "enter a valid option\n",
            "Select 1 for addition\n",
            "Select 2 for subtraction\n",
            "Select 3 for exit\n",
            "Enter your choice:3\n"
          ]
        }
      ]
    },
    {
      "cell_type": "code",
      "source": [
        "def selectOptions():\n",
        "  option = input(\"Enter your option:\")\n",
        "  return option"
      ],
      "metadata": {
        "id": "KUjGzrEsVK5N"
      },
      "execution_count": null,
      "outputs": []
    },
    {
      "cell_type": "code",
      "source": [
        "def add():\n",
        "  print(\"add\")"
      ],
      "metadata": {
        "id": "FWVPkPCqXqbV"
      },
      "execution_count": null,
      "outputs": []
    },
    {
      "cell_type": "code",
      "source": [
        "def sub():\n",
        "  print(\"sub\")"
      ],
      "metadata": {
        "id": "1K_CzdoRXwZL"
      },
      "execution_count": null,
      "outputs": []
    },
    {
      "cell_type": "code",
      "source": [
        "def runCommand(cmd):\n",
        "  jumpTable = {}\n",
        "  jumpTable['1'] = add\n",
        "  jumpTable['2'] = sub\n",
        "  jumpTable[cmd]()"
      ],
      "metadata": {
        "id": "AKlKfSHAX4-h"
      },
      "execution_count": null,
      "outputs": []
    },
    {
      "cell_type": "code",
      "source": [
        "cmd = selectOptions()\n",
        "runCommand(cmd)"
      ],
      "metadata": {
        "colab": {
          "base_uri": "https://localhost:8080/"
        },
        "id": "fPInL5ztVbax",
        "outputId": "f66bea13-b0c9-48b1-d924-2d0a5bc63cde"
      },
      "execution_count": null,
      "outputs": [
        {
          "output_type": "stream",
          "name": "stdout",
          "text": [
            "Enter your option:1\n",
            "add\n"
          ]
        }
      ]
    },
    {
      "cell_type": "markdown",
      "source": [
        "### Home work\n",
        "* Write the code for a mapping that generates a list of the absolute values of the numbers in a list named numbers.\n",
        "* Write the code for a filtering that generates a list of the positive numbers in a list named numbers. You should use a lambda to create the auxiliary function.\n",
        "* Write the code for a reducing that creates a single string from a list of strings named words.\n",
        "* Modify the summation function presented discussed in the class, so that it includes default arguments for a step value and a function. The step value is used to move to the next value in the range. The function is applied to each number visited, and the function’s returned value is added to the running total. The default step value is 1, and the default function is lambda that returns its argument (essentially an identity function). An example call of this function is summation(l, 100, 2, math.sqrt), which returns the sum of the square roots of every other number between 1 and 100. The function can also be called as usual, with just the bounds of the range."
      ],
      "metadata": {
        "id": "t2HaCYSC2n0Z"
      }
    }
  ]
}