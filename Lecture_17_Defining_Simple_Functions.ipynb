{
  "nbformat": 4,
  "nbformat_minor": 0,
  "metadata": {
    "colab": {
      "name": "Lecture-17_Defining_Simple_Functions.ipynb",
      "provenance": []
    },
    "kernelspec": {
      "name": "python3",
      "display_name": "Python 3"
    },
    "language_info": {
      "name": "python"
    }
  },
  "cells": [
    {
      "cell_type": "markdown",
      "source": [
        "### Design with Functions\n",
        "* Why design is important?"
      ],
      "metadata": {
        "id": "vgcVJodzjqij"
      }
    },
    {
      "cell_type": "markdown",
      "source": [
        "### What is function?\n",
        "* named section of a code that performs a specific task. \n",
        "* This typically involves taking some input, manipulating the input and returning an output.\n",
        "* example : print, round, ... etc"
      ],
      "metadata": {
        "id": "FZr__e23j37a"
      }
    },
    {
      "cell_type": "code",
      "execution_count": null,
      "metadata": {
        "id": "qZk5d_d4jgLE",
        "colab": {
          "base_uri": "https://localhost:8080/"
        },
        "outputId": "8aabff15-1715-4f87-b834-ec50e12a19e6"
      },
      "outputs": [
        {
          "output_type": "stream",
          "name": "stdout",
          "text": [
            "python programming\n"
          ]
        }
      ],
      "source": [
        "print(\"python programming\")"
      ]
    },
    {
      "cell_type": "code",
      "source": [
        "for i in range(5):\n",
        "  print(i, end=\" \")"
      ],
      "metadata": {
        "colab": {
          "base_uri": "https://localhost:8080/"
        },
        "id": "V9IbOdZfL5LE",
        "outputId": "0915b6b8-d84b-4303-92fa-4ad4b8356e81"
      },
      "execution_count": null,
      "outputs": [
        {
          "output_type": "stream",
          "name": "stdout",
          "text": [
            "0 1 2 3 4 "
          ]
        }
      ]
    },
    {
      "cell_type": "code",
      "source": [
        "# def --> keyword sum --> fun name (): --> brackets inside use the input parameters\n",
        "def sum(): # taking no parametes or arguments\n",
        "  x = int(input(\"enter no1:\"))\n",
        "  y = int(input(\"enter no2:\"))\n",
        "  sum = x + y\n",
        "  print(\"sum:\", sum)"
      ],
      "metadata": {
        "id": "0SCox6EYMHGn"
      },
      "execution_count": null,
      "outputs": []
    },
    {
      "cell_type": "code",
      "source": [
        "sum()"
      ],
      "metadata": {
        "colab": {
          "base_uri": "https://localhost:8080/"
        },
        "id": "tVf4D4saM2Zr",
        "outputId": "b4b5aba0-1401-4a7c-df76-4d02e37b8838"
      },
      "execution_count": null,
      "outputs": [
        {
          "output_type": "stream",
          "name": "stdout",
          "text": [
            "enter no1:10\n",
            "enter no2:3\n",
            "sum: 13\n"
          ]
        }
      ]
    },
    {
      "cell_type": "code",
      "source": [
        "sum()"
      ],
      "metadata": {
        "colab": {
          "base_uri": "https://localhost:8080/"
        },
        "id": "1kqeEUZFNLJF",
        "outputId": "e200f980-fec6-4706-fdc8-74cdddd48bb3"
      },
      "execution_count": null,
      "outputs": [
        {
          "output_type": "stream",
          "name": "stdout",
          "text": [
            "enter no1:45\n",
            "enter no2:7\n",
            "sum: 52\n"
          ]
        }
      ]
    },
    {
      "cell_type": "markdown",
      "source": [
        "### What functions can do? and How they work\n",
        "* A function packages an algorithm in a chunk of code that you can call by name. \n",
        "  * For example, sum function add 2 numbers and returns the sum."
      ],
      "metadata": {
        "id": "UHt5-JM7lIU0"
      }
    },
    {
      "cell_type": "code",
      "source": [
        "def add(): # taking no parametes or arguments\n",
        "  x = int(input(\"enter no1:\"))\n",
        "  y = int(input(\"enter no2:\"))\n",
        "  sum = x + y\n",
        "  return sum"
      ],
      "metadata": {
        "id": "gvyoDJ03mnoR"
      },
      "execution_count": null,
      "outputs": []
    },
    {
      "cell_type": "code",
      "source": [
        "add()"
      ],
      "metadata": {
        "colab": {
          "base_uri": "https://localhost:8080/"
        },
        "id": "0WgVL9bgNpTL",
        "outputId": "c1e49015-fc58-47d0-ea34-0045978eb441"
      },
      "execution_count": null,
      "outputs": [
        {
          "name": "stdout",
          "output_type": "stream",
          "text": [
            "enter no1:23\n",
            "enter no2:9\n"
          ]
        },
        {
          "output_type": "execute_result",
          "data": {
            "text/plain": [
              "32"
            ]
          },
          "metadata": {},
          "execution_count": 11
        }
      ]
    },
    {
      "cell_type": "code",
      "source": [
        "add()\n",
        "print(\"checked my function add\")"
      ],
      "metadata": {
        "colab": {
          "base_uri": "https://localhost:8080/"
        },
        "id": "w-cx5BrBOK0e",
        "outputId": "c200e1f5-f1c0-40ee-996c-adae51576132"
      },
      "execution_count": null,
      "outputs": [
        {
          "output_type": "stream",
          "name": "stdout",
          "text": [
            "enter no1:12\n",
            "enter no2:7\n",
            "checked my function add\n"
          ]
        }
      ]
    },
    {
      "cell_type": "code",
      "source": [
        "# the value returned by the function gets stored in s\n",
        "s = add() # function call # \n",
        "print(\"sum :\", s)\n",
        "print(\"checked my function add\")"
      ],
      "metadata": {
        "colab": {
          "base_uri": "https://localhost:8080/"
        },
        "id": "jDbzr259ObqW",
        "outputId": "6ba951f2-f03d-4724-ea64-7d9a4d7fefa6"
      },
      "execution_count": null,
      "outputs": [
        {
          "output_type": "stream",
          "name": "stdout",
          "text": [
            "enter no1:56\n",
            "enter no2:45\n",
            "sum : 101\n",
            "checked my function add\n"
          ]
        }
      ]
    },
    {
      "cell_type": "markdown",
      "source": [
        "### Calling functions\n",
        "* A function can be called from anywhere in a program’s code, including code\n",
        "within other functions. \n",
        "* During program execution, there may be a complex chain\n",
        "of function calls, where one function calls another and waits for its results to be returned, and so on. \n",
        "  * For example, print function is used to call sum function."
      ],
      "metadata": {
        "id": "x0pd2lkKmoG0"
      }
    },
    {
      "cell_type": "code",
      "source": [
        "# calling function within anoither function\n",
        "print(\"sum:\", add())"
      ],
      "metadata": {
        "id": "-DipteZ6myIN",
        "colab": {
          "base_uri": "https://localhost:8080/"
        },
        "outputId": "094c61eb-a52a-4022-86d2-5e1e57b7ddba"
      },
      "execution_count": null,
      "outputs": [
        {
          "output_type": "stream",
          "name": "stdout",
          "text": [
            "enter no1:78\n",
            "enter no2:3\n",
            "sum: 81\n"
          ]
        }
      ]
    },
    {
      "cell_type": "code",
      "source": [
        "def add2num(x, y):\n",
        "  print(\"sum:\", x + y)"
      ],
      "metadata": {
        "id": "bkWrm9v3Pdwa"
      },
      "execution_count": null,
      "outputs": []
    },
    {
      "cell_type": "code",
      "source": [
        "def get_input():\n",
        "  x = int(input(\"enter no1:\"))\n",
        "  y = int(input(\"enter no2:\"))\n",
        "  add2num(x, y) # function calling"
      ],
      "metadata": {
        "id": "eHN0noGVPUi9"
      },
      "execution_count": null,
      "outputs": []
    },
    {
      "cell_type": "code",
      "source": [
        "get_input()"
      ],
      "metadata": {
        "colab": {
          "base_uri": "https://localhost:8080/"
        },
        "id": "I0YtK7WHPwI0",
        "outputId": "492b3a5e-624b-44b4-d75a-0d78407103d2"
      },
      "execution_count": null,
      "outputs": [
        {
          "output_type": "stream",
          "name": "stdout",
          "text": [
            "enter no1:9\n",
            "enter no2:6\n",
            "sum: 15\n"
          ]
        }
      ]
    },
    {
      "cell_type": "markdown",
      "source": [
        "### function with parameters\n",
        "* A function can receive data from its caller via arguments. \n",
        "* For example, sum function can take 2 parameters"
      ],
      "metadata": {
        "id": "1o8scjewmy1s"
      }
    },
    {
      "cell_type": "code",
      "source": [
        "def compare(x, y):\n",
        "  if x > y:\n",
        "    print(x+y)\n",
        "  else:\n",
        "    print(x+10)"
      ],
      "metadata": {
        "id": "ru2ELHMXnR8k"
      },
      "execution_count": null,
      "outputs": []
    },
    {
      "cell_type": "code",
      "source": [
        "compare(5, 2)"
      ],
      "metadata": {
        "colab": {
          "base_uri": "https://localhost:8080/"
        },
        "id": "eJyZ-pReQcS6",
        "outputId": "536c7cfe-7a50-4a4d-b963-558505e46473"
      },
      "execution_count": null,
      "outputs": [
        {
          "output_type": "stream",
          "name": "stdout",
          "text": [
            "7\n"
          ]
        }
      ]
    },
    {
      "cell_type": "code",
      "source": [
        "compare(2, 5)"
      ],
      "metadata": {
        "colab": {
          "base_uri": "https://localhost:8080/"
        },
        "id": "Wtv8d4QEQgvW",
        "outputId": "f1857587-90a5-4e80-b6f6-ef740997f2e3"
      },
      "execution_count": null,
      "outputs": [
        {
          "output_type": "stream",
          "name": "stdout",
          "text": [
            "12\n"
          ]
        }
      ]
    },
    {
      "cell_type": "code",
      "source": [
        "print(x)"
      ],
      "metadata": {
        "colab": {
          "base_uri": "https://localhost:8080/",
          "height": 165
        },
        "id": "BBZhRg0XRZqL",
        "outputId": "51bac354-969c-4918-a4e6-6899ad51c583"
      },
      "execution_count": null,
      "outputs": [
        {
          "output_type": "error",
          "ename": "NameError",
          "evalue": "ignored",
          "traceback": [
            "\u001b[0;31m---------------------------------------------------------------------------\u001b[0m",
            "\u001b[0;31mNameError\u001b[0m                                 Traceback (most recent call last)",
            "\u001b[0;32m<ipython-input-24-fc17d851ef81>\u001b[0m in \u001b[0;36m<module>\u001b[0;34m()\u001b[0m\n\u001b[0;32m----> 1\u001b[0;31m \u001b[0mprint\u001b[0m\u001b[0;34m(\u001b[0m\u001b[0mx\u001b[0m\u001b[0;34m)\u001b[0m\u001b[0;34m\u001b[0m\u001b[0;34m\u001b[0m\u001b[0m\n\u001b[0m",
            "\u001b[0;31mNameError\u001b[0m: name 'x' is not defined"
          ]
        }
      ]
    },
    {
      "cell_type": "markdown",
      "source": [
        "### Function parameters (arguments) as experession\n",
        "* When a function is called, any expressions supplied as arguments are first evaluated. \n",
        "* Their values are copied to temporary storage locations named by the param\n",
        "eters in the function’s definition. \n",
        "* The parameters play the same role as variables in the code that the function then executes."
      ],
      "metadata": {
        "id": "6q7MZ5vSnSS1"
      }
    },
    {
      "cell_type": "code",
      "source": [
        "import math\n",
        "compare(2, (4 + math.pi)) # 1st compare(2, 7.14..... 1st)"
      ],
      "metadata": {
        "id": "gpldN2Q1npvE",
        "colab": {
          "base_uri": "https://localhost:8080/"
        },
        "outputId": "751596eb-39c7-4123-ae91-785089b90e19"
      },
      "execution_count": null,
      "outputs": [
        {
          "output_type": "stream",
          "name": "stdout",
          "text": [
            "12\n"
          ]
        }
      ]
    },
    {
      "cell_type": "code",
      "source": [
        "import math\n",
        "compare(100, (4 + math.pi))"
      ],
      "metadata": {
        "colab": {
          "base_uri": "https://localhost:8080/"
        },
        "id": "t9kpSQqDQ9cz",
        "outputId": "e84a3b3e-01c5-4413-a5e4-e34d93f67f98"
      },
      "execution_count": null,
      "outputs": [
        {
          "output_type": "stream",
          "name": "stdout",
          "text": [
            "107.1415926535898\n"
          ]
        }
      ]
    },
    {
      "cell_type": "markdown",
      "source": [
        "### Function returning a value\n",
        "* A return statement is used to end the execution of the function call and “returns” the result (value of the expression following the return keyword) to the caller. \n",
        "* The statements after the return statements are not executed. \n",
        "* **Note:** Return statement can not be used outside the function."
      ],
      "metadata": {
        "id": "5fAGwNVCnqN-"
      }
    },
    {
      "cell_type": "code",
      "source": [
        "def compare1(x, y):\n",
        "  if x > y:\n",
        "    return(x+y)\n",
        "  else:\n",
        "    return(x+10)\n",
        "print(\"hello\") # next statement not part of fun compare1"
      ],
      "metadata": {
        "id": "aiGNmE2LnwTl",
        "colab": {
          "base_uri": "https://localhost:8080/"
        },
        "outputId": "86308244-fc8e-4493-9d2e-0be44c418638"
      },
      "execution_count": null,
      "outputs": [
        {
          "output_type": "stream",
          "name": "stdout",
          "text": [
            "hello\n"
          ]
        }
      ]
    },
    {
      "cell_type": "code",
      "source": [
        "print(compare1(6,3))"
      ],
      "metadata": {
        "colab": {
          "base_uri": "https://localhost:8080/"
        },
        "id": "4PtDHSoHSj_W",
        "outputId": "a99941b7-8f9d-49ed-fdd4-e233a6c40aeb"
      },
      "execution_count": null,
      "outputs": [
        {
          "output_type": "stream",
          "name": "stdout",
          "text": [
            "9\n"
          ]
        }
      ]
    },
    {
      "cell_type": "code",
      "source": [
        "print(compare1(3,9))"
      ],
      "metadata": {
        "colab": {
          "base_uri": "https://localhost:8080/"
        },
        "id": "T1Ul-WKHSvOA",
        "outputId": "9a0cee00-791c-4882-855c-ab91b138c506"
      },
      "execution_count": null,
      "outputs": [
        {
          "output_type": "stream",
          "name": "stdout",
          "text": [
            "13\n"
          ]
        }
      ]
    },
    {
      "cell_type": "markdown",
      "source": [
        "### Functions with more than one return statement\n",
        "* A function may have one or more return statements, whose purpose is to ter\n",
        "minate the execution of the function and return control to its caller. \n",
        "* A return statement may be followed by an expression. \n",
        "* In that case, Python evaluates the expression and makes its value available to the caller when the function stops execution. \n",
        "* For example, sum function with a condition\n",
        "* **Note:** If a function does not include a return statement, Python automatically\n",
        "returns the value None to the caller."
      ],
      "metadata": {
        "id": "GdokxIPOnwnG"
      }
    },
    {
      "cell_type": "code",
      "source": [
        "def compare2(x, y):\n",
        "  if x > y:\n",
        "    pass"
      ],
      "metadata": {
        "id": "u5gGweHqoU4S"
      },
      "execution_count": null,
      "outputs": []
    },
    {
      "cell_type": "code",
      "source": [
        "res = compare2(3, 2)"
      ],
      "metadata": {
        "id": "s8ZowsiLTqUd"
      },
      "execution_count": null,
      "outputs": []
    },
    {
      "cell_type": "code",
      "source": [
        "print(res)"
      ],
      "metadata": {
        "colab": {
          "base_uri": "https://localhost:8080/"
        },
        "id": "g2UhjvdmT2zG",
        "outputId": "c7061c14-1a42-43c9-8dc7-9a0e633ef263"
      },
      "execution_count": null,
      "outputs": [
        {
          "output_type": "stream",
          "name": "stdout",
          "text": [
            "None\n"
          ]
        }
      ]
    },
    {
      "cell_type": "markdown",
      "source": [
        "### Functions returning more than one value\n",
        "* return multiple values by simply return them separated by commas"
      ],
      "metadata": {
        "id": "fHF_dhxHo5KZ"
      }
    },
    {
      "cell_type": "code",
      "source": [
        "# return 'abc', 200\n",
        "def demoFun():\n",
        "  return 'abc', 200"
      ],
      "metadata": {
        "id": "43EXZW9apgTn"
      },
      "execution_count": null,
      "outputs": []
    },
    {
      "cell_type": "code",
      "source": [
        "res = demoFun()"
      ],
      "metadata": {
        "id": "fGYZc_UmUcaM"
      },
      "execution_count": null,
      "outputs": []
    },
    {
      "cell_type": "code",
      "source": [
        "type(res)"
      ],
      "metadata": {
        "colab": {
          "base_uri": "https://localhost:8080/"
        },
        "id": "YfIA9xBMUhZj",
        "outputId": "657ed0ad-6f0d-43ee-815b-97296d2040d7"
      },
      "execution_count": null,
      "outputs": [
        {
          "output_type": "execute_result",
          "data": {
            "text/plain": [
              "tuple"
            ]
          },
          "metadata": {},
          "execution_count": 42
        }
      ]
    },
    {
      "cell_type": "code",
      "source": [
        "res"
      ],
      "metadata": {
        "colab": {
          "base_uri": "https://localhost:8080/"
        },
        "id": "GonX_wZAUn8I",
        "outputId": "3ea775ab-756c-4fd2-e609-18521ba1a119"
      },
      "execution_count": null,
      "outputs": [
        {
          "output_type": "execute_result",
          "data": {
            "text/plain": [
              "('abc', 200)"
            ]
          },
          "metadata": {},
          "execution_count": 43
        }
      ]
    },
    {
      "cell_type": "code",
      "source": [
        "# Unpack a tuple and list in Python\n",
        "# x,y\n",
        "res1, res2 = demoFun()"
      ],
      "metadata": {
        "id": "jba6hQS0plaA"
      },
      "execution_count": null,
      "outputs": []
    },
    {
      "cell_type": "code",
      "source": [
        "print(res1)\n",
        "print(res2)"
      ],
      "metadata": {
        "colab": {
          "base_uri": "https://localhost:8080/"
        },
        "id": "rQVxKGBWUy_4",
        "outputId": "d227227d-7531-4466-f1ee-0e9c287c20c2"
      },
      "execution_count": null,
      "outputs": [
        {
          "output_type": "stream",
          "name": "stdout",
          "text": [
            "abc\n",
            "200\n"
          ]
        }
      ]
    },
    {
      "cell_type": "code",
      "source": [
        "# return 'abc', 200, [1,2,3]\n",
        "\n",
        "def demoFun1():\n",
        "  return 'abc', 200, [1,2,3]"
      ],
      "metadata": {
        "id": "m1l05aOKp2YP"
      },
      "execution_count": null,
      "outputs": []
    },
    {
      "cell_type": "code",
      "source": [
        "x, y, z = demoFun1()"
      ],
      "metadata": {
        "id": "S-PEg7O8VBcE"
      },
      "execution_count": null,
      "outputs": []
    },
    {
      "cell_type": "code",
      "source": [
        "x"
      ],
      "metadata": {
        "id": "QOuul3XGVHRF",
        "outputId": "8ca5a566-7e76-4e38-9a5b-aa4956401c2d",
        "colab": {
          "base_uri": "https://localhost:8080/",
          "height": 35
        }
      },
      "execution_count": null,
      "outputs": [
        {
          "output_type": "execute_result",
          "data": {
            "text/plain": [
              "'abc'"
            ],
            "application/vnd.google.colaboratory.intrinsic+json": {
              "type": "string"
            }
          },
          "metadata": {},
          "execution_count": 48
        }
      ]
    },
    {
      "cell_type": "code",
      "source": [
        "y"
      ],
      "metadata": {
        "id": "qp4sYH8LVIoU",
        "outputId": "27e9f337-eafc-4023-f11a-c8ce04f289e3",
        "colab": {
          "base_uri": "https://localhost:8080/"
        }
      },
      "execution_count": null,
      "outputs": [
        {
          "output_type": "execute_result",
          "data": {
            "text/plain": [
              "200"
            ]
          },
          "metadata": {},
          "execution_count": 49
        }
      ]
    },
    {
      "cell_type": "code",
      "source": [
        "z"
      ],
      "metadata": {
        "id": "HS9Wt_4VVKUc",
        "outputId": "aee26bd7-c4ed-4c66-baeb-2266338a1cc1",
        "colab": {
          "base_uri": "https://localhost:8080/"
        }
      },
      "execution_count": null,
      "outputs": [
        {
          "output_type": "execute_result",
          "data": {
            "text/plain": [
              "[1, 2, 3]"
            ]
          },
          "metadata": {},
          "execution_count": 50
        }
      ]
    }
  ]
}