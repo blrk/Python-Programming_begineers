{
  "nbformat": 4,
  "nbformat_minor": 0,
  "metadata": {
    "colab": {
      "name": "Ex-3_demo.ipynb",
      "provenance": []
    },
    "kernelspec": {
      "name": "python3",
      "display_name": "Python 3"
    },
    "language_info": {
      "name": "python"
    }
  },
  "cells": [
    {
      "cell_type": "markdown",
      "source": [
        "### List\n",
        "* A list is a data structure in Python \n",
        "* Each element or value that is inside of a list is called an item. \n",
        "* lists are defined by having values between square brackets [ ]\n",
        "* Each item in a list corresponds to an index number, which is an integer value, starting with the index number 0.\n",
        "* store multiple items in a single variable\n",
        "* store collections of data\n",
        "* List items are ordered, changeable, and permit duplicate values\n"
      ],
      "metadata": {
        "id": "18PNears8D2U"
      }
    },
    {
      "cell_type": "code",
      "source": [
        "sea_creatures = ['shark', 'cuttlefish', 'squid', 'mantis shrimp', 'octobus']"
      ],
      "metadata": {
        "id": "_g0EeCO89bJ6"
      },
      "execution_count": 1,
      "outputs": []
    },
    {
      "cell_type": "code",
      "source": [
        "print(sea_creatures)"
      ],
      "metadata": {
        "colab": {
          "base_uri": "https://localhost:8080/"
        },
        "id": "ztzsFYM4GOZ0",
        "outputId": "e36c661d-e423-4859-a500-41055c6933fc"
      },
      "execution_count": 4,
      "outputs": [
        {
          "output_type": "stream",
          "name": "stdout",
          "text": [
            "['shark', 'cuttlefish', 'squid', 'mantis shrimp', 'octobus']\n"
          ]
        }
      ]
    },
    {
      "cell_type": "code",
      "source": [
        "sea_creatures1 = ['shark', 'cuttlefish', 'squid', 'mantis shrimp', 'octobus', 'squid']"
      ],
      "metadata": {
        "id": "PNETLCk_GbSw"
      },
      "execution_count": 5,
      "outputs": []
    },
    {
      "cell_type": "code",
      "source": [
        "sea_creatures1"
      ],
      "metadata": {
        "colab": {
          "base_uri": "https://localhost:8080/"
        },
        "id": "pm0QGGLLGflC",
        "outputId": "c55dac9c-fa87-4a86-e611-babbb95c488b"
      },
      "execution_count": 6,
      "outputs": [
        {
          "output_type": "execute_result",
          "data": {
            "text/plain": [
              "['shark', 'cuttlefish', 'squid', 'mantis shrimp', 'octobus', 'squid']"
            ]
          },
          "metadata": {},
          "execution_count": 6
        }
      ]
    },
    {
      "cell_type": "markdown",
      "source": [
        "### List Methods\n",
        "#### Method\tDescription\n",
        "* append()\tAdds an element at the end of the list\n",
        "* clear()\tRemoves all the elements from the list\n",
        "* copy()\tReturns a copy of the list\n",
        "* count()\tReturns the number of elements with the specified value\n",
        "* extend()\tAdd the elements of a list (or any iterable), to the end of the current list\n",
        "* index()\tReturns the index of the first element with the specified value\n",
        "* insert()\tAdds an element at the specified position\n",
        "* pop()\tRemoves the element at the specified position\n",
        "* remove()\tRemoves the item with the specified value\n",
        "* reverse()\tReverses the order of the list\n",
        "* sort()\tSorts the list"
      ],
      "metadata": {
        "id": "igJ4CczwAJF-"
      }
    },
    {
      "cell_type": "markdown",
      "source": [
        "### Access List Items"
      ],
      "metadata": {
        "id": "Hq-qlX5N9b1a"
      }
    },
    {
      "cell_type": "code",
      "source": [
        "print(sea_creatures)"
      ],
      "metadata": {
        "colab": {
          "base_uri": "https://localhost:8080/"
        },
        "id": "lzneTY0f9qau",
        "outputId": "a8f3716f-6391-428a-d75c-110277eb562a"
      },
      "execution_count": 7,
      "outputs": [
        {
          "output_type": "stream",
          "name": "stdout",
          "text": [
            "['shark', 'cuttlefish', 'squid', 'mantis shrimp', 'octobus']\n"
          ]
        }
      ]
    },
    {
      "cell_type": "code",
      "source": [
        "print(sea_creatures[2])"
      ],
      "metadata": {
        "colab": {
          "base_uri": "https://localhost:8080/"
        },
        "id": "XUbeezn2G1_h",
        "outputId": "9fecf56d-45b9-4057-d96e-97d52a0239e0"
      },
      "execution_count": 8,
      "outputs": [
        {
          "output_type": "stream",
          "name": "stdout",
          "text": [
            "squid\n"
          ]
        }
      ]
    },
    {
      "cell_type": "markdown",
      "source": [
        "#### Negative Indexing\n",
        "* access from the end\n",
        "* -1 refers the last item, -2 refers the second last item"
      ],
      "metadata": {
        "id": "7hngtqm19q0P"
      }
    },
    {
      "cell_type": "code",
      "source": [
        "print(sea_creatures[-1])"
      ],
      "metadata": {
        "colab": {
          "base_uri": "https://localhost:8080/"
        },
        "id": "0DHc857m9y6m",
        "outputId": "be457fa4-b96e-4f90-8db3-d5ad559b1ec0"
      },
      "execution_count": 9,
      "outputs": [
        {
          "output_type": "stream",
          "name": "stdout",
          "text": [
            "octobus\n"
          ]
        }
      ]
    },
    {
      "cell_type": "code",
      "source": [
        "print(sea_creatures[-3])"
      ],
      "metadata": {
        "colab": {
          "base_uri": "https://localhost:8080/"
        },
        "id": "14JaOr1qHUEe",
        "outputId": "862bc014-f2c8-447c-98a8-039d39ea1059"
      },
      "execution_count": 10,
      "outputs": [
        {
          "output_type": "stream",
          "name": "stdout",
          "text": [
            "squid\n"
          ]
        }
      ]
    },
    {
      "cell_type": "markdown",
      "source": [
        "#### Range of Indexes\n",
        "* can specify a range of index values, (start and end)"
      ],
      "metadata": {
        "id": "a9cpv53t915i"
      }
    },
    {
      "cell_type": "code",
      "source": [
        "print(sea_creatures[1:3])"
      ],
      "metadata": {
        "colab": {
          "base_uri": "https://localhost:8080/"
        },
        "id": "Jk1Xpzcg938U",
        "outputId": "f5e708f6-5087-46c8-e11c-521f94f52ab7"
      },
      "execution_count": 11,
      "outputs": [
        {
          "output_type": "stream",
          "name": "stdout",
          "text": [
            "['cuttlefish', 'squid']\n"
          ]
        }
      ]
    },
    {
      "cell_type": "markdown",
      "source": [
        "### Change List Items"
      ],
      "metadata": {
        "id": "gen-Wglf98hK"
      }
    },
    {
      "cell_type": "markdown",
      "source": [
        "#### Change Item Value"
      ],
      "metadata": {
        "id": "PVrK536y-A8L"
      }
    },
    {
      "cell_type": "code",
      "source": [
        "print(sea_creatures)"
      ],
      "metadata": {
        "colab": {
          "base_uri": "https://localhost:8080/"
        },
        "id": "0AE9ESzL-W8q",
        "outputId": "2e8162b7-835b-4af8-8135-d66648f41d68"
      },
      "execution_count": 12,
      "outputs": [
        {
          "output_type": "stream",
          "name": "stdout",
          "text": [
            "['shark', 'cuttlefish', 'squid', 'mantis shrimp', 'octobus']\n"
          ]
        }
      ]
    },
    {
      "cell_type": "code",
      "source": [
        "sea_creatures[2] = 'Tuna'"
      ],
      "metadata": {
        "id": "z08bJ8iAH5HY"
      },
      "execution_count": 13,
      "outputs": []
    },
    {
      "cell_type": "code",
      "source": [
        "print(sea_creatures)"
      ],
      "metadata": {
        "colab": {
          "base_uri": "https://localhost:8080/"
        },
        "id": "3eNon_QVIBzg",
        "outputId": "10aa9db6-f2fb-4161-d4b0-e24fdee32dd5"
      },
      "execution_count": 14,
      "outputs": [
        {
          "output_type": "stream",
          "name": "stdout",
          "text": [
            "['shark', 'cuttlefish', 'Tuna', 'mantis shrimp', 'octobus']\n"
          ]
        }
      ]
    },
    {
      "cell_type": "markdown",
      "source": [
        "#### Change a Range of Item Values"
      ],
      "metadata": {
        "id": "_nKChCwv-V_9"
      }
    },
    {
      "cell_type": "code",
      "source": [
        "sea_creatures[1:3] = ['Electric', 'Solomon']"
      ],
      "metadata": {
        "id": "oCQp5VGb-Z6T"
      },
      "execution_count": 15,
      "outputs": []
    },
    {
      "cell_type": "code",
      "source": [
        "sea_creatures"
      ],
      "metadata": {
        "colab": {
          "base_uri": "https://localhost:8080/"
        },
        "id": "i_paBwufIknb",
        "outputId": "8f7ceb48-f15e-43c9-9e55-4ffec2134ccc"
      },
      "execution_count": 16,
      "outputs": [
        {
          "output_type": "execute_result",
          "data": {
            "text/plain": [
              "['shark', 'Electric', 'Solomon', 'mantis shrimp', 'octobus']"
            ]
          },
          "metadata": {},
          "execution_count": 16
        }
      ]
    },
    {
      "cell_type": "markdown",
      "source": [
        "### Add List Items"
      ],
      "metadata": {
        "id": "x6gRKjgX-d7H"
      }
    },
    {
      "cell_type": "markdown",
      "source": [
        "#### Append Items"
      ],
      "metadata": {
        "id": "QTtiH2nQ-hTE"
      }
    },
    {
      "cell_type": "code",
      "source": [
        "sea_creatures.append('squid')"
      ],
      "metadata": {
        "id": "_lzB6-6F-gGv"
      },
      "execution_count": 17,
      "outputs": []
    },
    {
      "cell_type": "code",
      "source": [
        "sea_creatures"
      ],
      "metadata": {
        "colab": {
          "base_uri": "https://localhost:8080/"
        },
        "id": "QZqNbFchJIPr",
        "outputId": "15519b51-640e-443d-b23e-9a6bcde783b4"
      },
      "execution_count": 18,
      "outputs": [
        {
          "output_type": "execute_result",
          "data": {
            "text/plain": [
              "['shark', 'Electric', 'Solomon', 'mantis shrimp', 'octobus', 'squid']"
            ]
          },
          "metadata": {},
          "execution_count": 18
        }
      ]
    },
    {
      "cell_type": "markdown",
      "source": [
        "#### Insert Items"
      ],
      "metadata": {
        "id": "7vMh-v_0-mXo"
      }
    },
    {
      "cell_type": "code",
      "source": [
        "sea_creatures.insert(1, 'cuttlefish') "
      ],
      "metadata": {
        "id": "TixQNEQd-rkz"
      },
      "execution_count": 19,
      "outputs": []
    },
    {
      "cell_type": "code",
      "source": [
        "sea_creatures"
      ],
      "metadata": {
        "colab": {
          "base_uri": "https://localhost:8080/"
        },
        "id": "jrp7r6lVJuQC",
        "outputId": "6cbc8d6c-9737-42d7-9885-32b7d92da40b"
      },
      "execution_count": 20,
      "outputs": [
        {
          "output_type": "execute_result",
          "data": {
            "text/plain": [
              "['shark',\n",
              " 'cuttlefish',\n",
              " 'Electric',\n",
              " 'Solomon',\n",
              " 'mantis shrimp',\n",
              " 'octobus',\n",
              " 'squid']"
            ]
          },
          "metadata": {},
          "execution_count": 20
        }
      ]
    },
    {
      "cell_type": "markdown",
      "source": [
        "### Remove List Items"
      ],
      "metadata": {
        "id": "lcjefWna-sWB"
      }
    },
    {
      "cell_type": "markdown",
      "source": [
        "#### Remove Specified Item"
      ],
      "metadata": {
        "id": "xJp7PrCZ-uEt"
      }
    },
    {
      "cell_type": "code",
      "source": [
        "sea_creatures"
      ],
      "metadata": {
        "colab": {
          "base_uri": "https://localhost:8080/"
        },
        "id": "Vfljs3bE-yV-",
        "outputId": "22c02b6e-7de2-4793-cb36-8647011aa6f0"
      },
      "execution_count": 21,
      "outputs": [
        {
          "output_type": "execute_result",
          "data": {
            "text/plain": [
              "['shark',\n",
              " 'cuttlefish',\n",
              " 'Electric',\n",
              " 'Solomon',\n",
              " 'mantis shrimp',\n",
              " 'octobus',\n",
              " 'squid']"
            ]
          },
          "metadata": {},
          "execution_count": 21
        }
      ]
    },
    {
      "cell_type": "code",
      "source": [
        "sea_creatures.remove('octobus')"
      ],
      "metadata": {
        "id": "NVgqNrSCJ795"
      },
      "execution_count": 22,
      "outputs": []
    },
    {
      "cell_type": "code",
      "source": [
        "sea_creatures"
      ],
      "metadata": {
        "colab": {
          "base_uri": "https://localhost:8080/"
        },
        "id": "tXSi8M-kKGRr",
        "outputId": "c6792d60-90ce-4943-b09c-e233a7e0c90f"
      },
      "execution_count": 23,
      "outputs": [
        {
          "output_type": "execute_result",
          "data": {
            "text/plain": [
              "['shark', 'cuttlefish', 'Electric', 'Solomon', 'mantis shrimp', 'squid']"
            ]
          },
          "metadata": {},
          "execution_count": 23
        }
      ]
    },
    {
      "cell_type": "markdown",
      "source": [
        "#### Remove Specified Index"
      ],
      "metadata": {
        "id": "qi1dmrtd-yi_"
      }
    },
    {
      "cell_type": "code",
      "source": [
        "sea_creatures.pop(2)"
      ],
      "metadata": {
        "colab": {
          "base_uri": "https://localhost:8080/",
          "height": 35
        },
        "id": "1zaXAoWc-78c",
        "outputId": "58a3f2db-7d7e-4859-9161-ed74ba52b392"
      },
      "execution_count": 24,
      "outputs": [
        {
          "output_type": "execute_result",
          "data": {
            "application/vnd.google.colaboratory.intrinsic+json": {
              "type": "string"
            },
            "text/plain": [
              "'Electric'"
            ]
          },
          "metadata": {},
          "execution_count": 24
        }
      ]
    },
    {
      "cell_type": "code",
      "source": [
        "sea_creatures"
      ],
      "metadata": {
        "colab": {
          "base_uri": "https://localhost:8080/"
        },
        "id": "AYc4iLJqKXsy",
        "outputId": "d61e0019-e3b4-4557-8c4d-69ec972502ee"
      },
      "execution_count": 25,
      "outputs": [
        {
          "output_type": "execute_result",
          "data": {
            "text/plain": [
              "['shark', 'cuttlefish', 'Solomon', 'mantis shrimp', 'squid']"
            ]
          },
          "metadata": {},
          "execution_count": 25
        }
      ]
    },
    {
      "cell_type": "markdown",
      "source": [
        "#### Clear the List"
      ],
      "metadata": {
        "id": "ck7PfbSS-8MU"
      }
    },
    {
      "cell_type": "code",
      "source": [
        "sea_creatures.clear()"
      ],
      "metadata": {
        "id": "BLUPfZ3X_AJh"
      },
      "execution_count": 26,
      "outputs": []
    },
    {
      "cell_type": "code",
      "source": [
        "sea_creatures"
      ],
      "metadata": {
        "colab": {
          "base_uri": "https://localhost:8080/"
        },
        "id": "FedivywhKhlP",
        "outputId": "fa2bb490-b5a7-4ad5-a68f-3798f4df5324"
      },
      "execution_count": 27,
      "outputs": [
        {
          "output_type": "execute_result",
          "data": {
            "text/plain": [
              "[]"
            ]
          },
          "metadata": {},
          "execution_count": 27
        }
      ]
    },
    {
      "cell_type": "markdown",
      "source": [
        "### Loop Lists"
      ],
      "metadata": {
        "id": "5hUx0vY-_C8N"
      }
    },
    {
      "cell_type": "markdown",
      "source": [
        "#### Loop Through a List"
      ],
      "metadata": {
        "id": "ytXh3e2g_LKY"
      }
    },
    {
      "cell_type": "code",
      "source": [
        "sea_creatures1"
      ],
      "metadata": {
        "colab": {
          "base_uri": "https://localhost:8080/"
        },
        "id": "RQbeKL_l_NQR",
        "outputId": "7eca41d1-ef42-4461-b051-190fce3196b5"
      },
      "execution_count": 28,
      "outputs": [
        {
          "output_type": "execute_result",
          "data": {
            "text/plain": [
              "['shark', 'cuttlefish', 'squid', 'mantis shrimp', 'octobus', 'squid']"
            ]
          },
          "metadata": {},
          "execution_count": 28
        }
      ]
    },
    {
      "cell_type": "code",
      "source": [
        "for item in sea_creatures1:\n",
        "  print(item)"
      ],
      "metadata": {
        "colab": {
          "base_uri": "https://localhost:8080/"
        },
        "id": "SKj5Bjl2KsM1",
        "outputId": "50ceccb7-78d5-448f-d53c-8c2fc6a92812"
      },
      "execution_count": 29,
      "outputs": [
        {
          "output_type": "stream",
          "name": "stdout",
          "text": [
            "shark\n",
            "cuttlefish\n",
            "squid\n",
            "mantis shrimp\n",
            "octobus\n",
            "squid\n"
          ]
        }
      ]
    },
    {
      "cell_type": "markdown",
      "source": [
        "#### Loop Through the Index Numbers"
      ],
      "metadata": {
        "id": "zeZJBT3i_NaK"
      }
    },
    {
      "cell_type": "code",
      "source": [
        "len(sea_creatures1)"
      ],
      "metadata": {
        "colab": {
          "base_uri": "https://localhost:8080/"
        },
        "id": "UDBS9RkwLMUV",
        "outputId": "ff2cdd81-83ea-4a49-846c-0aee1aea332e"
      },
      "execution_count": 30,
      "outputs": [
        {
          "output_type": "execute_result",
          "data": {
            "text/plain": [
              "6"
            ]
          },
          "metadata": {},
          "execution_count": 30
        }
      ]
    },
    {
      "cell_type": "code",
      "source": [
        "for i in range(len(sea_creatures1)):\n",
        "  print(sea_creatures1[i])"
      ],
      "metadata": {
        "colab": {
          "base_uri": "https://localhost:8080/"
        },
        "id": "9c7Cizd-_SjL",
        "outputId": "26dd7494-5e16-488f-c0ef-35907f41a032"
      },
      "execution_count": 33,
      "outputs": [
        {
          "output_type": "stream",
          "name": "stdout",
          "text": [
            "shark\n",
            "cuttlefish\n",
            "squid\n",
            "mantis shrimp\n",
            "octobus\n",
            "squid\n"
          ]
        }
      ]
    },
    {
      "cell_type": "markdown",
      "source": [
        "### Sort Lists"
      ],
      "metadata": {
        "id": "ECv7vldG_lF6"
      }
    },
    {
      "cell_type": "markdown",
      "source": [
        "#### Sort List Alphanumerically"
      ],
      "metadata": {
        "id": "OK24zUPi_sWM"
      }
    },
    {
      "cell_type": "code",
      "source": [
        "sea_creatures1.sort()"
      ],
      "metadata": {
        "id": "y3v_0OZ4_o1n"
      },
      "execution_count": 34,
      "outputs": []
    },
    {
      "cell_type": "code",
      "source": [
        "sea_creatures1"
      ],
      "metadata": {
        "colab": {
          "base_uri": "https://localhost:8080/"
        },
        "id": "8vGgNtORLqI1",
        "outputId": "6ff23d42-c2f2-4575-95ad-7c5581be8503"
      },
      "execution_count": 35,
      "outputs": [
        {
          "output_type": "execute_result",
          "data": {
            "text/plain": [
              "['cuttlefish', 'mantis shrimp', 'octobus', 'shark', 'squid', 'squid']"
            ]
          },
          "metadata": {},
          "execution_count": 35
        }
      ]
    },
    {
      "cell_type": "markdown",
      "source": [
        "#### Sort Descending"
      ],
      "metadata": {
        "id": "0vGT-9ei_pJr"
      }
    },
    {
      "cell_type": "code",
      "source": [
        "sea_creatures1.sort(reverse=True)"
      ],
      "metadata": {
        "id": "rjFIPUBF_ziu"
      },
      "execution_count": 36,
      "outputs": []
    },
    {
      "cell_type": "code",
      "source": [
        "sea_creatures1"
      ],
      "metadata": {
        "colab": {
          "base_uri": "https://localhost:8080/"
        },
        "id": "Loo8SfD_L1t7",
        "outputId": "5cbbe19c-e431-4175-f40a-da41dec0e97d"
      },
      "execution_count": 37,
      "outputs": [
        {
          "output_type": "execute_result",
          "data": {
            "text/plain": [
              "['squid', 'squid', 'shark', 'octobus', 'mantis shrimp', 'cuttlefish']"
            ]
          },
          "metadata": {},
          "execution_count": 37
        }
      ]
    },
    {
      "cell_type": "markdown",
      "source": [
        "### Copy Lists"
      ],
      "metadata": {
        "id": "bvNpaTPo_0LH"
      }
    },
    {
      "cell_type": "code",
      "source": [
        "sea_creatures2 = sea_creatures1 # shallow copy"
      ],
      "metadata": {
        "id": "M7E3gObW_5u5"
      },
      "execution_count": 39,
      "outputs": []
    },
    {
      "cell_type": "code",
      "source": [
        "sea_creatures2"
      ],
      "metadata": {
        "colab": {
          "base_uri": "https://localhost:8080/"
        },
        "id": "2DZr4XhZMUaN",
        "outputId": "19b2aa7b-9351-4b2d-a5aa-1977829bbda1"
      },
      "execution_count": 40,
      "outputs": [
        {
          "output_type": "execute_result",
          "data": {
            "text/plain": [
              "['squid', 'squid', 'shark', 'octobus', 'mantis shrimp', 'cuttlefish']"
            ]
          },
          "metadata": {},
          "execution_count": 40
        }
      ]
    },
    {
      "cell_type": "code",
      "source": [
        "sea_creatures1.insert(1, \"Tuna\")"
      ],
      "metadata": {
        "id": "vy_vjQJWMbVT"
      },
      "execution_count": 41,
      "outputs": []
    },
    {
      "cell_type": "code",
      "source": [
        "sea_creatures2"
      ],
      "metadata": {
        "colab": {
          "base_uri": "https://localhost:8080/"
        },
        "id": "M8fLFCJxMic5",
        "outputId": "e0902b2b-a1e6-4dae-f92b-1654c38b5652"
      },
      "execution_count": 42,
      "outputs": [
        {
          "output_type": "execute_result",
          "data": {
            "text/plain": [
              "['squid', 'Tuna', 'squid', 'shark', 'octobus', 'mantis shrimp', 'cuttlefish']"
            ]
          },
          "metadata": {},
          "execution_count": 42
        }
      ]
    },
    {
      "cell_type": "code",
      "source": [
        "sea_creatures3 = sea_creatures1.copy() # Deep copy"
      ],
      "metadata": {
        "id": "yRAaFRziMtmc"
      },
      "execution_count": 43,
      "outputs": []
    },
    {
      "cell_type": "code",
      "source": [
        "sea_creatures3"
      ],
      "metadata": {
        "colab": {
          "base_uri": "https://localhost:8080/"
        },
        "id": "8Wds7TKCMzgC",
        "outputId": "59c84e77-75ed-42dd-f840-d8dcd51528b8"
      },
      "execution_count": 44,
      "outputs": [
        {
          "output_type": "execute_result",
          "data": {
            "text/plain": [
              "['squid', 'Tuna', 'squid', 'shark', 'octobus', 'mantis shrimp', 'cuttlefish']"
            ]
          },
          "metadata": {},
          "execution_count": 44
        }
      ]
    },
    {
      "cell_type": "code",
      "source": [
        "sea_creatures1.append(\"Tuna\")"
      ],
      "metadata": {
        "id": "fOfOCeZ7M7XS"
      },
      "execution_count": 45,
      "outputs": []
    },
    {
      "cell_type": "code",
      "source": [
        "sea_creatures3"
      ],
      "metadata": {
        "colab": {
          "base_uri": "https://localhost:8080/"
        },
        "id": "3oj2VN_kNAGf",
        "outputId": "5efcb319-e2d2-49b2-a37d-a625baf7f828"
      },
      "execution_count": 46,
      "outputs": [
        {
          "output_type": "execute_result",
          "data": {
            "text/plain": [
              "['squid', 'Tuna', 'squid', 'shark', 'octobus', 'mantis shrimp', 'cuttlefish']"
            ]
          },
          "metadata": {},
          "execution_count": 46
        }
      ]
    },
    {
      "cell_type": "code",
      "source": [
        "sea_creatures1"
      ],
      "metadata": {
        "colab": {
          "base_uri": "https://localhost:8080/"
        },
        "id": "Zn7etn1LNHlP",
        "outputId": "e2cf17aa-00aa-4cdc-8d81-36cd817a6459"
      },
      "execution_count": 47,
      "outputs": [
        {
          "output_type": "execute_result",
          "data": {
            "text/plain": [
              "['squid',\n",
              " 'Tuna',\n",
              " 'squid',\n",
              " 'shark',\n",
              " 'octobus',\n",
              " 'mantis shrimp',\n",
              " 'cuttlefish',\n",
              " 'Tuna']"
            ]
          },
          "metadata": {},
          "execution_count": 47
        }
      ]
    },
    {
      "cell_type": "markdown",
      "source": [
        "### Join Lists"
      ],
      "metadata": {
        "id": "onbGyKaE__Th"
      }
    },
    {
      "cell_type": "code",
      "source": [
        "myFishList = sea_creatures1 + sea_creatures3"
      ],
      "metadata": {
        "id": "tTIxi-jJAA9j"
      },
      "execution_count": 48,
      "outputs": []
    },
    {
      "cell_type": "code",
      "source": [
        "myFishList"
      ],
      "metadata": {
        "colab": {
          "base_uri": "https://localhost:8080/"
        },
        "id": "mkMrs3H0N8hE",
        "outputId": "a531dd5f-c43e-4dd9-b152-428660897670"
      },
      "execution_count": 49,
      "outputs": [
        {
          "output_type": "execute_result",
          "data": {
            "text/plain": [
              "['squid',\n",
              " 'Tuna',\n",
              " 'squid',\n",
              " 'shark',\n",
              " 'octobus',\n",
              " 'mantis shrimp',\n",
              " 'cuttlefish',\n",
              " 'Tuna',\n",
              " 'squid',\n",
              " 'Tuna',\n",
              " 'squid',\n",
              " 'shark',\n",
              " 'octobus',\n",
              " 'mantis shrimp',\n",
              " 'cuttlefish']"
            ]
          },
          "metadata": {},
          "execution_count": 49
        }
      ]
    }
  ]
}