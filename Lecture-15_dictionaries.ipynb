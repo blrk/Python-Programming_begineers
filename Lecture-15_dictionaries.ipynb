{
  "nbformat": 4,
  "nbformat_minor": 0,
  "metadata": {
    "colab": {
      "name": "Ex_4.ipynb",
      "provenance": []
    },
    "kernelspec": {
      "name": "python3",
      "display_name": "Python 3"
    },
    "language_info": {
      "name": "python"
    }
  },
  "cells": [
    {
      "cell_type": "markdown",
      "source": [
        "### Dictionaries\n",
        "* data type built into Python\n",
        "* used to store data values in **key:value** pairs.\n",
        "* found in other languages as “associative memories” or “associative arrays”. \n",
        "* indexed by keys, which can be any immutable type; strings and numbers can always be keys. \n",
        "* A pair of braces creates an empty dictionary: {}.\n",
        "* Placing a comma-separated list of key:value pairs within the braces adds initial **key:value** pairs to the dictionary\n"
      ],
      "metadata": {
        "id": "rISxdgz-8PbM"
      }
    },
    {
      "cell_type": "code",
      "source": [
        "emptyDict = {}"
      ],
      "metadata": {
        "id": "4m1x1gQ_IyDh"
      },
      "execution_count": null,
      "outputs": []
    },
    {
      "cell_type": "code",
      "source": [
        "emptyDict"
      ],
      "metadata": {
        "colab": {
          "base_uri": "https://localhost:8080/"
        },
        "id": "4nYBKFpcI2XZ",
        "outputId": "a665e177-21d0-4329-897a-ae099ae3ea98"
      },
      "execution_count": null,
      "outputs": [
        {
          "output_type": "execute_result",
          "data": {
            "text/plain": [
              "{}"
            ]
          },
          "metadata": {},
          "execution_count": 2
        }
      ]
    },
    {
      "cell_type": "code",
      "execution_count": null,
      "metadata": {
        "id": "rmBFO_VG8Ime"
      },
      "outputs": [],
      "source": [
        "tel = {\n",
        "    \"rk\": 4414, \n",
        "    \"john\":2134, \n",
        "    \"kevin\": 3456\n",
        "    }"
      ]
    },
    {
      "cell_type": "code",
      "source": [
        "tel"
      ],
      "metadata": {
        "colab": {
          "base_uri": "https://localhost:8080/"
        },
        "id": "TJC1jiW0I9tz",
        "outputId": "827072e7-876f-4721-e968-00bb26562be1"
      },
      "execution_count": null,
      "outputs": [
        {
          "output_type": "execute_result",
          "data": {
            "text/plain": [
              "{'john': 2134, 'kevin': 3456, 'rk': 4414}"
            ]
          },
          "metadata": {},
          "execution_count": 4
        }
      ]
    },
    {
      "cell_type": "markdown",
      "source": [
        "* The main operations on a dictionary are storing a value with some key and extracting the value given the key. \n",
        "* It is also possible to delete a **key:value** pair with del. \n",
        "* If you store using a key that is already in use, the old value associated with that key is forgotten. \n",
        "* It is an error to extract a value using a non-existent key."
      ],
      "metadata": {
        "id": "_OLUP8osAItn"
      }
    },
    {
      "cell_type": "code",
      "source": [
        "tel['rk']"
      ],
      "metadata": {
        "colab": {
          "base_uri": "https://localhost:8080/"
        },
        "id": "Colp6GpCAIVq",
        "outputId": "d4c5e028-5fe4-476a-b9c3-3a50db26bc4f"
      },
      "execution_count": null,
      "outputs": [
        {
          "output_type": "execute_result",
          "data": {
            "text/plain": [
              "4414"
            ]
          },
          "metadata": {},
          "execution_count": 5
        }
      ]
    },
    {
      "cell_type": "markdown",
      "source": [
        "* Performing list(d) on a dictionary returns a list of all the keys used in the dictionary\n",
        "* sorted(d) returns the sorted order.\n",
        "* To check whether a single key is in the dictionary, use the in keyword."
      ],
      "metadata": {
        "id": "w_E1wgfwAcRK"
      }
    },
    {
      "cell_type": "code",
      "source": [
        "list(tel)"
      ],
      "metadata": {
        "colab": {
          "base_uri": "https://localhost:8080/"
        },
        "id": "_6a58EEGA0f0",
        "outputId": "17b5d3f2-270f-4fee-edfa-0739574b3de2"
      },
      "execution_count": null,
      "outputs": [
        {
          "output_type": "execute_result",
          "data": {
            "text/plain": [
              "['rk', 'john', 'kevin']"
            ]
          },
          "metadata": {},
          "execution_count": 6
        }
      ]
    },
    {
      "cell_type": "code",
      "source": [
        "'rk' in tel"
      ],
      "metadata": {
        "colab": {
          "base_uri": "https://localhost:8080/"
        },
        "id": "f5M9sghjJwNF",
        "outputId": "337e27ff-3f73-4e43-d58f-6996e1dcf40b"
      },
      "execution_count": null,
      "outputs": [
        {
          "output_type": "execute_result",
          "data": {
            "text/plain": [
              "True"
            ]
          },
          "metadata": {},
          "execution_count": 7
        }
      ]
    },
    {
      "cell_type": "code",
      "source": [
        "'jose' in tel"
      ],
      "metadata": {
        "colab": {
          "base_uri": "https://localhost:8080/"
        },
        "id": "pEFYuZbOJ3bs",
        "outputId": "9c9eb925-6756-4084-f513-25f11e7db0a8"
      },
      "execution_count": null,
      "outputs": [
        {
          "output_type": "execute_result",
          "data": {
            "text/plain": [
              "False"
            ]
          },
          "metadata": {},
          "execution_count": 8
        }
      ]
    },
    {
      "cell_type": "markdown",
      "source": [
        "### Accessing Items\n",
        "* using key\n",
        "* using get()\n"
      ],
      "metadata": {
        "id": "Ibnrb-aBBZpw"
      }
    },
    {
      "cell_type": "code",
      "source": [
        "fruit = {\n",
        "    \"name\": \"Mango\",\n",
        "    \"colour\": \"yellow\",\n",
        "    \"price\": 250\n",
        "}"
      ],
      "metadata": {
        "id": "SFPHQnnBBuY5"
      },
      "execution_count": null,
      "outputs": []
    },
    {
      "cell_type": "code",
      "source": [
        "fruit"
      ],
      "metadata": {
        "colab": {
          "base_uri": "https://localhost:8080/"
        },
        "id": "4LD6NN5AKSoD",
        "outputId": "f3194f58-cc90-448f-e4f2-10d1011275e2"
      },
      "execution_count": null,
      "outputs": [
        {
          "output_type": "execute_result",
          "data": {
            "text/plain": [
              "{'colour': 'yellow', 'name': 'Mango', 'price': 250}"
            ]
          },
          "metadata": {},
          "execution_count": 10
        }
      ]
    },
    {
      "cell_type": "code",
      "source": [
        "print(fruit['price'])"
      ],
      "metadata": {
        "colab": {
          "base_uri": "https://localhost:8080/"
        },
        "id": "FJkj6RFLKY2Q",
        "outputId": "fb74205d-dfea-4f20-e00f-96a8b7a7b8c5"
      },
      "execution_count": null,
      "outputs": [
        {
          "output_type": "stream",
          "name": "stdout",
          "text": [
            "250\n"
          ]
        }
      ]
    },
    {
      "cell_type": "code",
      "source": [
        "print(fruit.get('name'))"
      ],
      "metadata": {
        "colab": {
          "base_uri": "https://localhost:8080/"
        },
        "id": "46pFCk-TKmog",
        "outputId": "b835b96f-66b9-4649-e4c7-0a5bac2bb1a0"
      },
      "execution_count": null,
      "outputs": [
        {
          "output_type": "stream",
          "name": "stdout",
          "text": [
            "Mango\n"
          ]
        }
      ]
    },
    {
      "cell_type": "markdown",
      "source": [
        "#### Get Keys\n",
        "* keys() -- return a list of all the keys in the dictionary."
      ],
      "metadata": {
        "id": "pPaKNe8VBux4"
      }
    },
    {
      "cell_type": "code",
      "source": [
        "print(fruit.keys())"
      ],
      "metadata": {
        "colab": {
          "base_uri": "https://localhost:8080/"
        },
        "id": "q1VjEWw7B8Bf",
        "outputId": "82c62b79-8e7b-4c66-dad9-8b1863fd4822"
      },
      "execution_count": null,
      "outputs": [
        {
          "output_type": "stream",
          "name": "stdout",
          "text": [
            "dict_keys(['name', 'colour', 'price'])\n"
          ]
        }
      ]
    },
    {
      "cell_type": "markdown",
      "source": [
        "#### Get Values\n",
        "* values() -- return a list of all the values in the dictionary."
      ],
      "metadata": {
        "id": "l4vcmtdWB8Lq"
      }
    },
    {
      "cell_type": "code",
      "source": [
        "print(fruit.values())"
      ],
      "metadata": {
        "colab": {
          "base_uri": "https://localhost:8080/"
        },
        "id": "F-_vKa4_LDJs",
        "outputId": "0b48f3d9-94df-429c-fbaf-f3fd059666ae"
      },
      "execution_count": null,
      "outputs": [
        {
          "output_type": "stream",
          "name": "stdout",
          "text": [
            "dict_values(['Mango', 'yellow', 250])\n"
          ]
        }
      ]
    },
    {
      "cell_type": "markdown",
      "source": [
        "#### Get Items\n",
        "* items() -- return each item in a dictionary, as tuples in a list."
      ],
      "metadata": {
        "id": "FD_JWSh5CFWh"
      }
    },
    {
      "cell_type": "code",
      "source": [
        "fruit"
      ],
      "metadata": {
        "colab": {
          "base_uri": "https://localhost:8080/"
        },
        "id": "inP1IXMNCMSw",
        "outputId": "84e1e37e-d0e7-4d23-86af-bfe7ae2ec804"
      },
      "execution_count": null,
      "outputs": [
        {
          "output_type": "execute_result",
          "data": {
            "text/plain": [
              "{'colour': 'yellow', 'name': 'Mango', 'price': 250}"
            ]
          },
          "metadata": {},
          "execution_count": 15
        }
      ]
    },
    {
      "cell_type": "code",
      "source": [
        "print(fruit.items())"
      ],
      "metadata": {
        "colab": {
          "base_uri": "https://localhost:8080/"
        },
        "id": "JtF_IyxALTt-",
        "outputId": "d4a892f0-01d8-4431-fffb-a35f92bed78b"
      },
      "execution_count": null,
      "outputs": [
        {
          "output_type": "stream",
          "name": "stdout",
          "text": [
            "dict_items([('name', 'Mango'), ('colour', 'yellow'), ('price', 250)])\n"
          ]
        }
      ]
    },
    {
      "cell_type": "markdown",
      "source": [
        "#### Check the existence of a key"
      ],
      "metadata": {
        "id": "sgI7ogfxCMnw"
      }
    },
    {
      "cell_type": "code",
      "source": [
        "'name' in fruit"
      ],
      "metadata": {
        "colab": {
          "base_uri": "https://localhost:8080/"
        },
        "id": "g-6vTYrJCWgM",
        "outputId": "8a0f6c1b-a833-41e4-def6-5540eda88b98"
      },
      "execution_count": null,
      "outputs": [
        {
          "output_type": "execute_result",
          "data": {
            "text/plain": [
              "True"
            ]
          },
          "metadata": {},
          "execution_count": 18
        }
      ]
    },
    {
      "cell_type": "markdown",
      "source": [
        "### Change Dictionary Items\n",
        "#### Change Values"
      ],
      "metadata": {
        "id": "Fgq03EMrCcgI"
      }
    },
    {
      "cell_type": "code",
      "source": [
        "fruit['price'] = 260"
      ],
      "metadata": {
        "id": "HTFZIw0NChaS"
      },
      "execution_count": null,
      "outputs": []
    },
    {
      "cell_type": "code",
      "source": [
        "fruit"
      ],
      "metadata": {
        "colab": {
          "base_uri": "https://localhost:8080/"
        },
        "id": "lM33cFn7MFnW",
        "outputId": "8440125b-68e0-4c84-8609-aeb86c056233"
      },
      "execution_count": null,
      "outputs": [
        {
          "output_type": "execute_result",
          "data": {
            "text/plain": [
              "{'colour': 'yellow', 'name': 'Mango', 'price': 260}"
            ]
          },
          "metadata": {},
          "execution_count": 20
        }
      ]
    },
    {
      "cell_type": "markdown",
      "source": [
        "#### Update Dictionary\n",
        "* update() -- update the dictionary with the items from the given argument.\n",
        "* argument must be a dictionary, or an iterable object with **key:value** pairs."
      ],
      "metadata": {
        "id": "QVUd5lW0ChjJ"
      }
    },
    {
      "cell_type": "code",
      "source": [
        "fruit.update('price': 270)"
      ],
      "metadata": {
        "colab": {
          "base_uri": "https://localhost:8080/",
          "height": 131
        },
        "id": "B44ceiwwCx3a",
        "outputId": "0e16d57a-8cbe-43ea-e3d3-f82bf4fad879"
      },
      "execution_count": null,
      "outputs": [
        {
          "output_type": "error",
          "ename": "SyntaxError",
          "evalue": "ignored",
          "traceback": [
            "\u001b[0;36m  File \u001b[0;32m\"<ipython-input-24-757d8a54099f>\"\u001b[0;36m, line \u001b[0;32m1\u001b[0m\n\u001b[0;31m    fruit.update('price': 270)\u001b[0m\n\u001b[0m                        ^\u001b[0m\n\u001b[0;31mSyntaxError\u001b[0m\u001b[0;31m:\u001b[0m invalid syntax\n"
          ]
        }
      ]
    },
    {
      "cell_type": "code",
      "source": [
        "fruit.update({'price': 270})"
      ],
      "metadata": {
        "id": "GaAUV-ZiMZc8"
      },
      "execution_count": null,
      "outputs": []
    },
    {
      "cell_type": "code",
      "source": [
        "fruit"
      ],
      "metadata": {
        "colab": {
          "base_uri": "https://localhost:8080/"
        },
        "id": "32tULtQKMfh2",
        "outputId": "4d401e82-0007-4da1-a1d6-2936c5cb4409"
      },
      "execution_count": null,
      "outputs": [
        {
          "output_type": "execute_result",
          "data": {
            "text/plain": [
              "{'colour': 'yellow', 'fruit': 270, 'name': 'Mango', 'price': 270}"
            ]
          },
          "metadata": {},
          "execution_count": 26
        }
      ]
    },
    {
      "cell_type": "markdown",
      "source": [
        "### Adding Items"
      ],
      "metadata": {
        "id": "6c6XjCWRC3TJ"
      }
    },
    {
      "cell_type": "code",
      "source": [
        "fruit[\"owner\"] = \"rk\""
      ],
      "metadata": {
        "id": "TClrKGLVC-tP"
      },
      "execution_count": null,
      "outputs": []
    },
    {
      "cell_type": "code",
      "source": [
        "fruit"
      ],
      "metadata": {
        "colab": {
          "base_uri": "https://localhost:8080/"
        },
        "id": "i0LiGTNVM3bN",
        "outputId": "22503f3d-b640-4809-fe47-c68e1ada99e9"
      },
      "execution_count": null,
      "outputs": [
        {
          "output_type": "execute_result",
          "data": {
            "text/plain": [
              "{'colour': 'yellow',\n",
              " 'fruit': 270,\n",
              " 'name': 'Mango',\n",
              " 'owner': 'rk',\n",
              " 'price': 270}"
            ]
          },
          "metadata": {},
          "execution_count": 28
        }
      ]
    },
    {
      "cell_type": "markdown",
      "source": [
        "#### Update Dictionary\n",
        "* update() -- update the dictionary with the items from a given argument. \n",
        "* If the item does not exist, the item will be added."
      ],
      "metadata": {
        "id": "H6TS5BwbC_pr"
      }
    },
    {
      "cell_type": "code",
      "source": [
        "fruit.update({\"cultivationType\": \"Natural\"})"
      ],
      "metadata": {
        "id": "O9yWNTFTDS__"
      },
      "execution_count": null,
      "outputs": []
    },
    {
      "cell_type": "code",
      "source": [
        "fruit"
      ],
      "metadata": {
        "colab": {
          "base_uri": "https://localhost:8080/"
        },
        "id": "YWV_A7L3NRwv",
        "outputId": "2efff054-2aac-4890-ebdc-694823c72ccc"
      },
      "execution_count": null,
      "outputs": [
        {
          "output_type": "execute_result",
          "data": {
            "text/plain": [
              "{'colour': 'yellow',\n",
              " 'cultivationType': 'Natural',\n",
              " 'fruit': 270,\n",
              " 'name': 'Mango',\n",
              " 'owner': 'rk',\n",
              " 'price': 270}"
            ]
          },
          "metadata": {},
          "execution_count": 30
        }
      ]
    },
    {
      "cell_type": "markdown",
      "source": [
        "### Remove Dictionary Items\n",
        "#### Removing Items\n",
        "* pop() -- removes the item with the specified key name:"
      ],
      "metadata": {
        "id": "ual5qMmsDWRK"
      }
    },
    {
      "cell_type": "code",
      "source": [
        "fruit.pop(\"fruit\")"
      ],
      "metadata": {
        "colab": {
          "base_uri": "https://localhost:8080/"
        },
        "id": "K8Br3r5jDhRw",
        "outputId": "a4ae2d1e-8300-465d-863a-82c2223d4dae"
      },
      "execution_count": null,
      "outputs": [
        {
          "output_type": "execute_result",
          "data": {
            "text/plain": [
              "270"
            ]
          },
          "metadata": {},
          "execution_count": 31
        }
      ]
    },
    {
      "cell_type": "code",
      "source": [
        "fruit"
      ],
      "metadata": {
        "colab": {
          "base_uri": "https://localhost:8080/"
        },
        "id": "XQxYz7TgNrSc",
        "outputId": "6dba1602-e3be-428f-9eb3-1e64d2fa789e"
      },
      "execution_count": null,
      "outputs": [
        {
          "output_type": "execute_result",
          "data": {
            "text/plain": [
              "{'colour': 'yellow',\n",
              " 'cultivationType': 'Natural',\n",
              " 'name': 'Mango',\n",
              " 'owner': 'rk',\n",
              " 'price': 270}"
            ]
          },
          "metadata": {},
          "execution_count": 32
        }
      ]
    },
    {
      "cell_type": "markdown",
      "source": [
        "* popitem()  -- removes the last inserted item\n",
        "* Note : before py 3.7 removes a random item"
      ],
      "metadata": {
        "id": "tOOAm2-dDhcs"
      }
    },
    {
      "cell_type": "code",
      "source": [
        "fruit.popitem()"
      ],
      "metadata": {
        "colab": {
          "base_uri": "https://localhost:8080/"
        },
        "id": "fgA7a1umDyPu",
        "outputId": "6b45d97f-cfff-4299-d3ec-82e1ee9e581c"
      },
      "execution_count": null,
      "outputs": [
        {
          "output_type": "execute_result",
          "data": {
            "text/plain": [
              "('cultivationType', 'Natural')"
            ]
          },
          "metadata": {},
          "execution_count": 33
        }
      ]
    },
    {
      "cell_type": "markdown",
      "source": [
        "* del -- removes the item with the specified key name:"
      ],
      "metadata": {
        "id": "jUDN08hOD3Gd"
      }
    },
    {
      "cell_type": "code",
      "source": [
        "del fruit['owner']"
      ],
      "metadata": {
        "id": "w906tYFFODiX"
      },
      "execution_count": null,
      "outputs": []
    },
    {
      "cell_type": "code",
      "source": [
        "fruit"
      ],
      "metadata": {
        "colab": {
          "base_uri": "https://localhost:8080/"
        },
        "id": "L7h1YWM3OILl",
        "outputId": "3260fc94-0488-46bc-969e-255aa887ecf8"
      },
      "execution_count": null,
      "outputs": [
        {
          "output_type": "execute_result",
          "data": {
            "text/plain": [
              "{'colour': 'yellow', 'name': 'Mango', 'price': 270}"
            ]
          },
          "metadata": {},
          "execution_count": 35
        }
      ]
    },
    {
      "cell_type": "code",
      "source": [
        "fruit.clear()"
      ],
      "metadata": {
        "id": "YdkDxaq6OPpT"
      },
      "execution_count": null,
      "outputs": []
    },
    {
      "cell_type": "code",
      "source": [
        "fruit"
      ],
      "metadata": {
        "colab": {
          "base_uri": "https://localhost:8080/"
        },
        "id": "KqUpIZFmOT5Q",
        "outputId": "47302f24-ca77-40bd-8ad5-3e4230ec6c53"
      },
      "execution_count": null,
      "outputs": [
        {
          "output_type": "execute_result",
          "data": {
            "text/plain": [
              "{}"
            ]
          },
          "metadata": {},
          "execution_count": 37
        }
      ]
    },
    {
      "cell_type": "markdown",
      "source": [
        "### Using loop in dictionary"
      ],
      "metadata": {
        "id": "dH5MixCgEkjw"
      }
    },
    {
      "cell_type": "code",
      "source": [
        "fruit = {'colour': 'yellow', 'name': 'Mango', 'price': 270}"
      ],
      "metadata": {
        "id": "xsra3M9GObaX"
      },
      "execution_count": 2,
      "outputs": []
    },
    {
      "cell_type": "code",
      "source": [
        "for i in fruit:\n",
        "  print(i)"
      ],
      "metadata": {
        "colab": {
          "base_uri": "https://localhost:8080/"
        },
        "id": "3NScgUXBOfa8",
        "outputId": "3a53e0b4-4166-431b-d4c2-55ddaecc7eca"
      },
      "execution_count": null,
      "outputs": [
        {
          "output_type": "stream",
          "name": "stdout",
          "text": [
            "colour\n",
            "name\n",
            "price\n"
          ]
        }
      ]
    },
    {
      "cell_type": "code",
      "source": [
        "for i in fruit:\n",
        "  print(fruit[i])"
      ],
      "metadata": {
        "colab": {
          "base_uri": "https://localhost:8080/"
        },
        "id": "h_sd7OadOpb-",
        "outputId": "f3aad381-fd16-40ff-c8ad-4ab8f262bd2a"
      },
      "execution_count": 3,
      "outputs": [
        {
          "output_type": "stream",
          "name": "stdout",
          "text": [
            "yellow\n",
            "Mango\n",
            "270\n"
          ]
        }
      ]
    },
    {
      "cell_type": "code",
      "source": [
        "for i in fruit.values():\n",
        "  print(i)"
      ],
      "metadata": {
        "colab": {
          "base_uri": "https://localhost:8080/"
        },
        "id": "J9fTCtayPPja",
        "outputId": "9e67d864-5957-4ccc-f6f3-8149f638f5a4"
      },
      "execution_count": 4,
      "outputs": [
        {
          "output_type": "stream",
          "name": "stdout",
          "text": [
            "yellow\n",
            "Mango\n",
            "270\n"
          ]
        }
      ]
    },
    {
      "cell_type": "code",
      "source": [
        "for i in fruit.keys():\n",
        "  print(i)"
      ],
      "metadata": {
        "colab": {
          "base_uri": "https://localhost:8080/"
        },
        "id": "4K9KUTA-PgSv",
        "outputId": "0e18438a-a3fc-4def-a2e0-748eb9a100ac"
      },
      "execution_count": 5,
      "outputs": [
        {
          "output_type": "stream",
          "name": "stdout",
          "text": [
            "colour\n",
            "name\n",
            "price\n"
          ]
        }
      ]
    },
    {
      "cell_type": "markdown",
      "source": [
        "#### Copying dictionaries\n",
        "* can't copy a dictionary\n",
        "* d1 = d2 add a reference\n",
        "* chnages in d2 reflectes in d1\n",
        "* copy() - to make a duplicate "
      ],
      "metadata": {
        "id": "qDQzSMZVEwnk"
      }
    },
    {
      "cell_type": "code",
      "source": [
        "fruit1 = fruit"
      ],
      "metadata": {
        "id": "HQzlW6vAEj_m"
      },
      "execution_count": 6,
      "outputs": []
    },
    {
      "cell_type": "code",
      "source": [
        "fruit1"
      ],
      "metadata": {
        "colab": {
          "base_uri": "https://localhost:8080/"
        },
        "id": "3KmbdxlHPzfs",
        "outputId": "c2bf4587-39c9-4731-9bcf-3609ea8a04de"
      },
      "execution_count": 7,
      "outputs": [
        {
          "output_type": "execute_result",
          "data": {
            "text/plain": [
              "{'colour': 'yellow', 'name': 'Mango', 'price': 270}"
            ]
          },
          "metadata": {},
          "execution_count": 7
        }
      ]
    },
    {
      "cell_type": "code",
      "source": [
        "fruit1.update({\"owner\": \"rk\"})"
      ],
      "metadata": {
        "id": "Jo35imgCP1aI"
      },
      "execution_count": 8,
      "outputs": []
    },
    {
      "cell_type": "code",
      "source": [
        "fruit"
      ],
      "metadata": {
        "colab": {
          "base_uri": "https://localhost:8080/"
        },
        "id": "z5GwWj4vP8S2",
        "outputId": "4f03014f-20b5-461c-a514-a2c8f0076c32"
      },
      "execution_count": 9,
      "outputs": [
        {
          "output_type": "execute_result",
          "data": {
            "text/plain": [
              "{'colour': 'yellow', 'name': 'Mango', 'owner': 'rk', 'price': 270}"
            ]
          },
          "metadata": {},
          "execution_count": 9
        }
      ]
    },
    {
      "cell_type": "code",
      "source": [
        "fruit2 = fruit.copy()"
      ],
      "metadata": {
        "id": "GvhaWR1YQFYB"
      },
      "execution_count": 10,
      "outputs": []
    },
    {
      "cell_type": "code",
      "source": [
        "fruit2"
      ],
      "metadata": {
        "colab": {
          "base_uri": "https://localhost:8080/"
        },
        "id": "_y6uMYAUQMU5",
        "outputId": "68edcdd5-1caf-4156-a334-0b9cd14e50b5"
      },
      "execution_count": 11,
      "outputs": [
        {
          "output_type": "execute_result",
          "data": {
            "text/plain": [
              "{'colour': 'yellow', 'name': 'Mango', 'owner': 'rk', 'price': 270}"
            ]
          },
          "metadata": {},
          "execution_count": 11
        }
      ]
    },
    {
      "cell_type": "code",
      "source": [
        "fruit2.update({\"cultivationType\": \"Organic\"})"
      ],
      "metadata": {
        "id": "u8cuBIBjQPnr"
      },
      "execution_count": 12,
      "outputs": []
    },
    {
      "cell_type": "code",
      "source": [
        "fruit"
      ],
      "metadata": {
        "colab": {
          "base_uri": "https://localhost:8080/"
        },
        "id": "rE8HmvgGQZgV",
        "outputId": "a6164f8e-937d-476a-fe41-914e38275c0e"
      },
      "execution_count": 13,
      "outputs": [
        {
          "output_type": "execute_result",
          "data": {
            "text/plain": [
              "{'colour': 'yellow', 'name': 'Mango', 'owner': 'rk', 'price': 270}"
            ]
          },
          "metadata": {},
          "execution_count": 13
        }
      ]
    },
    {
      "cell_type": "markdown",
      "source": [
        "* Alternative\n",
        "* dict()"
      ],
      "metadata": {
        "id": "QMKYXLKBFO2c"
      }
    },
    {
      "cell_type": "code",
      "source": [
        "fruit4 = dict(fruit)"
      ],
      "metadata": {
        "id": "5i7CMKoEFUAN"
      },
      "execution_count": 14,
      "outputs": []
    },
    {
      "cell_type": "code",
      "source": [
        "fruit4"
      ],
      "metadata": {
        "colab": {
          "base_uri": "https://localhost:8080/"
        },
        "id": "gFRamtEBQii3",
        "outputId": "ca74155a-9b17-4465-c321-9f35d3d53481"
      },
      "execution_count": 15,
      "outputs": [
        {
          "output_type": "execute_result",
          "data": {
            "text/plain": [
              "{'colour': 'yellow', 'name': 'Mango', 'owner': 'rk', 'price': 270}"
            ]
          },
          "metadata": {},
          "execution_count": 15
        }
      ]
    },
    {
      "cell_type": "markdown",
      "source": [
        "### Nested Dictionaries"
      ],
      "metadata": {
        "id": "nBVkLPTeFYR9"
      }
    },
    {
      "cell_type": "code",
      "source": [
        "student = {\n",
        "    \"std1\": {\n",
        "        \"name\": \"John\",\n",
        "        \"age\": 18\n",
        "    },\n",
        "    \"std2\":{\n",
        "        \"name\": \"kevin\",\n",
        "        \"age\": 21\n",
        "    }\n",
        "}"
      ],
      "metadata": {
        "id": "vR3JwXZqFapC"
      },
      "execution_count": null,
      "outputs": []
    },
    {
      "cell_type": "code",
      "source": [
        "student"
      ],
      "metadata": {
        "colab": {
          "base_uri": "https://localhost:8080/"
        },
        "id": "o2a5FTGuRKdI",
        "outputId": "de0bae29-b981-49c7-9ed5-baf189b47fbf"
      },
      "execution_count": null,
      "outputs": [
        {
          "output_type": "execute_result",
          "data": {
            "text/plain": [
              "{'std1': {'age': 18, 'name': 'John'}, 'std2': {'age': 21, 'name': 'kevin'}}"
            ]
          },
          "metadata": {},
          "execution_count": 56
        }
      ]
    },
    {
      "cell_type": "code",
      "source": [
        "print(student[\"std1\"][\"name\"])"
      ],
      "metadata": {
        "colab": {
          "base_uri": "https://localhost:8080/"
        },
        "id": "edpTIiEwSsx4",
        "outputId": "ff6da61a-97f8-4325-9c6c-4ce3bbefbdee"
      },
      "execution_count": null,
      "outputs": [
        {
          "output_type": "stream",
          "name": "stdout",
          "text": [
            "John\n"
          ]
        }
      ]
    }
  ]
}